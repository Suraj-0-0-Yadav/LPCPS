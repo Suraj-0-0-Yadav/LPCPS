{
 "cells": [
  {
   "cell_type": "markdown",
   "id": "7a8ef760-e982-41be-a6c4-d63794dfb7aa",
   "metadata": {},
   "source": [
    "# Logical Operators"
   ]
  },
  {
   "cell_type": "code",
   "execution_count": 1,
   "id": "ddfdae76-5250-48cb-a36d-c33e9eb3403b",
   "metadata": {},
   "outputs": [],
   "source": [
    "a = True\n",
    "b = False"
   ]
  },
  {
   "cell_type": "code",
   "execution_count": 2,
   "id": "db2d2533-1d8a-4542-951d-907c648d7fbb",
   "metadata": {},
   "outputs": [
    {
     "data": {
      "text/plain": [
       "True"
      ]
     },
     "execution_count": 2,
     "metadata": {},
     "output_type": "execute_result"
    }
   ],
   "source": [
    "a or b"
   ]
  },
  {
   "cell_type": "code",
   "execution_count": 3,
   "id": "cbf811f5-0b89-4356-aedf-aff3a0e23123",
   "metadata": {},
   "outputs": [
    {
     "data": {
      "text/plain": [
       "False"
      ]
     },
     "execution_count": 3,
     "metadata": {},
     "output_type": "execute_result"
    }
   ],
   "source": [
    "a and b"
   ]
  },
  {
   "cell_type": "code",
   "execution_count": 4,
   "id": "c81f6054-2f6a-4b69-a690-1f20e36e4cdf",
   "metadata": {},
   "outputs": [
    {
     "data": {
      "text/plain": [
       "False"
      ]
     },
     "execution_count": 4,
     "metadata": {},
     "output_type": "execute_result"
    }
   ],
   "source": [
    "not a"
   ]
  },
  {
   "cell_type": "code",
   "execution_count": 5,
   "id": "72f57c97-8162-44b0-9abb-73e24a31eed7",
   "metadata": {},
   "outputs": [
    {
     "data": {
      "text/plain": [
       "True"
      ]
     },
     "execution_count": 5,
     "metadata": {},
     "output_type": "execute_result"
    }
   ],
   "source": [
    "not b"
   ]
  },
  {
   "cell_type": "markdown",
   "id": "3a0417ab-d065-4e00-816e-94f3c59ac162",
   "metadata": {},
   "source": [
    "# Bitwise Operator"
   ]
  },
  {
   "cell_type": "code",
   "execution_count": 6,
   "id": "3a7901bd-4eae-4087-b733-ab1f3b09931c",
   "metadata": {},
   "outputs": [],
   "source": [
    "a = 5\n",
    "b = 6"
   ]
  },
  {
   "cell_type": "code",
   "execution_count": 7,
   "id": "613502cf-03b1-45f0-bfec-ebb259391d40",
   "metadata": {},
   "outputs": [
    {
     "data": {
      "text/plain": [
       "4"
      ]
     },
     "execution_count": 7,
     "metadata": {},
     "output_type": "execute_result"
    }
   ],
   "source": [
    "a&b"
   ]
  },
  {
   "cell_type": "code",
   "execution_count": 8,
   "id": "9c532e49-d79d-46ef-8300-3c738392ca36",
   "metadata": {},
   "outputs": [],
   "source": [
    "x = 2\n",
    "y = 7"
   ]
  },
  {
   "cell_type": "code",
   "execution_count": 9,
   "id": "295a6f56-a859-4f65-9736-7b99fa785591",
   "metadata": {},
   "outputs": [
    {
     "data": {
      "text/plain": [
       "2"
      ]
     },
     "execution_count": 9,
     "metadata": {},
     "output_type": "execute_result"
    }
   ],
   "source": [
    "x & b"
   ]
  },
  {
   "cell_type": "code",
   "execution_count": 10,
   "id": "73762c72-83a1-4f87-9fca-d785f9ca35d3",
   "metadata": {},
   "outputs": [
    {
     "data": {
      "text/plain": [
       "7"
      ]
     },
     "execution_count": 10,
     "metadata": {},
     "output_type": "execute_result"
    }
   ],
   "source": [
    "a|b"
   ]
  },
  {
   "cell_type": "code",
   "execution_count": 13,
   "id": "d85da2ae-c9ec-4f65-ac21-70796775b6d3",
   "metadata": {},
   "outputs": [],
   "source": [
    "a = 5"
   ]
  },
  {
   "cell_type": "code",
   "execution_count": 14,
   "id": "4065b914-3664-4a38-8e47-f42ab5d3b376",
   "metadata": {},
   "outputs": [
    {
     "data": {
      "text/plain": [
       "-6"
      ]
     },
     "execution_count": 14,
     "metadata": {},
     "output_type": "execute_result"
    }
   ],
   "source": [
    "~a"
   ]
  },
  {
   "cell_type": "markdown",
   "id": "96ac222b-935d-48e1-8c51-6e08051e8916",
   "metadata": {},
   "source": [
    "# Right Shift"
   ]
  },
  {
   "cell_type": "code",
   "execution_count": 15,
   "id": "6a5c7f99-ad59-4263-8f85-91676abc2648",
   "metadata": {},
   "outputs": [],
   "source": [
    "a = 8"
   ]
  },
  {
   "cell_type": "code",
   "execution_count": 30,
   "id": "aa52893e-9301-481d-a9f6-3c768d32c225",
   "metadata": {},
   "outputs": [
    {
     "data": {
      "text/plain": [
       "5"
      ]
     },
     "execution_count": 30,
     "metadata": {},
     "output_type": "execute_result"
    }
   ],
   "source": [
    "a>>1"
   ]
  },
  {
   "cell_type": "code",
   "execution_count": 31,
   "id": "15be7c30-bcc6-4401-9fc5-c603ef3a3bdd",
   "metadata": {},
   "outputs": [
    {
     "data": {
      "text/plain": [
       "2"
      ]
     },
     "execution_count": 31,
     "metadata": {},
     "output_type": "execute_result"
    }
   ],
   "source": [
    "a>>2"
   ]
  },
  {
   "cell_type": "code",
   "execution_count": 18,
   "id": "819b769c-a154-4a99-8b6a-927e3c77884d",
   "metadata": {},
   "outputs": [
    {
     "data": {
      "text/plain": [
       "5"
      ]
     },
     "execution_count": 18,
     "metadata": {},
     "output_type": "execute_result"
    }
   ],
   "source": [
    "b = 10\n",
    "b>>1"
   ]
  },
  {
   "cell_type": "code",
   "execution_count": 32,
   "id": "c1194aa3-ce48-4d7e-89ac-5ac30b88b7ec",
   "metadata": {},
   "outputs": [],
   "source": [
    "x = 7"
   ]
  },
  {
   "cell_type": "code",
   "execution_count": 33,
   "id": "b2861ddd-9e2f-46c8-9c3e-359278755d2c",
   "metadata": {},
   "outputs": [
    {
     "data": {
      "text/plain": [
       "3"
      ]
     },
     "execution_count": 33,
     "metadata": {},
     "output_type": "execute_result"
    }
   ],
   "source": [
    "x>>1"
   ]
  },
  {
   "cell_type": "markdown",
   "id": "58611c53-f18f-40cb-84e0-c7d4444b6bf1",
   "metadata": {},
   "source": [
    "# Left Shift"
   ]
  },
  {
   "cell_type": "code",
   "execution_count": 21,
   "id": "97015866-6c3e-4719-85ff-b739a5539015",
   "metadata": {},
   "outputs": [],
   "source": [
    "a = 10"
   ]
  },
  {
   "cell_type": "code",
   "execution_count": 27,
   "id": "89417815-5a2b-4e65-8b38-c4584e0201f8",
   "metadata": {},
   "outputs": [
    {
     "data": {
      "text/plain": [
       "20"
      ]
     },
     "execution_count": 27,
     "metadata": {},
     "output_type": "execute_result"
    }
   ],
   "source": [
    "a<<1"
   ]
  },
  {
   "cell_type": "code",
   "execution_count": 28,
   "id": "bb175f56-dc7a-443d-a619-eab6948dccbb",
   "metadata": {},
   "outputs": [
    {
     "data": {
      "text/plain": [
       "40"
      ]
     },
     "execution_count": 28,
     "metadata": {},
     "output_type": "execute_result"
    }
   ],
   "source": [
    "a<<2"
   ]
  },
  {
   "cell_type": "code",
   "execution_count": 29,
   "id": "bca32635-91e5-47a4-8466-856ac2b7376b",
   "metadata": {},
   "outputs": [
    {
     "data": {
      "text/plain": [
       "80"
      ]
     },
     "execution_count": 29,
     "metadata": {},
     "output_type": "execute_result"
    }
   ],
   "source": [
    "a<<3"
   ]
  },
  {
   "cell_type": "code",
   "execution_count": 26,
   "id": "43e8e8cb-59b6-46e3-9991-795fbfd77397",
   "metadata": {},
   "outputs": [],
   "source": [
    "b = 5"
   ]
  },
  {
   "cell_type": "code",
   "execution_count": null,
   "id": "9d244932-fc37-4d96-8006-9e47d69bf7fd",
   "metadata": {},
   "outputs": [],
   "source": []
  },
  {
   "cell_type": "code",
   "execution_count": 24,
   "id": "7adc7cb5-1d0f-40c8-a40a-7fdc66308fda",
   "metadata": {},
   "outputs": [
    {
     "data": {
      "text/plain": [
       "10"
      ]
     },
     "execution_count": 24,
     "metadata": {},
     "output_type": "execute_result"
    }
   ],
   "source": [
    "b<<1"
   ]
  },
  {
   "cell_type": "markdown",
   "id": "667eb5aa-ddfb-4731-977a-f4f47e95e0ee",
   "metadata": {},
   "source": [
    "# Identify operators"
   ]
  },
  {
   "cell_type": "code",
   "execution_count": 34,
   "id": "1ae02870-3fd4-490c-b70d-a00490935a7a",
   "metadata": {},
   "outputs": [],
   "source": [
    "p = 10\n",
    "q = 20\n",
    "r = 10"
   ]
  },
  {
   "cell_type": "code",
   "execution_count": 35,
   "id": "e2c93c33-4b53-4f63-b4e9-b6cd45d04e95",
   "metadata": {},
   "outputs": [
    {
     "data": {
      "text/plain": [
       "True"
      ]
     },
     "execution_count": 35,
     "metadata": {},
     "output_type": "execute_result"
    }
   ],
   "source": [
    "p is r"
   ]
  },
  {
   "cell_type": "code",
   "execution_count": 36,
   "id": "3c63419c-4987-4b91-9215-9883e72f43a5",
   "metadata": {},
   "outputs": [
    {
     "data": {
      "text/plain": [
       "False"
      ]
     },
     "execution_count": 36,
     "metadata": {},
     "output_type": "execute_result"
    }
   ],
   "source": [
    "p is q"
   ]
  },
  {
   "cell_type": "code",
   "execution_count": 37,
   "id": "31484a75-a9cd-4af3-9558-ed9cecdfc554",
   "metadata": {},
   "outputs": [
    {
     "data": {
      "text/plain": [
       "True"
      ]
     },
     "execution_count": 37,
     "metadata": {},
     "output_type": "execute_result"
    }
   ],
   "source": [
    "p is not q"
   ]
  },
  {
   "cell_type": "markdown",
   "id": "9648e13b-8343-4e63-b758-5c2d3188a4d3",
   "metadata": {},
   "source": [
    "# Membership Operator"
   ]
  },
  {
   "cell_type": "code",
   "execution_count": 38,
   "id": "6694ca7e-7c0a-466c-b15b-bdf1263fdfd3",
   "metadata": {},
   "outputs": [],
   "source": [
    "a = 10\n",
    "l = [1,2,3,4,10,20,0]"
   ]
  },
  {
   "cell_type": "code",
   "execution_count": 39,
   "id": "2d52ea89-7e92-4044-bdee-1a39eb1a3e00",
   "metadata": {},
   "outputs": [
    {
     "data": {
      "text/plain": [
       "True"
      ]
     },
     "execution_count": 39,
     "metadata": {},
     "output_type": "execute_result"
    }
   ],
   "source": [
    "a in l"
   ]
  },
  {
   "cell_type": "code",
   "execution_count": 40,
   "id": "5980fbd4-c9de-4e1a-ade3-0d89f19915e2",
   "metadata": {},
   "outputs": [
    {
     "data": {
      "text/plain": [
       "True"
      ]
     },
     "execution_count": 40,
     "metadata": {},
     "output_type": "execute_result"
    }
   ],
   "source": [
    "10 in l"
   ]
  },
  {
   "cell_type": "code",
   "execution_count": 41,
   "id": "18f4969e-fefd-4455-a392-abed7202289f",
   "metadata": {},
   "outputs": [
    {
     "data": {
      "text/plain": [
       "False"
      ]
     },
     "execution_count": 41,
     "metadata": {},
     "output_type": "execute_result"
    }
   ],
   "source": [
    "100 in l"
   ]
  },
  {
   "cell_type": "code",
   "execution_count": 42,
   "id": "10190dde-39be-473a-ab85-26dccafcb5d0",
   "metadata": {},
   "outputs": [
    {
     "data": {
      "text/plain": [
       "True"
      ]
     },
     "execution_count": 42,
     "metadata": {},
     "output_type": "execute_result"
    }
   ],
   "source": [
    "100 not in l"
   ]
  },
  {
   "cell_type": "code",
   "execution_count": 44,
   "id": "bb774661-7182-432b-9608-ade5465889e4",
   "metadata": {},
   "outputs": [
    {
     "data": {
      "text/plain": [
       "True"
      ]
     },
     "execution_count": 44,
     "metadata": {},
     "output_type": "execute_result"
    }
   ],
   "source": [
    "\"Python\" not in l"
   ]
  },
  {
   "cell_type": "code",
   "execution_count": 45,
   "id": "0951cf0d-9923-4764-8114-32db3beae8a1",
   "metadata": {},
   "outputs": [],
   "source": [
    "d = {\"Name\":\"Jhon\",\"Age\":50,\"Height\":120}"
   ]
  },
  {
   "cell_type": "code",
   "execution_count": 46,
   "id": "37cd6430-218c-4c53-af2e-0cef2931120f",
   "metadata": {},
   "outputs": [
    {
     "data": {
      "text/plain": [
       "False"
      ]
     },
     "execution_count": 46,
     "metadata": {},
     "output_type": "execute_result"
    }
   ],
   "source": [
    "\"Jhon\" in d"
   ]
  },
  {
   "cell_type": "code",
   "execution_count": 47,
   "id": "a80e34af-f1b7-47f7-a9ea-796159ac0af3",
   "metadata": {},
   "outputs": [
    {
     "data": {
      "text/plain": [
       "True"
      ]
     },
     "execution_count": 47,
     "metadata": {},
     "output_type": "execute_result"
    }
   ],
   "source": [
    "\"Name\" in d"
   ]
  },
  {
   "cell_type": "code",
   "execution_count": 48,
   "id": "d3bd7ca0-2337-43cc-a537-09e81251e1c1",
   "metadata": {},
   "outputs": [
    {
     "data": {
      "text/plain": [
       "True"
      ]
     },
     "execution_count": 48,
     "metadata": {},
     "output_type": "execute_result"
    }
   ],
   "source": [
    "\"Height\" in d"
   ]
  },
  {
   "cell_type": "code",
   "execution_count": 49,
   "id": "c7e055b0-c9af-4de6-8ad5-27492725e75f",
   "metadata": {},
   "outputs": [
    {
     "data": {
      "text/plain": [
       "False"
      ]
     },
     "execution_count": 49,
     "metadata": {},
     "output_type": "execute_result"
    }
   ],
   "source": [
    "50 in d"
   ]
  },
  {
   "cell_type": "code",
   "execution_count": null,
   "id": "54a10afd-46dd-4558-8990-d750f31842d6",
   "metadata": {},
   "outputs": [],
   "source": []
  },
  {
   "cell_type": "code",
   "execution_count": null,
   "id": "a6396e24-479b-4b18-ac43-75200eeaa13f",
   "metadata": {},
   "outputs": [],
   "source": []
  },
  {
   "cell_type": "code",
   "execution_count": null,
   "id": "4a00e5a4-19ec-4654-b051-74b99e9c8dc2",
   "metadata": {},
   "outputs": [],
   "source": []
  },
  {
   "cell_type": "code",
   "execution_count": null,
   "id": "2f2bf19d-a023-466d-9174-7969dfc5a4be",
   "metadata": {},
   "outputs": [],
   "source": []
  }
 ],
 "metadata": {
  "kernelspec": {
   "display_name": "Python 3 (ipykernel)",
   "language": "python",
   "name": "python3"
  },
  "language_info": {
   "codemirror_mode": {
    "name": "ipython",
    "version": 3
   },
   "file_extension": ".py",
   "mimetype": "text/x-python",
   "name": "python",
   "nbconvert_exporter": "python",
   "pygments_lexer": "ipython3",
   "version": "3.11.7"
  }
 },
 "nbformat": 4,
 "nbformat_minor": 5
}
