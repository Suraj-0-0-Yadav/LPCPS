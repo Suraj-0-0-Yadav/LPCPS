{
 "cells": [
  {
   "cell_type": "code",
   "execution_count": 9,
   "id": "2beaf364-a90c-42bc-b238-0744806cebcb",
   "metadata": {},
   "outputs": [],
   "source": [
    "import keyword # Importing keywords module\n",
    "import numpy as np # skkvhdfsljbn;dsbg"
   ]
  },
  {
   "cell_type": "code",
   "execution_count": 4,
   "id": "2d8e44b9-f1ff-4a35-bebe-07454e6fbc86",
   "metadata": {},
   "outputs": [
    {
     "name": "stdout",
     "output_type": "stream",
     "text": [
      "['False', 'None', 'True', 'and', 'as', 'assert', 'async', 'await', 'break', 'class', 'continue', 'def', 'del', 'elif', 'else', 'except', 'finally', 'for', 'from', 'global', 'if', 'import', 'in', 'is', 'lambda', 'nonlocal', 'not', 'or', 'pass', 'raise', 'return', 'try', 'while', 'with', 'yield']\n"
     ]
    }
   ],
   "source": [
    "print(keyword.kwlist)"
   ]
  },
  {
   "cell_type": "code",
   "execution_count": 5,
   "id": "00fda143-d63c-42c8-af3f-d019e329a986",
   "metadata": {},
   "outputs": [
    {
     "data": {
      "text/plain": [
       "35"
      ]
     },
     "execution_count": 5,
     "metadata": {},
     "output_type": "execute_result"
    }
   ],
   "source": [
    "len(keyword.kwlist)"
   ]
  },
  {
   "cell_type": "code",
   "execution_count": 6,
   "id": "397299ae-8b6a-4155-b897-f3213fcbc2e4",
   "metadata": {},
   "outputs": [],
   "source": [
    "import sys"
   ]
  },
  {
   "cell_type": "code",
   "execution_count": 7,
   "id": "d6f2370e-37a0-45b7-adeb-e6d4a4756fc8",
   "metadata": {},
   "outputs": [
    {
     "data": {
      "text/plain": [
       "'3.11.7 | packaged by Anaconda, Inc. | (main, Dec 15 2023, 18:05:47) [MSC v.1916 64 bit (AMD64)]'"
      ]
     },
     "execution_count": 7,
     "metadata": {},
     "output_type": "execute_result"
    }
   ],
   "source": [
    "sys.version"
   ]
  },
  {
   "cell_type": "code",
   "execution_count": 11,
   "id": "2c30048a-d46e-4a90-a502-81913ca917b1",
   "metadata": {},
   "outputs": [],
   "source": [
    "def add(a,b): # xkmcv;dskfjb;sdk..\n",
    "    \"\"\"\n",
    "    This functiuon is used to add 2 numbers\n",
    "    \"\"\"\n",
    "    return a+b"
   ]
  },
  {
   "cell_type": "code",
   "execution_count": null,
   "id": "475791df-bec4-4121-b2b4-abb0f83c5cc3",
   "metadata": {},
   "outputs": [],
   "source": [
    "np.absolute()"
   ]
  }
 ],
 "metadata": {
  "kernelspec": {
   "display_name": "Python 3 (ipykernel)",
   "language": "python",
   "name": "python3"
  },
  "language_info": {
   "codemirror_mode": {
    "name": "ipython",
    "version": 3
   },
   "file_extension": ".py",
   "mimetype": "text/x-python",
   "name": "python",
   "nbconvert_exporter": "python",
   "pygments_lexer": "ipython3",
   "version": "3.11.7"
  }
 },
 "nbformat": 4,
 "nbformat_minor": 5
}
