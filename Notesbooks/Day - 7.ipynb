{
 "cells": [
  {
   "cell_type": "code",
   "execution_count": 4,
   "id": "799e0771-ae1f-4c62-a42a-bfc85f383a50",
   "metadata": {},
   "outputs": [
    {
     "name": "stdin",
     "output_type": "stream",
     "text": [
      "Enter your age :  50\n"
     ]
    },
    {
     "name": "stdout",
     "output_type": "stream",
     "text": [
      "Eligible for voting\n"
     ]
    }
   ],
   "source": [
    "age = int(input(\"Enter your age : \"))\n",
    "\n",
    "if (age >= 18):\n",
    "    print(\"Eligible for voting\")\n",
    "else:\n",
    "    print(\"Not elible for voting\")"
   ]
  },
  {
   "cell_type": "markdown",
   "id": "846bc9b1-f2ba-497b-9865-f15f939223fe",
   "metadata": {},
   "source": [
    "***"
   ]
  },
  {
   "cell_type": "markdown",
   "id": "c2598082-290d-4851-ae9c-41786733b4c1",
   "metadata": {},
   "source": [
    "# List"
   ]
  },
  {
   "cell_type": "code",
   "execution_count": 8,
   "id": "53e1f807-485d-4f5f-884e-f33bd90c4ea8",
   "metadata": {},
   "outputs": [],
   "source": [
    "l = ['Apple',\"Mango\",'Orange']"
   ]
  },
  {
   "cell_type": "code",
   "execution_count": 9,
   "id": "d583e986-ad4e-498c-815d-83254a35f430",
   "metadata": {},
   "outputs": [
    {
     "name": "stdout",
     "output_type": "stream",
     "text": [
      "['Apple', 'Mango', 'Orange']\n"
     ]
    }
   ],
   "source": [
    "print(l)"
   ]
  },
  {
   "cell_type": "code",
   "execution_count": 10,
   "id": "0f27ac34-5ad6-48bd-970b-bac3490f922c",
   "metadata": {},
   "outputs": [
    {
     "data": {
      "text/plain": [
       "3"
      ]
     },
     "execution_count": 10,
     "metadata": {},
     "output_type": "execute_result"
    }
   ],
   "source": [
    "len(l)"
   ]
  },
  {
   "cell_type": "code",
   "execution_count": 11,
   "id": "3788a4d3-16f2-4ed8-a7b1-36c984589fbb",
   "metadata": {},
   "outputs": [],
   "source": [
    "l.append(\"Grapes\")"
   ]
  },
  {
   "cell_type": "code",
   "execution_count": 12,
   "id": "0cd63267-e123-4db6-9753-5e6923717198",
   "metadata": {},
   "outputs": [
    {
     "name": "stdout",
     "output_type": "stream",
     "text": [
      "['Apple', 'Mango', 'Orange', 'Grapes']\n"
     ]
    }
   ],
   "source": [
    "print(l)"
   ]
  },
  {
   "cell_type": "code",
   "execution_count": 13,
   "id": "1c3291bd-bf98-4ccc-ba4e-142929cfbe99",
   "metadata": {},
   "outputs": [],
   "source": [
    "l.insert(1,\"Banana\")"
   ]
  },
  {
   "cell_type": "code",
   "execution_count": 14,
   "id": "87a97456-1930-4fa7-80e4-2a5b4a85cffb",
   "metadata": {},
   "outputs": [
    {
     "name": "stdout",
     "output_type": "stream",
     "text": [
      "['Apple', 'Banana', 'Mango', 'Orange', 'Grapes']\n"
     ]
    }
   ],
   "source": [
    "print(l)"
   ]
  },
  {
   "cell_type": "code",
   "execution_count": 15,
   "id": "001fa775-ebe4-45db-836d-11b06ba9e14f",
   "metadata": {},
   "outputs": [],
   "source": [
    "l.insert(-2,\"Python\")"
   ]
  },
  {
   "cell_type": "code",
   "execution_count": 16,
   "id": "2f210f1c-29a0-46fe-b6cf-066e98ea92a4",
   "metadata": {},
   "outputs": [
    {
     "name": "stdout",
     "output_type": "stream",
     "text": [
      "['Apple', 'Banana', 'Mango', 'Python', 'Orange', 'Grapes']\n"
     ]
    }
   ],
   "source": [
    "print(l)"
   ]
  },
  {
   "cell_type": "code",
   "execution_count": 17,
   "id": "e3ba8050-6066-4daa-92ab-3d7f740cc9ce",
   "metadata": {},
   "outputs": [],
   "source": [
    "l.remove(\"Python\")"
   ]
  },
  {
   "cell_type": "code",
   "execution_count": 18,
   "id": "e518f680-2809-42cd-9188-1f3212695844",
   "metadata": {},
   "outputs": [
    {
     "name": "stdout",
     "output_type": "stream",
     "text": [
      "['Apple', 'Banana', 'Mango', 'Orange', 'Grapes']\n"
     ]
    }
   ],
   "source": [
    "print(l)"
   ]
  },
  {
   "cell_type": "code",
   "execution_count": 19,
   "id": "7621e64c-0a64-4f02-a24c-e4967590b200",
   "metadata": {},
   "outputs": [],
   "source": [
    "del l[1]"
   ]
  },
  {
   "cell_type": "code",
   "execution_count": 20,
   "id": "fd231498-1cfb-40f4-9b77-1bd2ded99247",
   "metadata": {},
   "outputs": [
    {
     "name": "stdout",
     "output_type": "stream",
     "text": [
      "['Apple', 'Mango', 'Orange', 'Grapes']\n"
     ]
    }
   ],
   "source": [
    "print(l)"
   ]
  },
  {
   "cell_type": "code",
   "execution_count": 21,
   "id": "389581e7-7963-4f13-8599-93c8ced01d7a",
   "metadata": {},
   "outputs": [
    {
     "data": {
      "text/plain": [
       "'Grapes'"
      ]
     },
     "execution_count": 21,
     "metadata": {},
     "output_type": "execute_result"
    }
   ],
   "source": [
    "l.pop()"
   ]
  },
  {
   "cell_type": "code",
   "execution_count": 22,
   "id": "e48be236-4be5-48bd-bc7c-4041e5486011",
   "metadata": {},
   "outputs": [
    {
     "name": "stdout",
     "output_type": "stream",
     "text": [
      "['Apple', 'Mango', 'Orange']\n"
     ]
    }
   ],
   "source": [
    "print(l)"
   ]
  },
  {
   "cell_type": "code",
   "execution_count": 23,
   "id": "8686f925-c4dd-4fbc-83cd-a3b867a59e0e",
   "metadata": {},
   "outputs": [],
   "source": [
    "x = l.pop()"
   ]
  },
  {
   "cell_type": "code",
   "execution_count": 24,
   "id": "bd17e0a5-1a4c-4270-baef-14372cd99876",
   "metadata": {},
   "outputs": [
    {
     "data": {
      "text/plain": [
       "'Orange'"
      ]
     },
     "execution_count": 24,
     "metadata": {},
     "output_type": "execute_result"
    }
   ],
   "source": [
    "x"
   ]
  },
  {
   "cell_type": "markdown",
   "id": "05248ce7-ce17-4386-beac-0a3b0bb400c0",
   "metadata": {},
   "source": [
    "***"
   ]
  },
  {
   "cell_type": "code",
   "execution_count": 25,
   "id": "b74d10b1-ab90-4a40-a49b-9a3c0a621cf6",
   "metadata": {},
   "outputs": [],
   "source": [
    "l1 = [1,2,3]\n",
    "l2 = [4,5,6]"
   ]
  },
  {
   "cell_type": "code",
   "execution_count": 26,
   "id": "ecce78f4-0fbd-4b08-ab62-40ac2295b50a",
   "metadata": {},
   "outputs": [],
   "source": [
    "l1.append(l2)"
   ]
  },
  {
   "cell_type": "code",
   "execution_count": 27,
   "id": "f03c19ca-6b67-4a52-88d5-225af1796a45",
   "metadata": {},
   "outputs": [
    {
     "name": "stdout",
     "output_type": "stream",
     "text": [
      "[1, 2, 3, [4, 5, 6]]\n"
     ]
    }
   ],
   "source": [
    "print(l1)"
   ]
  },
  {
   "cell_type": "code",
   "execution_count": null,
   "id": "aab3e5b1-7399-492b-9393-48078f3a74e4",
   "metadata": {},
   "outputs": [],
   "source": []
  },
  {
   "cell_type": "code",
   "execution_count": 36,
   "id": "f4a2a827-c314-4520-9d2d-53ea170bb49c",
   "metadata": {},
   "outputs": [],
   "source": [
    "l1 = [1,2,3]\n",
    "l2 = [4,5,6]"
   ]
  },
  {
   "cell_type": "code",
   "execution_count": 37,
   "id": "aed84e44-f30f-4ab5-bd14-5d162e78cae8",
   "metadata": {},
   "outputs": [],
   "source": [
    "l1.extend(l2)"
   ]
  },
  {
   "cell_type": "code",
   "execution_count": 38,
   "id": "d50c11de-12cc-4a6b-b380-68578f2bed00",
   "metadata": {},
   "outputs": [
    {
     "name": "stdout",
     "output_type": "stream",
     "text": [
      "[1, 2, 3, 4, 5, 6]\n"
     ]
    }
   ],
   "source": [
    "print(l1)"
   ]
  },
  {
   "cell_type": "code",
   "execution_count": 39,
   "id": "594faa72-1a15-483c-ba8e-3bc92b6a1a5c",
   "metadata": {},
   "outputs": [
    {
     "name": "stdout",
     "output_type": "stream",
     "text": [
      "[4, 5, 6]\n"
     ]
    }
   ],
   "source": [
    "print(l2)"
   ]
  },
  {
   "cell_type": "code",
   "execution_count": null,
   "id": "2cee6b5f-687d-4f64-a3c4-b80349fef6f6",
   "metadata": {},
   "outputs": [],
   "source": []
  },
  {
   "cell_type": "code",
   "execution_count": 31,
   "id": "51424b6e-1126-498d-ba31-113e7d25d995",
   "metadata": {},
   "outputs": [],
   "source": [
    "l1 = [1,2,3]\n",
    "l2 = [4,5,6]"
   ]
  },
  {
   "cell_type": "code",
   "execution_count": 32,
   "id": "f1e4862d-f41b-4bb3-9c75-d9f7146b865f",
   "metadata": {},
   "outputs": [],
   "source": [
    "l3 = l1+l2"
   ]
  },
  {
   "cell_type": "code",
   "execution_count": 33,
   "id": "f8fd2d3c-4e94-4ed8-bd62-e306d7292a85",
   "metadata": {},
   "outputs": [
    {
     "data": {
      "text/plain": [
       "[1, 2, 3, 4, 5, 6]"
      ]
     },
     "execution_count": 33,
     "metadata": {},
     "output_type": "execute_result"
    }
   ],
   "source": [
    "l3"
   ]
  },
  {
   "cell_type": "code",
   "execution_count": 34,
   "id": "d2d1ec32-ba5c-4e24-83fc-f89f19077b90",
   "metadata": {},
   "outputs": [
    {
     "data": {
      "text/plain": [
       "[1, 2, 3]"
      ]
     },
     "execution_count": 34,
     "metadata": {},
     "output_type": "execute_result"
    }
   ],
   "source": [
    "l1"
   ]
  },
  {
   "cell_type": "code",
   "execution_count": 35,
   "id": "fe9fe604-ee14-4faf-9aed-ba76e34bf27b",
   "metadata": {},
   "outputs": [
    {
     "data": {
      "text/plain": [
       "[4, 5, 6]"
      ]
     },
     "execution_count": 35,
     "metadata": {},
     "output_type": "execute_result"
    }
   ],
   "source": [
    "l2"
   ]
  },
  {
   "cell_type": "markdown",
   "id": "df29ac86-1b65-45d7-86cb-7d85cf345848",
   "metadata": {},
   "source": [
    "***"
   ]
  },
  {
   "cell_type": "code",
   "execution_count": 40,
   "id": "9c83a18e-21f7-4edc-8c68-335b362cf569",
   "metadata": {},
   "outputs": [],
   "source": [
    "l = [4,5,7,1,0,4,9]"
   ]
  },
  {
   "cell_type": "code",
   "execution_count": 41,
   "id": "5478d6dd-c0ac-40ea-a2ac-7000133c5148",
   "metadata": {},
   "outputs": [],
   "source": [
    "l.reverse()"
   ]
  },
  {
   "cell_type": "code",
   "execution_count": 42,
   "id": "fa75382e-f9ea-46aa-8a5c-0e5ede9fa09e",
   "metadata": {},
   "outputs": [
    {
     "name": "stdout",
     "output_type": "stream",
     "text": [
      "[9, 4, 0, 1, 7, 5, 4]\n"
     ]
    }
   ],
   "source": [
    "print(l)"
   ]
  },
  {
   "cell_type": "markdown",
   "id": "2113d95e-2d14-4d39-a958-1c892d04108f",
   "metadata": {},
   "source": [
    "***"
   ]
  },
  {
   "cell_type": "code",
   "execution_count": 43,
   "id": "01ce87a8-66ed-41a5-a90e-7eb501eae8ff",
   "metadata": {},
   "outputs": [
    {
     "name": "stdout",
     "output_type": "stream",
     "text": [
      "[9, 4, 0, 1, 7, 5, 4]\n"
     ]
    }
   ],
   "source": [
    "print(l)"
   ]
  },
  {
   "cell_type": "code",
   "execution_count": 46,
   "id": "3843157c-6e5a-42e2-ad57-27d7c3d24f1f",
   "metadata": {},
   "outputs": [],
   "source": [
    "sorted_l_asc = sorted(l)"
   ]
  },
  {
   "cell_type": "code",
   "execution_count": 47,
   "id": "8b0d9807-0483-40c9-8986-9cd2898ab63c",
   "metadata": {},
   "outputs": [
    {
     "data": {
      "text/plain": [
       "[0, 1, 4, 4, 5, 7, 9]"
      ]
     },
     "execution_count": 47,
     "metadata": {},
     "output_type": "execute_result"
    }
   ],
   "source": [
    "sorted_l_asc"
   ]
  },
  {
   "cell_type": "code",
   "execution_count": 48,
   "id": "04fdc214-5c06-4b2a-adc1-09b5cdd81979",
   "metadata": {},
   "outputs": [
    {
     "name": "stdout",
     "output_type": "stream",
     "text": [
      "[9, 4, 0, 1, 7, 5, 4]\n"
     ]
    }
   ],
   "source": [
    "print(l)"
   ]
  },
  {
   "cell_type": "code",
   "execution_count": 49,
   "id": "fb89cfde-6c8e-42f5-8cb4-c71c206634b5",
   "metadata": {},
   "outputs": [],
   "source": [
    "sorted_l_desc = sorted(l,reverse=True)"
   ]
  },
  {
   "cell_type": "code",
   "execution_count": 50,
   "id": "306fb1f8-6d3a-4c79-a055-6767eb4a8c60",
   "metadata": {},
   "outputs": [
    {
     "data": {
      "text/plain": [
       "[9, 7, 5, 4, 4, 1, 0]"
      ]
     },
     "execution_count": 50,
     "metadata": {},
     "output_type": "execute_result"
    }
   ],
   "source": [
    "sorted_l_desc"
   ]
  },
  {
   "cell_type": "code",
   "execution_count": 51,
   "id": "4dafef14-a493-4fa3-922f-df3159ff28ce",
   "metadata": {},
   "outputs": [
    {
     "name": "stdout",
     "output_type": "stream",
     "text": [
      "[9, 4, 0, 1, 7, 5, 4]\n"
     ]
    }
   ],
   "source": [
    "print(l)"
   ]
  },
  {
   "cell_type": "markdown",
   "id": "a0609cf0-f77c-4250-bb08-b9aaa6387db2",
   "metadata": {},
   "source": [
    "***"
   ]
  },
  {
   "cell_type": "code",
   "execution_count": 52,
   "id": "9cc59f43-f446-4771-b64c-ab1b40a194e9",
   "metadata": {},
   "outputs": [
    {
     "name": "stdout",
     "output_type": "stream",
     "text": [
      "[9, 4, 0, 1, 7, 5, 4]\n"
     ]
    }
   ],
   "source": [
    "print(l)"
   ]
  },
  {
   "cell_type": "code",
   "execution_count": 55,
   "id": "3f9945c7-3e32-497f-83b1-b2b61c04a912",
   "metadata": {},
   "outputs": [],
   "source": [
    "l.sort(reverse=True)"
   ]
  },
  {
   "cell_type": "code",
   "execution_count": 56,
   "id": "6ac07dc4-e527-476a-9690-0d03eefe89ff",
   "metadata": {},
   "outputs": [
    {
     "name": "stdout",
     "output_type": "stream",
     "text": [
      "[9, 7, 5, 4, 4, 1, 0]\n"
     ]
    }
   ],
   "source": [
    "print(l)"
   ]
  },
  {
   "cell_type": "markdown",
   "id": "c698e80d-7cec-4a56-a572-faf5eb449ef5",
   "metadata": {},
   "source": [
    "***"
   ]
  },
  {
   "cell_type": "code",
   "execution_count": 57,
   "id": "26ccb442-6ed1-4cf9-9c85-9145626a9f42",
   "metadata": {},
   "outputs": [],
   "source": [
    "l = [1,1,1,1,1,1,1,2,2,2,2,2,2,2,2,3,3,3,3,3,3,2,2,2,2,2,1,1,1,1]"
   ]
  },
  {
   "cell_type": "code",
   "execution_count": 58,
   "id": "c70830c0-0c26-4376-ba31-be4728dbf037",
   "metadata": {},
   "outputs": [
    {
     "data": {
      "text/plain": [
       "11"
      ]
     },
     "execution_count": 58,
     "metadata": {},
     "output_type": "execute_result"
    }
   ],
   "source": [
    "l.count(1)"
   ]
  },
  {
   "cell_type": "code",
   "execution_count": 59,
   "id": "9575c1dc-cbaa-4a54-940a-48f4126eafc0",
   "metadata": {},
   "outputs": [
    {
     "data": {
      "text/plain": [
       "13"
      ]
     },
     "execution_count": 59,
     "metadata": {},
     "output_type": "execute_result"
    }
   ],
   "source": [
    "l.count(2)"
   ]
  },
  {
   "cell_type": "code",
   "execution_count": 60,
   "id": "4aca0b09-7c9d-4acc-98c4-0f8d6d97295d",
   "metadata": {},
   "outputs": [
    {
     "data": {
      "text/plain": [
       "6"
      ]
     },
     "execution_count": 60,
     "metadata": {},
     "output_type": "execute_result"
    }
   ],
   "source": [
    "l.count(3)"
   ]
  },
  {
   "cell_type": "code",
   "execution_count": 61,
   "id": "9821587e-5d75-4924-8924-5e4bd9147fda",
   "metadata": {},
   "outputs": [
    {
     "data": {
      "text/plain": [
       "30"
      ]
     },
     "execution_count": 61,
     "metadata": {},
     "output_type": "execute_result"
    }
   ],
   "source": [
    "len(l)"
   ]
  },
  {
   "cell_type": "markdown",
   "id": "3192c478-8c05-4f6e-be82-877d1215586e",
   "metadata": {},
   "source": [
    "***"
   ]
  },
  {
   "cell_type": "code",
   "execution_count": 62,
   "id": "accb852d-c9e0-4617-9cdb-d5f31118ee2f",
   "metadata": {},
   "outputs": [],
   "source": [
    "l = ['Apple',\"Mango\",'Orange']"
   ]
  },
  {
   "cell_type": "code",
   "execution_count": 63,
   "id": "173efd3e-1b14-4541-bf04-3ef2e8f26089",
   "metadata": {},
   "outputs": [
    {
     "data": {
      "text/plain": [
       "1"
      ]
     },
     "execution_count": 63,
     "metadata": {},
     "output_type": "execute_result"
    }
   ],
   "source": [
    "l.index(\"Mango\")"
   ]
  },
  {
   "cell_type": "code",
   "execution_count": 64,
   "id": "f58cbca3-71a2-4cc8-b96f-9373bad23ae4",
   "metadata": {},
   "outputs": [
    {
     "data": {
      "text/plain": [
       "2"
      ]
     },
     "execution_count": 64,
     "metadata": {},
     "output_type": "execute_result"
    }
   ],
   "source": [
    "l.index(\"Orange\")"
   ]
  },
  {
   "cell_type": "code",
   "execution_count": 65,
   "id": "1963db87-d439-420e-b403-5c7ebb02dd06",
   "metadata": {},
   "outputs": [],
   "source": [
    "l2 = ['Python','Java',\"C\",\"C++\",\"Python\",\"Java\"]"
   ]
  },
  {
   "cell_type": "code",
   "execution_count": 70,
   "id": "324777ae-5ea0-41ef-84a0-07786bb1fd11",
   "metadata": {},
   "outputs": [
    {
     "data": {
      "text/plain": [
       "0"
      ]
     },
     "execution_count": 70,
     "metadata": {},
     "output_type": "execute_result"
    }
   ],
   "source": [
    "l2.index(\"Python\")"
   ]
  },
  {
   "cell_type": "code",
   "execution_count": 71,
   "id": "80ccf445-e597-467b-923e-9fd5dc055605",
   "metadata": {},
   "outputs": [
    {
     "data": {
      "text/plain": [
       "4"
      ]
     },
     "execution_count": 71,
     "metadata": {},
     "output_type": "execute_result"
    }
   ],
   "source": [
    "l2.index(\"Python\",l2.index(\"Python\")+1)"
   ]
  },
  {
   "cell_type": "markdown",
   "id": "61df0fba-5d86-4eec-8ffb-212eb8c19007",
   "metadata": {},
   "source": [
    "***"
   ]
  },
  {
   "cell_type": "code",
   "execution_count": 72,
   "id": "6c7d3a08-5946-45f3-a3eb-9eb66029bff3",
   "metadata": {},
   "outputs": [],
   "source": [
    "a = [1,2,3,4,5]"
   ]
  },
  {
   "cell_type": "code",
   "execution_count": 73,
   "id": "9cbfca26-b053-4a97-b4e0-5010f6cfec62",
   "metadata": {},
   "outputs": [
    {
     "data": {
      "text/plain": [
       "15"
      ]
     },
     "execution_count": 73,
     "metadata": {},
     "output_type": "execute_result"
    }
   ],
   "source": [
    "sum(a)"
   ]
  },
  {
   "cell_type": "code",
   "execution_count": 74,
   "id": "5fb1cd57-575e-4923-8871-31771c5a5499",
   "metadata": {},
   "outputs": [
    {
     "data": {
      "text/plain": [
       "1"
      ]
     },
     "execution_count": 74,
     "metadata": {},
     "output_type": "execute_result"
    }
   ],
   "source": [
    "min(a)"
   ]
  },
  {
   "cell_type": "code",
   "execution_count": 75,
   "id": "c059c43b-c617-422a-9863-bd6c7ac5e134",
   "metadata": {},
   "outputs": [
    {
     "data": {
      "text/plain": [
       "5"
      ]
     },
     "execution_count": 75,
     "metadata": {},
     "output_type": "execute_result"
    }
   ],
   "source": [
    "max(a)"
   ]
  },
  {
   "cell_type": "markdown",
   "id": "14b0deb9-6a3e-4459-8825-72a3642d447f",
   "metadata": {},
   "source": [
    "***"
   ]
  },
  {
   "cell_type": "code",
   "execution_count": 76,
   "id": "bb66fbfc-806c-44d0-a413-c38f4e5c3ddc",
   "metadata": {},
   "outputs": [],
   "source": [
    "x = ['a','b','c','d','e','f']"
   ]
  },
  {
   "cell_type": "code",
   "execution_count": 77,
   "id": "7dbfb505-b045-40ce-ac02-9162e280a9ee",
   "metadata": {},
   "outputs": [
    {
     "data": {
      "text/plain": [
       "'a'"
      ]
     },
     "execution_count": 77,
     "metadata": {},
     "output_type": "execute_result"
    }
   ],
   "source": [
    "x[0]"
   ]
  },
  {
   "cell_type": "code",
   "execution_count": 78,
   "id": "4f4e855b-3c47-468b-9a48-29fe3664242a",
   "metadata": {},
   "outputs": [
    {
     "data": {
      "text/plain": [
       "'e'"
      ]
     },
     "execution_count": 78,
     "metadata": {},
     "output_type": "execute_result"
    }
   ],
   "source": [
    "x[-2]"
   ]
  },
  {
   "cell_type": "code",
   "execution_count": 79,
   "id": "5f36e9e6-340d-4352-920a-997772ab7c08",
   "metadata": {},
   "outputs": [
    {
     "data": {
      "text/plain": [
       "['b', 'c']"
      ]
     },
     "execution_count": 79,
     "metadata": {},
     "output_type": "execute_result"
    }
   ],
   "source": [
    "x[1:3]"
   ]
  },
  {
   "cell_type": "code",
   "execution_count": 80,
   "id": "d22cb6b0-732f-45b5-8837-98dd7023f566",
   "metadata": {},
   "outputs": [
    {
     "data": {
      "text/plain": [
       "['a', 'b', 'c']"
      ]
     },
     "execution_count": 80,
     "metadata": {},
     "output_type": "execute_result"
    }
   ],
   "source": [
    "x[:3]"
   ]
  },
  {
   "cell_type": "code",
   "execution_count": 81,
   "id": "c2c15255-3249-4d58-a0c2-4945a740d7fa",
   "metadata": {},
   "outputs": [
    {
     "data": {
      "text/plain": [
       "['c', 'd', 'e', 'f']"
      ]
     },
     "execution_count": 81,
     "metadata": {},
     "output_type": "execute_result"
    }
   ],
   "source": [
    "x[2:]"
   ]
  },
  {
   "cell_type": "code",
   "execution_count": 82,
   "id": "b31baefb-8c78-4302-8e48-e1a8b9aa2b55",
   "metadata": {},
   "outputs": [
    {
     "data": {
      "text/plain": [
       "['a', 'b', 'c', 'd', 'e', 'f']"
      ]
     },
     "execution_count": 82,
     "metadata": {},
     "output_type": "execute_result"
    }
   ],
   "source": [
    "x[::]"
   ]
  },
  {
   "cell_type": "code",
   "execution_count": 83,
   "id": "3f400e9a-13c0-4731-bd15-8fb4c825ebc1",
   "metadata": {},
   "outputs": [],
   "source": [
    "x = ['a','b','c','d','e','f']"
   ]
  },
  {
   "cell_type": "code",
   "execution_count": 84,
   "id": "0bd74b21-7a52-4eda-acc9-103cc04b611b",
   "metadata": {},
   "outputs": [
    {
     "data": {
      "text/plain": [
       "['a', 'c', 'e']"
      ]
     },
     "execution_count": 84,
     "metadata": {},
     "output_type": "execute_result"
    }
   ],
   "source": [
    "x[::2]"
   ]
  },
  {
   "cell_type": "code",
   "execution_count": 85,
   "id": "856c3b14-ed50-4066-94d9-ee5e06e1efe8",
   "metadata": {},
   "outputs": [
    {
     "data": {
      "text/plain": [
       "['f', 'e', 'd', 'c', 'b', 'a']"
      ]
     },
     "execution_count": 85,
     "metadata": {},
     "output_type": "execute_result"
    }
   ],
   "source": [
    "x[::-1]"
   ]
  },
  {
   "cell_type": "code",
   "execution_count": null,
   "id": "f4e549f6-2198-4c9c-903f-768280b52c58",
   "metadata": {},
   "outputs": [],
   "source": []
  },
  {
   "cell_type": "code",
   "execution_count": 86,
   "id": "11e6ad6c-72cb-4b03-adcb-2f7fd27ad717",
   "metadata": {},
   "outputs": [],
   "source": [
    "x = ['a','b','c','d','e','f']"
   ]
  },
  {
   "cell_type": "code",
   "execution_count": 87,
   "id": "bf95a23c-c8b2-4a50-a6c6-f9bca9ac3f9e",
   "metadata": {},
   "outputs": [
    {
     "data": {
      "text/plain": [
       "['d', 'e', 'f']"
      ]
     },
     "execution_count": 87,
     "metadata": {},
     "output_type": "execute_result"
    }
   ],
   "source": [
    "x[-3:]"
   ]
  },
  {
   "cell_type": "code",
   "execution_count": 88,
   "id": "6e904225-7a70-43f1-96ce-3ad83dc4bddf",
   "metadata": {},
   "outputs": [
    {
     "data": {
      "text/plain": [
       "['b', 'c', 'd']"
      ]
     },
     "execution_count": 88,
     "metadata": {},
     "output_type": "execute_result"
    }
   ],
   "source": [
    "x[-5:-2]"
   ]
  },
  {
   "cell_type": "code",
   "execution_count": 89,
   "id": "c9924c91-5a0a-4589-a5ae-8de8f365035b",
   "metadata": {},
   "outputs": [
    {
     "name": "stdout",
     "output_type": "stream",
     "text": [
      "a\n",
      "b\n",
      "c\n",
      "d\n",
      "e\n",
      "f\n"
     ]
    }
   ],
   "source": [
    "for i in x:\n",
    "    print(i)"
   ]
  },
  {
   "cell_type": "markdown",
   "id": "ed8b4697-bd00-41ad-8b98-e70f721e725d",
   "metadata": {},
   "source": [
    "***"
   ]
  },
  {
   "cell_type": "code",
   "execution_count": 1,
   "id": "3598e344-cc48-4b1a-96a5-a8fa64aae152",
   "metadata": {},
   "outputs": [],
   "source": [
    "a = [1,2,3,4,5,6,7,8,9,10]"
   ]
  },
  {
   "cell_type": "code",
   "execution_count": 2,
   "id": "04b09413-4c9c-4578-ba94-100c7c294c96",
   "metadata": {},
   "outputs": [
    {
     "data": {
      "text/plain": [
       "6"
      ]
     },
     "execution_count": 2,
     "metadata": {},
     "output_type": "execute_result"
    }
   ],
   "source": [
    "a[5]"
   ]
  },
  {
   "cell_type": "code",
   "execution_count": 3,
   "id": "d0bb81c5-a479-49b4-b7f6-b9cedc537459",
   "metadata": {},
   "outputs": [
    {
     "data": {
      "text/plain": [
       "[4, 6, 8]"
      ]
     },
     "execution_count": 3,
     "metadata": {},
     "output_type": "execute_result"
    }
   ],
   "source": [
    "a[3:9:2]"
   ]
  },
  {
   "cell_type": "code",
   "execution_count": 4,
   "id": "638ddce5-4dc9-4030-8cd2-efbe23b2ef46",
   "metadata": {},
   "outputs": [],
   "source": [
    "two_d_array = [[1,2,3],\n",
    "               [4,5,6]]"
   ]
  },
  {
   "cell_type": "code",
   "execution_count": 5,
   "id": "9dba6781-5ebc-458c-bd44-f033829531fe",
   "metadata": {},
   "outputs": [
    {
     "data": {
      "text/plain": [
       "[[1, 2, 3], [4, 5, 6]]"
      ]
     },
     "execution_count": 5,
     "metadata": {},
     "output_type": "execute_result"
    }
   ],
   "source": [
    "two_d_array"
   ]
  },
  {
   "cell_type": "code",
   "execution_count": null,
   "id": "c22e9969-c89c-4759-9648-9024aa7428a1",
   "metadata": {},
   "outputs": [],
   "source": []
  },
  {
   "cell_type": "code",
   "execution_count": 7,
   "id": "4c59a907-6009-4f69-a3f5-f8c733ed8d4e",
   "metadata": {},
   "outputs": [
    {
     "data": {
      "text/plain": [
       "5"
      ]
     },
     "execution_count": 7,
     "metadata": {},
     "output_type": "execute_result"
    }
   ],
   "source": [
    "two_d_array[1][1]"
   ]
  },
  {
   "cell_type": "code",
   "execution_count": 8,
   "id": "81df4d29-eeac-4e85-83a8-2d4a56d413e5",
   "metadata": {},
   "outputs": [
    {
     "data": {
      "text/plain": [
       "4"
      ]
     },
     "execution_count": 8,
     "metadata": {},
     "output_type": "execute_result"
    }
   ],
   "source": [
    "two_d_array[1][0]"
   ]
  },
  {
   "cell_type": "code",
   "execution_count": 11,
   "id": "4d7fbdd3-fe99-4867-8a88-501895cece76",
   "metadata": {},
   "outputs": [
    {
     "data": {
      "text/plain": [
       "[5, 6]"
      ]
     },
     "execution_count": 11,
     "metadata": {},
     "output_type": "execute_result"
    }
   ],
   "source": [
    "two_d_array[1][1:]"
   ]
  },
  {
   "cell_type": "code",
   "execution_count": null,
   "id": "f2f63553-c5c0-4e6c-86ac-689c44811d24",
   "metadata": {},
   "outputs": [],
   "source": []
  },
  {
   "cell_type": "code",
   "execution_count": 12,
   "id": "55937af5-783c-4b13-9b40-59712145b532",
   "metadata": {},
   "outputs": [],
   "source": [
    "two_d_array = [[1,2,3],\n",
    "               [4,5,6]]"
   ]
  },
  {
   "cell_type": "code",
   "execution_count": null,
   "id": "9c359bba-d80d-47d5-b54c-12290745312e",
   "metadata": {},
   "outputs": [],
   "source": []
  },
  {
   "cell_type": "code",
   "execution_count": null,
   "id": "a309029e-573c-4bae-922f-19a062ad9399",
   "metadata": {},
   "outputs": [],
   "source": []
  },
  {
   "cell_type": "code",
   "execution_count": null,
   "id": "344c3874-4a55-4611-b3ed-2a97661259da",
   "metadata": {},
   "outputs": [],
   "source": []
  },
  {
   "cell_type": "code",
   "execution_count": 29,
   "id": "b5821c01-59b2-4f4c-ad58-a9aa8cc1bac8",
   "metadata": {},
   "outputs": [
    {
     "ename": "TypeError",
     "evalue": "list indices must be integers or slices, not tuple",
     "output_type": "error",
     "traceback": [
      "\u001b[1;31m---------------------------------------------------------------------------\u001b[0m",
      "\u001b[1;31mTypeError\u001b[0m                                 Traceback (most recent call last)",
      "Cell \u001b[1;32mIn[29], line 1\u001b[0m\n\u001b[1;32m----> 1\u001b[0m two_d_array[:,\u001b[38;5;241m1\u001b[39m]\n",
      "\u001b[1;31mTypeError\u001b[0m: list indices must be integers or slices, not tuple"
     ]
    }
   ],
   "source": [
    "two_d_array[:,1]"
   ]
  },
  {
   "cell_type": "code",
   "execution_count": 22,
   "id": "513bf58b-f752-4147-b0e6-f35592e5fcdb",
   "metadata": {},
   "outputs": [
    {
     "name": "stdout",
     "output_type": "stream",
     "text": [
      "2\n",
      "5\n"
     ]
    }
   ],
   "source": [
    "for i in two_d_array:\n",
    "    print(i[1])"
   ]
  },
  {
   "cell_type": "code",
   "execution_count": null,
   "id": "b7c93ef5-7526-4300-889d-304a7270b257",
   "metadata": {},
   "outputs": [],
   "source": []
  },
  {
   "cell_type": "code",
   "execution_count": 24,
   "id": "2bbe7f9f-01cf-4108-985c-75d24d13b393",
   "metadata": {},
   "outputs": [],
   "source": [
    "import numpy as np"
   ]
  },
  {
   "cell_type": "code",
   "execution_count": 25,
   "id": "dc41e272-17ba-41cf-b4d9-12378f4960b1",
   "metadata": {},
   "outputs": [],
   "source": [
    "array = np.array(two_d_array)"
   ]
  },
  {
   "cell_type": "code",
   "execution_count": 26,
   "id": "161e8f41-c9cb-4f95-b609-36c3ba418c05",
   "metadata": {},
   "outputs": [
    {
     "data": {
      "text/plain": [
       "array([[1, 2, 3],\n",
       "       [4, 5, 6]])"
      ]
     },
     "execution_count": 26,
     "metadata": {},
     "output_type": "execute_result"
    }
   ],
   "source": [
    "array"
   ]
  },
  {
   "cell_type": "code",
   "execution_count": 28,
   "id": "24611e59-86dd-43d1-8393-2d02bd0e84e3",
   "metadata": {},
   "outputs": [
    {
     "data": {
      "text/plain": [
       "array([2, 5])"
      ]
     },
     "execution_count": 28,
     "metadata": {},
     "output_type": "execute_result"
    }
   ],
   "source": [
    "array[:,1]"
   ]
  },
  {
   "cell_type": "code",
   "execution_count": 30,
   "id": "b4a67696-9cf2-4e6c-9db5-51ea7494ac6b",
   "metadata": {},
   "outputs": [
    {
     "data": {
      "text/plain": [
       "(2, 3)"
      ]
     },
     "execution_count": 30,
     "metadata": {},
     "output_type": "execute_result"
    }
   ],
   "source": [
    "array.shape"
   ]
  },
  {
   "cell_type": "markdown",
   "id": "64074f4f-d855-46c4-89fa-c144f83cfd70",
   "metadata": {},
   "source": [
    "***"
   ]
  },
  {
   "cell_type": "code",
   "execution_count": 31,
   "id": "b5fcb89c-fadc-485e-9612-dbdbde102b16",
   "metadata": {},
   "outputs": [],
   "source": [
    "l = [\"Java\",\"Python\",\"C\",\"C++\"]"
   ]
  },
  {
   "cell_type": "code",
   "execution_count": 32,
   "id": "012510af-2c1c-4498-96d2-cd5b278bc1ad",
   "metadata": {},
   "outputs": [],
   "source": [
    "l[1] = \"Python Programming\""
   ]
  },
  {
   "cell_type": "code",
   "execution_count": 33,
   "id": "bc75e17d-29dc-48d6-8377-626fdee3b53e",
   "metadata": {},
   "outputs": [
    {
     "name": "stdout",
     "output_type": "stream",
     "text": [
      "['Java', 'Python Programming', 'C', 'C++']\n"
     ]
    }
   ],
   "source": [
    "print(l)"
   ]
  },
  {
   "cell_type": "code",
   "execution_count": 34,
   "id": "b20688f8-e8ef-4a5b-b43c-7aa1ed97c9dc",
   "metadata": {},
   "outputs": [],
   "source": [
    "l.clear()"
   ]
  },
  {
   "cell_type": "code",
   "execution_count": 35,
   "id": "1666f142-06f4-488a-9945-2a21c24d6363",
   "metadata": {},
   "outputs": [
    {
     "name": "stdout",
     "output_type": "stream",
     "text": [
      "[]\n"
     ]
    }
   ],
   "source": [
    "print(l)"
   ]
  },
  {
   "cell_type": "markdown",
   "id": "403d6a88-d5ed-4826-b50e-5c940fbb1418",
   "metadata": {},
   "source": [
    "# Tuple"
   ]
  },
  {
   "cell_type": "code",
   "execution_count": 39,
   "id": "5a91c97a-e6e5-4d99-ac09-557dd8fd821d",
   "metadata": {},
   "outputs": [],
   "source": [
    "aman = (1,2,3)"
   ]
  },
  {
   "cell_type": "code",
   "execution_count": 40,
   "id": "b7ea63e4-9176-4290-a57c-0005b14a815d",
   "metadata": {},
   "outputs": [
    {
     "data": {
      "text/plain": [
       "tuple"
      ]
     },
     "execution_count": 40,
     "metadata": {},
     "output_type": "execute_result"
    }
   ],
   "source": [
    "type(aman)"
   ]
  },
  {
   "cell_type": "code",
   "execution_count": 44,
   "id": "62b19bd4-4f1d-4caa-bad5-92a4796afaeb",
   "metadata": {},
   "outputs": [],
   "source": [
    "t1 = (1,2)\n",
    "t2 = (5.5,)"
   ]
  },
  {
   "cell_type": "code",
   "execution_count": 45,
   "id": "bf1dd4b1-4eab-434b-924c-aa6c85f29d43",
   "metadata": {},
   "outputs": [
    {
     "data": {
      "text/plain": [
       "(tuple, tuple)"
      ]
     },
     "execution_count": 45,
     "metadata": {},
     "output_type": "execute_result"
    }
   ],
   "source": [
    "type(t1), type(t2)"
   ]
  },
  {
   "cell_type": "code",
   "execution_count": 46,
   "id": "3a694030-bdf0-4ce4-878c-c607a7ebbe19",
   "metadata": {},
   "outputs": [],
   "source": [
    "nested_tuple = (1,2,3,('one','two','three'),45.7,\"Java\")"
   ]
  },
  {
   "cell_type": "code",
   "execution_count": 47,
   "id": "d09e66d7-5d0a-4f3e-923e-0ae57f4afcc5",
   "metadata": {},
   "outputs": [
    {
     "data": {
      "text/plain": [
       "(1, 2, 3, ('one', 'two', 'three'), 45.7, 'Java')"
      ]
     },
     "execution_count": 47,
     "metadata": {},
     "output_type": "execute_result"
    }
   ],
   "source": [
    "nested_tuple"
   ]
  },
  {
   "cell_type": "code",
   "execution_count": 48,
   "id": "ea21b373-5f78-4d5c-8fcc-19a9ee2a4b01",
   "metadata": {},
   "outputs": [
    {
     "data": {
      "text/plain": [
       "'two'"
      ]
     },
     "execution_count": 48,
     "metadata": {},
     "output_type": "execute_result"
    }
   ],
   "source": [
    "nested_tuple[3][1]"
   ]
  },
  {
   "cell_type": "code",
   "execution_count": 49,
   "id": "b275eda9-a482-4dac-aa89-aa3934011738",
   "metadata": {},
   "outputs": [
    {
     "data": {
      "text/plain": [
       "6"
      ]
     },
     "execution_count": 49,
     "metadata": {},
     "output_type": "execute_result"
    }
   ],
   "source": [
    "len(nested_tuple)"
   ]
  },
  {
   "cell_type": "code",
   "execution_count": null,
   "id": "521e2e8f-d16e-40cb-ac42-5d2b1fe94077",
   "metadata": {},
   "outputs": [],
   "source": []
  },
  {
   "cell_type": "code",
   "execution_count": 50,
   "id": "25835440-dfd2-4f25-8c63-08684cddc3fc",
   "metadata": {},
   "outputs": [],
   "source": [
    "t = (\"java\",'python','c','c++','html')"
   ]
  },
  {
   "cell_type": "code",
   "execution_count": 51,
   "id": "dc79f023-dc6a-4382-a0c0-dd377134ba55",
   "metadata": {},
   "outputs": [
    {
     "ename": "TypeError",
     "evalue": "'tuple' object does not support item assignment",
     "output_type": "error",
     "traceback": [
      "\u001b[1;31m---------------------------------------------------------------------------\u001b[0m",
      "\u001b[1;31mTypeError\u001b[0m                                 Traceback (most recent call last)",
      "Cell \u001b[1;32mIn[51], line 1\u001b[0m\n\u001b[1;32m----> 1\u001b[0m t[\u001b[38;5;241m1\u001b[39m] \u001b[38;5;241m=\u001b[39m \u001b[38;5;124m'\u001b[39m\u001b[38;5;124mpython programming\u001b[39m\u001b[38;5;124m'\u001b[39m\n",
      "\u001b[1;31mTypeError\u001b[0m: 'tuple' object does not support item assignment"
     ]
    }
   ],
   "source": [
    "t[1] = 'python programming'"
   ]
  },
  {
   "cell_type": "code",
   "execution_count": 52,
   "id": "07a359d0-0dab-4c31-8019-986412ab2ec0",
   "metadata": {},
   "outputs": [
    {
     "data": {
      "text/plain": [
       "('java', 'python', 'c')"
      ]
     },
     "execution_count": 52,
     "metadata": {},
     "output_type": "execute_result"
    }
   ],
   "source": [
    "t[:3]"
   ]
  },
  {
   "cell_type": "code",
   "execution_count": 53,
   "id": "ef4e5a02-3beb-4547-82df-af9798e5259d",
   "metadata": {},
   "outputs": [
    {
     "data": {
      "text/plain": [
       "'html'"
      ]
     },
     "execution_count": 53,
     "metadata": {},
     "output_type": "execute_result"
    }
   ],
   "source": [
    "t[-1]"
   ]
  },
  {
   "cell_type": "code",
   "execution_count": 54,
   "id": "705e1be0-cfea-4dae-8a81-29e2aa3c36ce",
   "metadata": {},
   "outputs": [
    {
     "data": {
      "text/plain": [
       "('c', 'c++')"
      ]
     },
     "execution_count": 54,
     "metadata": {},
     "output_type": "execute_result"
    }
   ],
   "source": [
    "t[-3:-1]"
   ]
  },
  {
   "cell_type": "markdown",
   "id": "735f901b-cd0f-49b4-b064-77562edc6d8b",
   "metadata": {},
   "source": [
    "***"
   ]
  },
  {
   "cell_type": "code",
   "execution_count": 55,
   "id": "aebcd58a-0f88-45ff-9373-64b6863303d4",
   "metadata": {},
   "outputs": [],
   "source": [
    "a = (1,2,3,4,5)"
   ]
  },
  {
   "cell_type": "code",
   "execution_count": 56,
   "id": "11a5d596-6816-437f-b02b-0598e7630e0d",
   "metadata": {},
   "outputs": [],
   "source": [
    "b = list(a)"
   ]
  },
  {
   "cell_type": "code",
   "execution_count": 57,
   "id": "399ce932-f3c9-4194-b27a-f9148ff023b0",
   "metadata": {},
   "outputs": [
    {
     "data": {
      "text/plain": [
       "[1, 2, 3, 4, 5]"
      ]
     },
     "execution_count": 57,
     "metadata": {},
     "output_type": "execute_result"
    }
   ],
   "source": [
    "b"
   ]
  },
  {
   "cell_type": "code",
   "execution_count": 58,
   "id": "7d81a6b9-8261-401b-9401-874bf6e2f957",
   "metadata": {},
   "outputs": [],
   "source": [
    "b[2] = 33"
   ]
  },
  {
   "cell_type": "code",
   "execution_count": 59,
   "id": "cf25aef8-1897-4142-9538-807f0415c072",
   "metadata": {},
   "outputs": [
    {
     "data": {
      "text/plain": [
       "[1, 2, 33, 4, 5]"
      ]
     },
     "execution_count": 59,
     "metadata": {},
     "output_type": "execute_result"
    }
   ],
   "source": [
    "b"
   ]
  },
  {
   "cell_type": "code",
   "execution_count": 60,
   "id": "e5426f16-1d2d-4a53-85af-543b2c585b9f",
   "metadata": {},
   "outputs": [],
   "source": [
    "c = tuple(b)"
   ]
  },
  {
   "cell_type": "code",
   "execution_count": 61,
   "id": "76245f27-91d4-41a0-bfbe-26135d95d41e",
   "metadata": {},
   "outputs": [
    {
     "data": {
      "text/plain": [
       "(1, 2, 33, 4, 5)"
      ]
     },
     "execution_count": 61,
     "metadata": {},
     "output_type": "execute_result"
    }
   ],
   "source": [
    "c"
   ]
  },
  {
   "cell_type": "code",
   "execution_count": null,
   "id": "2c93c378-582f-489c-b7f0-394f384bc256",
   "metadata": {},
   "outputs": [],
   "source": []
  },
  {
   "cell_type": "code",
   "execution_count": 62,
   "id": "9ce7296b-b4ee-446a-a81f-5a0736665a1d",
   "metadata": {},
   "outputs": [
    {
     "data": {
      "text/plain": [
       "('java', 'python', 'c', 'c++', 'html')"
      ]
     },
     "execution_count": 62,
     "metadata": {},
     "output_type": "execute_result"
    }
   ],
   "source": [
    "t"
   ]
  },
  {
   "cell_type": "code",
   "execution_count": 63,
   "id": "f7702d67-34c8-43c5-a8bc-9a4c8c84b5bf",
   "metadata": {},
   "outputs": [
    {
     "data": {
      "text/plain": [
       "True"
      ]
     },
     "execution_count": 63,
     "metadata": {},
     "output_type": "execute_result"
    }
   ],
   "source": [
    "\"java\" in t"
   ]
  },
  {
   "cell_type": "code",
   "execution_count": 64,
   "id": "86f5c78b-1bb7-4d2f-9932-fb382988d59b",
   "metadata": {},
   "outputs": [
    {
     "data": {
      "text/plain": [
       "False"
      ]
     },
     "execution_count": 64,
     "metadata": {},
     "output_type": "execute_result"
    }
   ],
   "source": [
    "\"Julius\" in t"
   ]
  },
  {
   "cell_type": "code",
   "execution_count": null,
   "id": "4dc1b6e6-e99e-4435-a435-6065fe270fd0",
   "metadata": {},
   "outputs": [],
   "source": []
  },
  {
   "cell_type": "code",
   "execution_count": 65,
   "id": "5ae38ab8-eecf-4d36-91e4-2089fcf8ff3d",
   "metadata": {},
   "outputs": [],
   "source": [
    "t1 = (1,2,3)\n",
    "t2 = (4,5,6)"
   ]
  },
  {
   "cell_type": "code",
   "execution_count": 66,
   "id": "d3c1e5cd-bc68-4c19-ae29-e7c99e27c6e2",
   "metadata": {},
   "outputs": [],
   "source": [
    "t3 = t1+t2"
   ]
  },
  {
   "cell_type": "code",
   "execution_count": 67,
   "id": "01324941-df94-4019-86f3-282b20924c93",
   "metadata": {},
   "outputs": [
    {
     "data": {
      "text/plain": [
       "(1, 2, 3, 4, 5, 6)"
      ]
     },
     "execution_count": 67,
     "metadata": {},
     "output_type": "execute_result"
    }
   ],
   "source": [
    "t3"
   ]
  },
  {
   "cell_type": "code",
   "execution_count": null,
   "id": "b097a98b-9c73-4f2f-9fc5-c7631a6db3c9",
   "metadata": {},
   "outputs": [],
   "source": []
  },
  {
   "cell_type": "code",
   "execution_count": 68,
   "id": "64532ef5-4808-4e0c-aea6-056a0d64c595",
   "metadata": {},
   "outputs": [],
   "source": [
    "z = (1,1,1,1,1,1,1,1,2,2,2,2,2,2)"
   ]
  },
  {
   "cell_type": "code",
   "execution_count": 69,
   "id": "1c66a20c-e4f6-4c7c-abf5-b47a94ab389e",
   "metadata": {},
   "outputs": [
    {
     "data": {
      "text/plain": [
       "8"
      ]
     },
     "execution_count": 69,
     "metadata": {},
     "output_type": "execute_result"
    }
   ],
   "source": [
    "z.count(1)"
   ]
  },
  {
   "cell_type": "code",
   "execution_count": 70,
   "id": "0ecba0df-1675-449d-a65d-ccd23f65d616",
   "metadata": {},
   "outputs": [
    {
     "data": {
      "text/plain": [
       "6"
      ]
     },
     "execution_count": 70,
     "metadata": {},
     "output_type": "execute_result"
    }
   ],
   "source": [
    "z.count(2)"
   ]
  },
  {
   "cell_type": "code",
   "execution_count": null,
   "id": "cd1fecdd-d4ef-41aa-be2d-2babab634127",
   "metadata": {},
   "outputs": [],
   "source": []
  },
  {
   "cell_type": "code",
   "execution_count": 71,
   "id": "f6b860de-2c72-4668-a3b3-8177d15b5e2b",
   "metadata": {},
   "outputs": [
    {
     "data": {
      "text/plain": [
       "20"
      ]
     },
     "execution_count": 71,
     "metadata": {},
     "output_type": "execute_result"
    }
   ],
   "source": [
    "sum(z)"
   ]
  },
  {
   "cell_type": "code",
   "execution_count": 72,
   "id": "fa5d802d-ba9f-4b8f-93b3-42570b99b543",
   "metadata": {},
   "outputs": [
    {
     "data": {
      "text/plain": [
       "1"
      ]
     },
     "execution_count": 72,
     "metadata": {},
     "output_type": "execute_result"
    }
   ],
   "source": [
    "min(z)"
   ]
  },
  {
   "cell_type": "code",
   "execution_count": 73,
   "id": "141e281d-b6dd-4279-bbc8-55b065d147b0",
   "metadata": {},
   "outputs": [
    {
     "data": {
      "text/plain": [
       "2"
      ]
     },
     "execution_count": 73,
     "metadata": {},
     "output_type": "execute_result"
    }
   ],
   "source": [
    "max(z)"
   ]
  },
  {
   "cell_type": "code",
   "execution_count": null,
   "id": "d5837b68-10fc-4f77-96d1-f4ce4dc9b033",
   "metadata": {},
   "outputs": [],
   "source": []
  },
  {
   "cell_type": "code",
   "execution_count": 74,
   "id": "d8626816-5407-42b0-8de8-198b20f9e81b",
   "metadata": {},
   "outputs": [
    {
     "name": "stdout",
     "output_type": "stream",
     "text": [
      "1\n",
      "1\n",
      "1\n",
      "1\n",
      "1\n",
      "1\n",
      "1\n",
      "1\n",
      "2\n",
      "2\n",
      "2\n",
      "2\n",
      "2\n",
      "2\n"
     ]
    }
   ],
   "source": [
    "for i in z:\n",
    "    print(i)"
   ]
  },
  {
   "cell_type": "code",
   "execution_count": 75,
   "id": "356e897a-fd7f-423e-af69-047239b02765",
   "metadata": {},
   "outputs": [],
   "source": [
    "t = (1,4,7,2,5)"
   ]
  },
  {
   "cell_type": "code",
   "execution_count": 76,
   "id": "67ca7dbc-2665-4d5a-85fc-ac7e0dbce4cb",
   "metadata": {},
   "outputs": [
    {
     "ename": "AttributeError",
     "evalue": "'tuple' object has no attribute 'sort'",
     "output_type": "error",
     "traceback": [
      "\u001b[1;31m---------------------------------------------------------------------------\u001b[0m",
      "\u001b[1;31mAttributeError\u001b[0m                            Traceback (most recent call last)",
      "Cell \u001b[1;32mIn[76], line 1\u001b[0m\n\u001b[1;32m----> 1\u001b[0m t\u001b[38;5;241m.\u001b[39msort()\n",
      "\u001b[1;31mAttributeError\u001b[0m: 'tuple' object has no attribute 'sort'"
     ]
    }
   ],
   "source": [
    "t.sort()"
   ]
  },
  {
   "cell_type": "code",
   "execution_count": 77,
   "id": "0a31499f-3fdc-4111-8eef-87e8a107e97c",
   "metadata": {},
   "outputs": [
    {
     "data": {
      "text/plain": [
       "[1, 2, 4, 5, 7]"
      ]
     },
     "execution_count": 77,
     "metadata": {},
     "output_type": "execute_result"
    }
   ],
   "source": [
    "sorted(t)"
   ]
  },
  {
   "cell_type": "code",
   "execution_count": 78,
   "id": "f4a6c3bd-186c-4f25-80ae-385f2278c9d0",
   "metadata": {},
   "outputs": [
    {
     "ename": "AttributeError",
     "evalue": "'tuple' object has no attribute 'reverse'",
     "output_type": "error",
     "traceback": [
      "\u001b[1;31m---------------------------------------------------------------------------\u001b[0m",
      "\u001b[1;31mAttributeError\u001b[0m                            Traceback (most recent call last)",
      "Cell \u001b[1;32mIn[78], line 1\u001b[0m\n\u001b[1;32m----> 1\u001b[0m t\u001b[38;5;241m.\u001b[39mreverse()\n",
      "\u001b[1;31mAttributeError\u001b[0m: 'tuple' object has no attribute 'reverse'"
     ]
    }
   ],
   "source": [
    "t.reverse()"
   ]
  },
  {
   "cell_type": "code",
   "execution_count": 79,
   "id": "1cb3e5e4-de14-4e02-8c01-3611526dfea0",
   "metadata": {},
   "outputs": [
    {
     "data": {
      "text/plain": [
       "(5, 2, 7, 4, 1)"
      ]
     },
     "execution_count": 79,
     "metadata": {},
     "output_type": "execute_result"
    }
   ],
   "source": [
    "t[::-1]"
   ]
  },
  {
   "cell_type": "code",
   "execution_count": 80,
   "id": "e18ac7f5-99b1-4543-a6ba-23d7595a003e",
   "metadata": {},
   "outputs": [
    {
     "data": {
      "text/plain": [
       "2"
      ]
     },
     "execution_count": 80,
     "metadata": {},
     "output_type": "execute_result"
    }
   ],
   "source": [
    "t.index(7)"
   ]
  },
  {
   "cell_type": "code",
   "execution_count": null,
   "id": "23799516-48f4-4dd3-acdb-86e5195ce470",
   "metadata": {},
   "outputs": [],
   "source": []
  },
  {
   "cell_type": "code",
   "execution_count": null,
   "id": "8b7d17ee-3fbb-4c97-82c8-9f80a8b73b2c",
   "metadata": {},
   "outputs": [],
   "source": []
  },
  {
   "cell_type": "code",
   "execution_count": null,
   "id": "b122870a-fa55-4d47-a2eb-4c0d745624ec",
   "metadata": {},
   "outputs": [],
   "source": []
  },
  {
   "cell_type": "code",
   "execution_count": null,
   "id": "ab46ea2f-0117-4597-a24a-ed1a16f1fdc3",
   "metadata": {},
   "outputs": [],
   "source": []
  },
  {
   "cell_type": "code",
   "execution_count": null,
   "id": "fe988635-ee2d-448a-9337-e8731fa274bd",
   "metadata": {},
   "outputs": [],
   "source": []
  },
  {
   "cell_type": "code",
   "execution_count": null,
   "id": "8ef98ef5-8499-464b-a9a4-5085489fe451",
   "metadata": {},
   "outputs": [],
   "source": []
  },
  {
   "cell_type": "code",
   "execution_count": null,
   "id": "5a82cafb-56f1-4a24-abe5-bbb2d22ec050",
   "metadata": {},
   "outputs": [],
   "source": []
  },
  {
   "cell_type": "code",
   "execution_count": null,
   "id": "89181ff4-91e9-45e8-ae35-44e8f27b1639",
   "metadata": {},
   "outputs": [],
   "source": []
  },
  {
   "cell_type": "code",
   "execution_count": null,
   "id": "d7b705aa-9d5c-4ae3-9e03-51dcea1a8b48",
   "metadata": {},
   "outputs": [],
   "source": []
  }
 ],
 "metadata": {
  "kernelspec": {
   "display_name": "Python 3 (ipykernel)",
   "language": "python",
   "name": "python3"
  },
  "language_info": {
   "codemirror_mode": {
    "name": "ipython",
    "version": 3
   },
   "file_extension": ".py",
   "mimetype": "text/x-python",
   "name": "python",
   "nbconvert_exporter": "python",
   "pygments_lexer": "ipython3",
   "version": "3.11.7"
  }
 },
 "nbformat": 4,
 "nbformat_minor": 5
}
