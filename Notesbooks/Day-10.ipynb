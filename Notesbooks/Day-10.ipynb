{
 "cells": [
  {
   "cell_type": "markdown",
   "id": "b907624d-47d7-4fcb-8594-84a8b9a00d37",
   "metadata": {},
   "source": [
    "# Dictionary"
   ]
  },
  {
   "cell_type": "code",
   "execution_count": 1,
   "id": "1f2a72b0-7f9a-4284-916b-5d88aba08da1",
   "metadata": {},
   "outputs": [],
   "source": [
    "d = {\"Name\":\"Jhon\"}"
   ]
  },
  {
   "cell_type": "code",
   "execution_count": 2,
   "id": "77838f6c-8842-422a-baf9-a26b77b82af4",
   "metadata": {},
   "outputs": [
    {
     "data": {
      "text/plain": [
       "dict"
      ]
     },
     "execution_count": 2,
     "metadata": {},
     "output_type": "execute_result"
    }
   ],
   "source": [
    "type(d)"
   ]
  },
  {
   "cell_type": "code",
   "execution_count": 3,
   "id": "b61995af-945c-407b-948e-9bedc7c5e3de",
   "metadata": {},
   "outputs": [],
   "source": [
    "j = {}"
   ]
  },
  {
   "cell_type": "code",
   "execution_count": 4,
   "id": "1f9da7cc-09a6-4328-8528-aae636458a91",
   "metadata": {},
   "outputs": [
    {
     "data": {
      "text/plain": [
       "dict"
      ]
     },
     "execution_count": 4,
     "metadata": {},
     "output_type": "execute_result"
    }
   ],
   "source": [
    "type(j)"
   ]
  },
  {
   "cell_type": "code",
   "execution_count": 5,
   "id": "1e1bf2e9-ff57-4ef7-a441-cd4ef381a0f8",
   "metadata": {},
   "outputs": [],
   "source": [
    "s = set()"
   ]
  },
  {
   "cell_type": "code",
   "execution_count": 6,
   "id": "e0ddc3a0-2a90-4e40-98e2-56c1625535ac",
   "metadata": {},
   "outputs": [
    {
     "data": {
      "text/plain": [
       "set"
      ]
     },
     "execution_count": 6,
     "metadata": {},
     "output_type": "execute_result"
    }
   ],
   "source": [
    "type(s)"
   ]
  },
  {
   "cell_type": "code",
   "execution_count": null,
   "id": "88a6e162-3896-443f-8223-7bb344e6a956",
   "metadata": {},
   "outputs": [],
   "source": []
  },
  {
   "cell_type": "code",
   "execution_count": 8,
   "id": "e220c506-c1ae-419e-aca7-8eb7ecf3035c",
   "metadata": {},
   "outputs": [],
   "source": [
    "stu = {\n",
    "    \"Name\":\"Aman\",\n",
    "    \"Age\":23,\n",
    "    \"Roll_no\": 12,\n",
    "    \"Height\":120,\n",
    "}"
   ]
  },
  {
   "cell_type": "code",
   "execution_count": 9,
   "id": "c5ec4b7f-04a8-45bf-9e75-d9c2b9dda6c5",
   "metadata": {},
   "outputs": [
    {
     "name": "stdout",
     "output_type": "stream",
     "text": [
      "{'Name': 'Aman', 'Age': 23, 'Roll_no': 12, 'Height': 120}\n"
     ]
    }
   ],
   "source": [
    "print(stu)"
   ]
  },
  {
   "cell_type": "code",
   "execution_count": 10,
   "id": "1d3929de-543a-4896-a993-77a4da90e110",
   "metadata": {},
   "outputs": [
    {
     "data": {
      "text/plain": [
       "23"
      ]
     },
     "execution_count": 10,
     "metadata": {},
     "output_type": "execute_result"
    }
   ],
   "source": [
    "stu['Age']"
   ]
  },
  {
   "cell_type": "code",
   "execution_count": 11,
   "id": "8ec44398-bb7a-4633-9f25-395c086df136",
   "metadata": {},
   "outputs": [
    {
     "data": {
      "text/plain": [
       "12"
      ]
     },
     "execution_count": 11,
     "metadata": {},
     "output_type": "execute_result"
    }
   ],
   "source": [
    "stu['Roll_no']"
   ]
  },
  {
   "cell_type": "code",
   "execution_count": 12,
   "id": "35168266-b4fe-47f8-925c-1cef38f9ac67",
   "metadata": {},
   "outputs": [
    {
     "ename": "KeyError",
     "evalue": "'Hair_color'",
     "output_type": "error",
     "traceback": [
      "\u001b[1;31m---------------------------------------------------------------------------\u001b[0m",
      "\u001b[1;31mKeyError\u001b[0m                                  Traceback (most recent call last)",
      "Cell \u001b[1;32mIn[12], line 1\u001b[0m\n\u001b[1;32m----> 1\u001b[0m stu[\u001b[38;5;124m'\u001b[39m\u001b[38;5;124mHair_color\u001b[39m\u001b[38;5;124m'\u001b[39m]\n",
      "\u001b[1;31mKeyError\u001b[0m: 'Hair_color'"
     ]
    }
   ],
   "source": [
    "stu['Hair_color']"
   ]
  },
  {
   "cell_type": "code",
   "execution_count": 13,
   "id": "fd628035-1dc1-40ce-9c49-f95ea90a3e10",
   "metadata": {},
   "outputs": [
    {
     "data": {
      "text/plain": [
       "23"
      ]
     },
     "execution_count": 13,
     "metadata": {},
     "output_type": "execute_result"
    }
   ],
   "source": [
    "stu.get(\"Age\")"
   ]
  },
  {
   "cell_type": "code",
   "execution_count": 14,
   "id": "fd8c44f7-d1bf-4f6f-b94b-6499a27cb7d4",
   "metadata": {},
   "outputs": [
    {
     "data": {
      "text/plain": [
       "12"
      ]
     },
     "execution_count": 14,
     "metadata": {},
     "output_type": "execute_result"
    }
   ],
   "source": [
    "stu.get(\"Roll_no\")"
   ]
  },
  {
   "cell_type": "code",
   "execution_count": 15,
   "id": "4b9486cb-31ba-483f-90ba-20cd42962b24",
   "metadata": {},
   "outputs": [
    {
     "name": "stdout",
     "output_type": "stream",
     "text": [
      "None\n"
     ]
    }
   ],
   "source": [
    "print(stu.get(\"Hair_color\"))"
   ]
  },
  {
   "cell_type": "code",
   "execution_count": null,
   "id": "96ce1239-9e6d-48da-8060-39f453ad2899",
   "metadata": {},
   "outputs": [],
   "source": []
  },
  {
   "cell_type": "code",
   "execution_count": 16,
   "id": "30d4c5c5-93b5-40eb-9ff3-e0e53b7f559e",
   "metadata": {},
   "outputs": [
    {
     "data": {
      "text/plain": [
       "4"
      ]
     },
     "execution_count": 16,
     "metadata": {},
     "output_type": "execute_result"
    }
   ],
   "source": [
    "len(stu)"
   ]
  },
  {
   "cell_type": "code",
   "execution_count": null,
   "id": "18af8110-8dd6-4296-a6ac-cb68f105f77d",
   "metadata": {},
   "outputs": [],
   "source": []
  },
  {
   "cell_type": "code",
   "execution_count": 17,
   "id": "506b8c4d-c5ff-4ae0-b36f-439639a0d9a1",
   "metadata": {},
   "outputs": [],
   "source": [
    "stu['Hair_color'] = \"Black\""
   ]
  },
  {
   "cell_type": "code",
   "execution_count": 18,
   "id": "611227fd-8272-4c9a-8923-6b02771a061c",
   "metadata": {},
   "outputs": [
    {
     "data": {
      "text/plain": [
       "{'Name': 'Aman',\n",
       " 'Age': 23,\n",
       " 'Roll_no': 12,\n",
       " 'Height': 120,\n",
       " 'Hair_color': 'Black'}"
      ]
     },
     "execution_count": 18,
     "metadata": {},
     "output_type": "execute_result"
    }
   ],
   "source": [
    "stu"
   ]
  },
  {
   "cell_type": "code",
   "execution_count": null,
   "id": "97bdeb76-bba8-40fb-a3a9-06767da36d3b",
   "metadata": {},
   "outputs": [],
   "source": []
  },
  {
   "cell_type": "code",
   "execution_count": 19,
   "id": "1f06b47d-c50f-4538-a0ac-6ca058b7f09a",
   "metadata": {},
   "outputs": [],
   "source": [
    "del stu['Roll_no']"
   ]
  },
  {
   "cell_type": "code",
   "execution_count": 20,
   "id": "2d5ed7f5-1fbf-4cde-a8f8-af4791b2cfc8",
   "metadata": {},
   "outputs": [
    {
     "data": {
      "text/plain": [
       "{'Name': 'Aman', 'Age': 23, 'Height': 120, 'Hair_color': 'Black'}"
      ]
     },
     "execution_count": 20,
     "metadata": {},
     "output_type": "execute_result"
    }
   ],
   "source": [
    "stu"
   ]
  },
  {
   "cell_type": "code",
   "execution_count": null,
   "id": "640aacf4-bb80-47e6-9b8b-9579c5cfe7fb",
   "metadata": {},
   "outputs": [],
   "source": []
  },
  {
   "cell_type": "code",
   "execution_count": 23,
   "id": "c96b74a5-b49d-427f-8d0a-1cb438a4e4a6",
   "metadata": {},
   "outputs": [],
   "source": [
    "stu['Height'] = 100"
   ]
  },
  {
   "cell_type": "code",
   "execution_count": 24,
   "id": "5ae5667e-fe86-4efb-bbff-aa4a4606d77e",
   "metadata": {},
   "outputs": [
    {
     "data": {
      "text/plain": [
       "{'Name': 'Aman', 'Age': 23, 'Height': 100, 'Hair_color': 'Black'}"
      ]
     },
     "execution_count": 24,
     "metadata": {},
     "output_type": "execute_result"
    }
   ],
   "source": [
    "stu"
   ]
  },
  {
   "cell_type": "code",
   "execution_count": null,
   "id": "4ee61d4d-69a9-427f-9593-f690436d1751",
   "metadata": {},
   "outputs": [],
   "source": []
  },
  {
   "cell_type": "code",
   "execution_count": 25,
   "id": "330a5eb1-407f-4954-a293-1a7519c0f3f7",
   "metadata": {},
   "outputs": [
    {
     "data": {
      "text/plain": [
       "False"
      ]
     },
     "execution_count": 25,
     "metadata": {},
     "output_type": "execute_result"
    }
   ],
   "source": [
    "\"Aman\" in stu"
   ]
  },
  {
   "cell_type": "code",
   "execution_count": 26,
   "id": "57d2bc54-6fb2-4041-803d-0b49ba1242f1",
   "metadata": {},
   "outputs": [
    {
     "data": {
      "text/plain": [
       "True"
      ]
     },
     "execution_count": 26,
     "metadata": {},
     "output_type": "execute_result"
    }
   ],
   "source": [
    "\"Name\" in stu"
   ]
  },
  {
   "cell_type": "code",
   "execution_count": 27,
   "id": "23ba690b-1ff7-4928-97a6-a1eabb792854",
   "metadata": {},
   "outputs": [
    {
     "data": {
      "text/plain": [
       "{'Name': 'Aman', 'Age': 23, 'Height': 100, 'Hair_color': 'Black'}"
      ]
     },
     "execution_count": 27,
     "metadata": {},
     "output_type": "execute_result"
    }
   ],
   "source": [
    "stu"
   ]
  },
  {
   "cell_type": "code",
   "execution_count": 28,
   "id": "726ff302-657d-4ef7-8dd1-ad0254b66f04",
   "metadata": {},
   "outputs": [
    {
     "name": "stdout",
     "output_type": "stream",
     "text": [
      "Name\n",
      "Age\n",
      "Height\n",
      "Hair_color\n"
     ]
    }
   ],
   "source": [
    "for i in stu:\n",
    "    print(i)"
   ]
  },
  {
   "cell_type": "code",
   "execution_count": null,
   "id": "c223f614-04ea-4e4c-b4d5-638e72b35a24",
   "metadata": {},
   "outputs": [],
   "source": []
  },
  {
   "cell_type": "code",
   "execution_count": 31,
   "id": "375d13c2-dc27-44f6-9e48-b46445662036",
   "metadata": {},
   "outputs": [
    {
     "name": "stdout",
     "output_type": "stream",
     "text": [
      "Aman\n",
      "23\n",
      "100\n",
      "Black\n"
     ]
    }
   ],
   "source": [
    "for i in stu:\n",
    "    # print(stu[i]) \n",
    "    print(stu.get(i))"
   ]
  },
  {
   "cell_type": "code",
   "execution_count": null,
   "id": "6733a6c6-26be-4dd3-9306-8e41f00f6632",
   "metadata": {},
   "outputs": [],
   "source": []
  },
  {
   "cell_type": "code",
   "execution_count": 32,
   "id": "855e8caf-401e-4505-b7aa-b631c17cc7c6",
   "metadata": {},
   "outputs": [
    {
     "data": {
      "text/plain": [
       "{'Name': 'Aman', 'Age': 23, 'Height': 100, 'Hair_color': 'Black'}"
      ]
     },
     "execution_count": 32,
     "metadata": {},
     "output_type": "execute_result"
    }
   ],
   "source": [
    "stu"
   ]
  },
  {
   "cell_type": "code",
   "execution_count": null,
   "id": "608451ea-b6b8-425b-a771-dc0ccf06287e",
   "metadata": {},
   "outputs": [],
   "source": []
  },
  {
   "cell_type": "code",
   "execution_count": 33,
   "id": "f0dccfd1-4cdf-45b1-bf6b-6bf127fe3ec5",
   "metadata": {},
   "outputs": [
    {
     "ename": "TypeError",
     "evalue": "pop expected at least 1 argument, got 0",
     "output_type": "error",
     "traceback": [
      "\u001b[1;31m---------------------------------------------------------------------------\u001b[0m",
      "\u001b[1;31mTypeError\u001b[0m                                 Traceback (most recent call last)",
      "Cell \u001b[1;32mIn[33], line 1\u001b[0m\n\u001b[1;32m----> 1\u001b[0m stu\u001b[38;5;241m.\u001b[39mpop()\n",
      "\u001b[1;31mTypeError\u001b[0m: pop expected at least 1 argument, got 0"
     ]
    }
   ],
   "source": [
    "stu.pop()"
   ]
  },
  {
   "cell_type": "code",
   "execution_count": 34,
   "id": "4b67b147-a3ac-4b9e-9bad-839e4ac2a6ca",
   "metadata": {},
   "outputs": [
    {
     "data": {
      "text/plain": [
       "('Hair_color', 'Black')"
      ]
     },
     "execution_count": 34,
     "metadata": {},
     "output_type": "execute_result"
    }
   ],
   "source": [
    "stu.popitem()"
   ]
  },
  {
   "cell_type": "code",
   "execution_count": 35,
   "id": "99e31b4e-3e05-459f-8e1d-5821dd49d6b9",
   "metadata": {},
   "outputs": [
    {
     "data": {
      "text/plain": [
       "{'Name': 'Aman', 'Age': 23, 'Height': 100}"
      ]
     },
     "execution_count": 35,
     "metadata": {},
     "output_type": "execute_result"
    }
   ],
   "source": [
    "stu"
   ]
  },
  {
   "cell_type": "code",
   "execution_count": 36,
   "id": "464c2a37-7557-4ff0-8a3f-4448879d6081",
   "metadata": {},
   "outputs": [],
   "source": [
    "g = stu.popitem()"
   ]
  },
  {
   "cell_type": "code",
   "execution_count": 37,
   "id": "3fcf55c6-5efc-46d0-97a1-ad150265b95a",
   "metadata": {},
   "outputs": [
    {
     "data": {
      "text/plain": [
       "('Height', 100)"
      ]
     },
     "execution_count": 37,
     "metadata": {},
     "output_type": "execute_result"
    }
   ],
   "source": [
    "g"
   ]
  },
  {
   "cell_type": "code",
   "execution_count": 38,
   "id": "f3cd6029-0b5f-4495-af22-44e624c80276",
   "metadata": {},
   "outputs": [
    {
     "data": {
      "text/plain": [
       "tuple"
      ]
     },
     "execution_count": 38,
     "metadata": {},
     "output_type": "execute_result"
    }
   ],
   "source": [
    "type(g)"
   ]
  },
  {
   "cell_type": "code",
   "execution_count": null,
   "id": "f176ce39-ee60-4bfc-8185-be2a95f7817c",
   "metadata": {},
   "outputs": [],
   "source": []
  },
  {
   "cell_type": "code",
   "execution_count": 39,
   "id": "5ed3bfbb-4313-414b-b034-648b0f3e5f62",
   "metadata": {},
   "outputs": [
    {
     "data": {
      "text/plain": [
       "{'Name': 'Aman', 'Age': 23}"
      ]
     },
     "execution_count": 39,
     "metadata": {},
     "output_type": "execute_result"
    }
   ],
   "source": [
    "stu"
   ]
  },
  {
   "cell_type": "code",
   "execution_count": 40,
   "id": "1c9ecab1-1f89-4409-94fd-533222e8bf26",
   "metadata": {},
   "outputs": [],
   "source": [
    "stu.clear()"
   ]
  },
  {
   "cell_type": "code",
   "execution_count": 41,
   "id": "cc997b86-e489-4585-a39a-0392920bc57f",
   "metadata": {},
   "outputs": [
    {
     "data": {
      "text/plain": [
       "{}"
      ]
     },
     "execution_count": 41,
     "metadata": {},
     "output_type": "execute_result"
    }
   ],
   "source": [
    "stu"
   ]
  },
  {
   "cell_type": "code",
   "execution_count": null,
   "id": "f590c0a8-3437-4a3a-97e6-8164937fc0d1",
   "metadata": {},
   "outputs": [],
   "source": []
  },
  {
   "cell_type": "code",
   "execution_count": 44,
   "id": "e1e7ade6-01e3-469c-be70-a9a36fdecc56",
   "metadata": {},
   "outputs": [],
   "source": [
    "stu = {\n",
    "    \"Name\":\"Jhon\",\n",
    "    \"Age\": 40,\n",
    "    \"Height\" : 120\n",
    "}"
   ]
  },
  {
   "cell_type": "code",
   "execution_count": 45,
   "id": "a0eb5a12-7f93-44ab-8c74-6a55e8ab2130",
   "metadata": {},
   "outputs": [],
   "source": [
    "k = stu"
   ]
  },
  {
   "cell_type": "code",
   "execution_count": 46,
   "id": "0157999f-86f5-405c-8568-616308ba80bd",
   "metadata": {},
   "outputs": [
    {
     "data": {
      "text/plain": [
       "{'Name': 'Jhon', 'Age': 40, 'Height': 120}"
      ]
     },
     "execution_count": 46,
     "metadata": {},
     "output_type": "execute_result"
    }
   ],
   "source": [
    "stu"
   ]
  },
  {
   "cell_type": "code",
   "execution_count": 47,
   "id": "eb8719e5-f0f7-4311-8527-975a6d7985fa",
   "metadata": {},
   "outputs": [
    {
     "data": {
      "text/plain": [
       "{'Name': 'Jhon', 'Age': 40, 'Height': 120}"
      ]
     },
     "execution_count": 47,
     "metadata": {},
     "output_type": "execute_result"
    }
   ],
   "source": [
    "k"
   ]
  },
  {
   "cell_type": "code",
   "execution_count": null,
   "id": "11cebadd-ec67-4f68-ae3a-76e8597a255e",
   "metadata": {},
   "outputs": [],
   "source": []
  },
  {
   "cell_type": "code",
   "execution_count": 48,
   "id": "c8f6abb4-fee9-4d00-bebf-b01c75610a93",
   "metadata": {},
   "outputs": [],
   "source": [
    "k['Name'] = \"Suraj\""
   ]
  },
  {
   "cell_type": "code",
   "execution_count": 49,
   "id": "4797aee4-74db-4ffd-9863-c5fbe0d4ad85",
   "metadata": {},
   "outputs": [
    {
     "data": {
      "text/plain": [
       "{'Name': 'Suraj', 'Age': 40, 'Height': 120}"
      ]
     },
     "execution_count": 49,
     "metadata": {},
     "output_type": "execute_result"
    }
   ],
   "source": [
    "stu"
   ]
  },
  {
   "cell_type": "code",
   "execution_count": null,
   "id": "46163d36-65bd-4198-a1ee-179b0e5836ba",
   "metadata": {},
   "outputs": [],
   "source": []
  },
  {
   "cell_type": "code",
   "execution_count": 50,
   "id": "de4d0539-2e48-4f19-85d8-588249af3e18",
   "metadata": {},
   "outputs": [
    {
     "data": {
      "text/plain": [
       "{'Name': 'Suraj', 'Age': 40, 'Height': 120}"
      ]
     },
     "execution_count": 50,
     "metadata": {},
     "output_type": "execute_result"
    }
   ],
   "source": [
    "stu"
   ]
  },
  {
   "cell_type": "code",
   "execution_count": 51,
   "id": "eae698ea-0e53-42be-876e-cb7f534c1331",
   "metadata": {},
   "outputs": [],
   "source": [
    "p = stu.copy()"
   ]
  },
  {
   "cell_type": "code",
   "execution_count": 52,
   "id": "c342c5f5-8e33-4816-b89b-25d635de68e6",
   "metadata": {},
   "outputs": [
    {
     "data": {
      "text/plain": [
       "{'Name': 'Suraj', 'Age': 40, 'Height': 120}"
      ]
     },
     "execution_count": 52,
     "metadata": {},
     "output_type": "execute_result"
    }
   ],
   "source": [
    "stu"
   ]
  },
  {
   "cell_type": "code",
   "execution_count": 53,
   "id": "78b99adc-5d56-46b5-b354-69d8f7d5bff2",
   "metadata": {},
   "outputs": [
    {
     "data": {
      "text/plain": [
       "{'Name': 'Suraj', 'Age': 40, 'Height': 120}"
      ]
     },
     "execution_count": 53,
     "metadata": {},
     "output_type": "execute_result"
    }
   ],
   "source": [
    "p"
   ]
  },
  {
   "cell_type": "code",
   "execution_count": 54,
   "id": "79391a1b-700c-462b-bccb-70006b069093",
   "metadata": {},
   "outputs": [],
   "source": [
    "p['Age'] = 50"
   ]
  },
  {
   "cell_type": "code",
   "execution_count": 55,
   "id": "843d7a28-f280-42ea-a8ba-4b295c0bfe14",
   "metadata": {},
   "outputs": [
    {
     "data": {
      "text/plain": [
       "{'Name': 'Suraj', 'Age': 50, 'Height': 120}"
      ]
     },
     "execution_count": 55,
     "metadata": {},
     "output_type": "execute_result"
    }
   ],
   "source": [
    "p"
   ]
  },
  {
   "cell_type": "code",
   "execution_count": 56,
   "id": "66d03e7b-6d0e-43ac-904b-2a52fc695dc4",
   "metadata": {},
   "outputs": [
    {
     "data": {
      "text/plain": [
       "{'Name': 'Suraj', 'Age': 40, 'Height': 120}"
      ]
     },
     "execution_count": 56,
     "metadata": {},
     "output_type": "execute_result"
    }
   ],
   "source": [
    "stu"
   ]
  },
  {
   "cell_type": "code",
   "execution_count": null,
   "id": "e87c58bb-cd11-4567-9e80-8beeb59e4852",
   "metadata": {},
   "outputs": [],
   "source": []
  },
  {
   "cell_type": "code",
   "execution_count": 57,
   "id": "d8d0bc71-55ff-43f2-8e81-f544d1b1ba59",
   "metadata": {},
   "outputs": [],
   "source": [
    "info = {\n",
    "    \"Stu1\": {\"Name\":\"Rahul\",'Age':20,\"Roll_num\":1},\n",
    "    \"Stu2\": {\"Name\":\"Prashant\",\"Age\":21,\"Roll_num\":2},\n",
    "    \"Stu3\": {\"Name\":\"Anjesh\", \"Age\":22, \"Roll_num\":3}\n",
    "}"
   ]
  },
  {
   "cell_type": "code",
   "execution_count": 58,
   "id": "39b57013-c41e-4f7c-b3c5-b703b0145a7a",
   "metadata": {},
   "outputs": [
    {
     "data": {
      "text/plain": [
       "{'Stu1': {'Name': 'Rahul', 'Age': 20, 'Roll_num': 1},\n",
       " 'Stu2': {'Name': 'Prashant', 'Age': 21, 'Roll_num': 2},\n",
       " 'Stu3': {'Name': 'Anjesh', 'Age': 22, 'Roll_num': 3}}"
      ]
     },
     "execution_count": 58,
     "metadata": {},
     "output_type": "execute_result"
    }
   ],
   "source": [
    "info"
   ]
  },
  {
   "cell_type": "code",
   "execution_count": 59,
   "id": "aaee3236-1290-4cd8-8d8c-93275cea0481",
   "metadata": {},
   "outputs": [
    {
     "ename": "NameError",
     "evalue": "name 'Stu2' is not defined",
     "output_type": "error",
     "traceback": [
      "\u001b[1;31m---------------------------------------------------------------------------\u001b[0m",
      "\u001b[1;31mNameError\u001b[0m                                 Traceback (most recent call last)",
      "Cell \u001b[1;32mIn[59], line 1\u001b[0m\n\u001b[1;32m----> 1\u001b[0m info[Stu2[\u001b[38;5;241m0\u001b[39m]]\n",
      "\u001b[1;31mNameError\u001b[0m: name 'Stu2' is not defined"
     ]
    }
   ],
   "source": [
    "info[Stu2[0]]"
   ]
  },
  {
   "cell_type": "code",
   "execution_count": 60,
   "id": "ba9e3cff-f802-4111-9878-779946ffbe81",
   "metadata": {},
   "outputs": [
    {
     "ename": "NameError",
     "evalue": "name 'Stu2' is not defined",
     "output_type": "error",
     "traceback": [
      "\u001b[1;31m---------------------------------------------------------------------------\u001b[0m",
      "\u001b[1;31mNameError\u001b[0m                                 Traceback (most recent call last)",
      "Cell \u001b[1;32mIn[60], line 1\u001b[0m\n\u001b[1;32m----> 1\u001b[0m info\u001b[38;5;241m.\u001b[39mget(Stu2)\n",
      "\u001b[1;31mNameError\u001b[0m: name 'Stu2' is not defined"
     ]
    }
   ],
   "source": [
    "info.get(Stu2)"
   ]
  },
  {
   "cell_type": "code",
   "execution_count": 61,
   "id": "37452801-276b-415f-a162-28567a99c73a",
   "metadata": {},
   "outputs": [
    {
     "ename": "NameError",
     "evalue": "name 'Stu2' is not defined",
     "output_type": "error",
     "traceback": [
      "\u001b[1;31m---------------------------------------------------------------------------\u001b[0m",
      "\u001b[1;31mNameError\u001b[0m                                 Traceback (most recent call last)",
      "Cell \u001b[1;32mIn[61], line 1\u001b[0m\n\u001b[1;32m----> 1\u001b[0m info[Stu2][\u001b[38;5;241m0\u001b[39m]\n",
      "\u001b[1;31mNameError\u001b[0m: name 'Stu2' is not defined"
     ]
    }
   ],
   "source": [
    "info[Stu2][0]"
   ]
  },
  {
   "cell_type": "code",
   "execution_count": 62,
   "id": "a02b3c46-c12f-4f62-b245-f29f8e1db4b9",
   "metadata": {},
   "outputs": [
    {
     "data": {
      "text/plain": [
       "'Prashant'"
      ]
     },
     "execution_count": 62,
     "metadata": {},
     "output_type": "execute_result"
    }
   ],
   "source": [
    "info[\"Stu2\"][\"Name\"]"
   ]
  },
  {
   "cell_type": "code",
   "execution_count": null,
   "id": "0f7de8bd-d7fa-4802-9ffa-0e4cd9a5d9b4",
   "metadata": {},
   "outputs": [],
   "source": [
    "info = {\n",
    "    \"Stu1\": {\"Name\":\"Rahul\",'Age':20,\"Roll_num\":1},\n",
    "    \"Stu2\": {\"Name\":\"Prashant\",\"Age\":21,\"Roll_num\":2},\n",
    "    \"Stu3\": {\"Name\":\"Anjesh\", \"Age\":22, \"Roll_num\":3}\n",
    "}"
   ]
  },
  {
   "cell_type": "code",
   "execution_count": 63,
   "id": "75704368-260c-4add-a55b-9ce6cd6c8de4",
   "metadata": {},
   "outputs": [
    {
     "data": {
      "text/plain": [
       "'Anjesh'"
      ]
     },
     "execution_count": 63,
     "metadata": {},
     "output_type": "execute_result"
    }
   ],
   "source": [
    "info[\"Stu3\"][\"Name\"]"
   ]
  },
  {
   "cell_type": "code",
   "execution_count": null,
   "id": "966314e1-15a0-4d3a-9816-9dc609847ddb",
   "metadata": {},
   "outputs": [],
   "source": []
  },
  {
   "cell_type": "code",
   "execution_count": 64,
   "id": "1185e8aa-e8ad-4ee0-ab75-a009b0e0ccf9",
   "metadata": {},
   "outputs": [],
   "source": [
    "info = {\n",
    "    \"Stu1\": {\"Name\":{\"first_name\":\"Rahul\",\"second_name\":\"Singh\"},'Age':20,\"Roll_num\":1},\n",
    "    \"Stu2\": {\"Name\":{\"first_name\":\"Prshant\",\"second_name\":\"Sinha\"},\"Age\":21,\"Roll_num\":2},\n",
    "    \"Stu3\": {\"Name\":{\"first_name\":\"Anjesh\",\"second_name\":\"Rai\"}, \"Age\":22, \"Roll_num\":3}\n",
    "}"
   ]
  },
  {
   "cell_type": "code",
   "execution_count": 65,
   "id": "a30ace33-9fe3-4a08-b9ce-29fe8a5c5fe5",
   "metadata": {},
   "outputs": [
    {
     "data": {
      "text/plain": [
       "{'Stu1': {'Name': {'first_name': 'Rahul', 'second_name': 'Singh'},\n",
       "  'Age': 20,\n",
       "  'Roll_num': 1},\n",
       " 'Stu2': {'Name': {'first_name': 'Prshant', 'second_name': 'Sinha'},\n",
       "  'Age': 21,\n",
       "  'Roll_num': 2},\n",
       " 'Stu3': {'Name': {'first_name': 'Anjesh', 'second_name': 'Rai'},\n",
       "  'Age': 22,\n",
       "  'Roll_num': 3}}"
      ]
     },
     "execution_count": 65,
     "metadata": {},
     "output_type": "execute_result"
    }
   ],
   "source": [
    "info"
   ]
  },
  {
   "cell_type": "code",
   "execution_count": 66,
   "id": "0ed8dd08-bbb7-4ec7-8a27-40671ef7937c",
   "metadata": {},
   "outputs": [
    {
     "data": {
      "text/plain": [
       "'Sinha'"
      ]
     },
     "execution_count": 66,
     "metadata": {},
     "output_type": "execute_result"
    }
   ],
   "source": [
    "info['Stu2']['Name']['second_name']"
   ]
  },
  {
   "cell_type": "code",
   "execution_count": null,
   "id": "b86c4e4c-b88c-4e65-a91d-94781a65d749",
   "metadata": {},
   "outputs": [],
   "source": []
  },
  {
   "cell_type": "code",
   "execution_count": 67,
   "id": "8c001680-ab95-4d19-ab7c-6b786bb777a8",
   "metadata": {},
   "outputs": [],
   "source": [
    "marks = {}.fromkeys([\"Phy\",\"Chem\",\"Maths\"],0)"
   ]
  },
  {
   "cell_type": "code",
   "execution_count": 68,
   "id": "1b979cc9-9478-4de7-8692-120f92291ef7",
   "metadata": {},
   "outputs": [
    {
     "data": {
      "text/plain": [
       "{'Phy': 0, 'Chem': 0, 'Maths': 0}"
      ]
     },
     "execution_count": 68,
     "metadata": {},
     "output_type": "execute_result"
    }
   ],
   "source": [
    "marks"
   ]
  },
  {
   "cell_type": "code",
   "execution_count": null,
   "id": "6cf6dc8f-6749-4a6c-922c-a2b1bdfbd576",
   "metadata": {},
   "outputs": [],
   "source": []
  },
  {
   "cell_type": "code",
   "execution_count": 69,
   "id": "e2036bad-3919-4e58-8b8e-cfab94eec911",
   "metadata": {},
   "outputs": [
    {
     "data": {
      "text/plain": [
       "{'Name': 'Suraj', 'Age': 40, 'Height': 120}"
      ]
     },
     "execution_count": 69,
     "metadata": {},
     "output_type": "execute_result"
    }
   ],
   "source": [
    "stu"
   ]
  },
  {
   "cell_type": "code",
   "execution_count": 70,
   "id": "286503c8-9a7e-40df-a787-a7b4e6894d0c",
   "metadata": {},
   "outputs": [
    {
     "data": {
      "text/plain": [
       "dict_keys(['Name', 'Age', 'Height'])"
      ]
     },
     "execution_count": 70,
     "metadata": {},
     "output_type": "execute_result"
    }
   ],
   "source": [
    "stu.keys()"
   ]
  },
  {
   "cell_type": "code",
   "execution_count": 71,
   "id": "cf7e8a25-1243-4f1e-b513-a0fcf782dc6e",
   "metadata": {},
   "outputs": [
    {
     "data": {
      "text/plain": [
       "dict_values(['Suraj', 40, 120])"
      ]
     },
     "execution_count": 71,
     "metadata": {},
     "output_type": "execute_result"
    }
   ],
   "source": [
    "stu.values()"
   ]
  },
  {
   "cell_type": "code",
   "execution_count": 72,
   "id": "ddd1f5b7-98db-4744-822f-c89cce8e5fc9",
   "metadata": {},
   "outputs": [
    {
     "data": {
      "text/plain": [
       "dict_items([('Name', 'Suraj'), ('Age', 40), ('Height', 120)])"
      ]
     },
     "execution_count": 72,
     "metadata": {},
     "output_type": "execute_result"
    }
   ],
   "source": [
    "stu.items()"
   ]
  },
  {
   "cell_type": "code",
   "execution_count": 74,
   "id": "43704534-b036-43ec-8dc4-7966a7a753c3",
   "metadata": {},
   "outputs": [],
   "source": [
    "x = (1,2)"
   ]
  },
  {
   "cell_type": "code",
   "execution_count": 75,
   "id": "91b4195a-2596-43c1-a146-91bcab7b13bf",
   "metadata": {},
   "outputs": [],
   "source": [
    "a,b = x"
   ]
  },
  {
   "cell_type": "code",
   "execution_count": 76,
   "id": "f2e36896-66d8-43b7-80c3-e159b6b41f9a",
   "metadata": {},
   "outputs": [
    {
     "data": {
      "text/plain": [
       "1"
      ]
     },
     "execution_count": 76,
     "metadata": {},
     "output_type": "execute_result"
    }
   ],
   "source": [
    "a"
   ]
  },
  {
   "cell_type": "code",
   "execution_count": 77,
   "id": "24a9f98b-dac9-4f63-87eb-b2dd686d7508",
   "metadata": {},
   "outputs": [
    {
     "data": {
      "text/plain": [
       "2"
      ]
     },
     "execution_count": 77,
     "metadata": {},
     "output_type": "execute_result"
    }
   ],
   "source": [
    "b"
   ]
  },
  {
   "cell_type": "code",
   "execution_count": 79,
   "id": "15e17018-7338-430d-946f-7ae7b82a8367",
   "metadata": {},
   "outputs": [],
   "source": [
    "ex = ('Stu1', {'Name': 'Rahul', 'Age': 20, 'Roll_num': 1})"
   ]
  },
  {
   "cell_type": "code",
   "execution_count": 80,
   "id": "3ae85810-0f3d-4b2d-905d-33c9ff7360d0",
   "metadata": {},
   "outputs": [],
   "source": [
    "a,b = ex"
   ]
  },
  {
   "cell_type": "code",
   "execution_count": 81,
   "id": "e49a2a82-bd2b-4bdd-9fba-819f7abd9c32",
   "metadata": {},
   "outputs": [
    {
     "data": {
      "text/plain": [
       "'Stu1'"
      ]
     },
     "execution_count": 81,
     "metadata": {},
     "output_type": "execute_result"
    }
   ],
   "source": [
    "a"
   ]
  },
  {
   "cell_type": "code",
   "execution_count": 82,
   "id": "8845b660-3d25-4576-91ad-efd865c4452a",
   "metadata": {},
   "outputs": [
    {
     "data": {
      "text/plain": [
       "{'Name': 'Rahul', 'Age': 20, 'Roll_num': 1}"
      ]
     },
     "execution_count": 82,
     "metadata": {},
     "output_type": "execute_result"
    }
   ],
   "source": [
    "b"
   ]
  },
  {
   "cell_type": "code",
   "execution_count": 78,
   "id": "66b2dfd2-dce8-419b-9eea-a393b99f8f58",
   "metadata": {},
   "outputs": [
    {
     "data": {
      "text/plain": [
       "dict_items([('Stu1', {'Name': 'Rahul', 'Age': 20, 'Roll_num': 1}), ('Stu2', {'Name': 'Prashant', 'Age': 21, 'Roll_num': 2}), ('Stu3', {'Name': 'Anjesh', 'Age': 22, 'Roll_num': 3})])"
      ]
     },
     "execution_count": 78,
     "metadata": {},
     "output_type": "execute_result"
    }
   ],
   "source": [
    "info.items()"
   ]
  },
  {
   "cell_type": "code",
   "execution_count": 73,
   "id": "affffa11-00c1-45bf-b83f-fba4621344ec",
   "metadata": {},
   "outputs": [],
   "source": [
    "info = {\n",
    "    \"Stu1\": {\"Name\":\"Rahul\",'Age':20,\"Roll_num\":1},\n",
    "    \"Stu2\": {\"Name\":\"Prashant\",\"Age\":21,\"Roll_num\":2},\n",
    "    \"Stu3\": {\"Name\":\"Anjesh\", \"Age\":22, \"Roll_num\":3}\n",
    "}"
   ]
  },
  {
   "cell_type": "code",
   "execution_count": 83,
   "id": "5c7b9463-e00b-4e46-9519-a6c49915fe4c",
   "metadata": {},
   "outputs": [
    {
     "name": "stdout",
     "output_type": "stream",
     "text": [
      "Information about Stu1\n",
      "My name is Rahul and my age is 20 and my roll no is 1\n",
      "Information about Stu2\n",
      "My name is Prashant and my age is 21 and my roll no is 2\n",
      "Information about Stu3\n",
      "My name is Anjesh and my age is 22 and my roll no is 3\n"
     ]
    }
   ],
   "source": [
    "for stu in info.items():\n",
    "    stu_ref,stu_info = stu\n",
    "    print(f\"Information about {stu_ref}\")\n",
    "    print(f\"My name is {stu_info['Name']} and my age is {stu_info['Age']} and my roll no is {stu_info['Roll_num']}\")"
   ]
  },
  {
   "cell_type": "code",
   "execution_count": null,
   "id": "1e7eada1-028a-4807-8417-2a0d6fe22660",
   "metadata": {},
   "outputs": [],
   "source": []
  },
  {
   "cell_type": "code",
   "execution_count": null,
   "id": "ef0bfffc-fdd0-42bf-a89e-7f17ed2c9f28",
   "metadata": {},
   "outputs": [],
   "source": []
  }
 ],
 "metadata": {
  "kernelspec": {
   "display_name": "Python 3 (ipykernel)",
   "language": "python",
   "name": "python3"
  },
  "language_info": {
   "codemirror_mode": {
    "name": "ipython",
    "version": 3
   },
   "file_extension": ".py",
   "mimetype": "text/x-python",
   "name": "python",
   "nbconvert_exporter": "python",
   "pygments_lexer": "ipython3",
   "version": "3.11.7"
  }
 },
 "nbformat": 4,
 "nbformat_minor": 5
}
