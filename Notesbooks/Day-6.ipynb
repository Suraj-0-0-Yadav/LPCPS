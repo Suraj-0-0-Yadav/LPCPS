{
 "cells": [
  {
   "cell_type": "code",
   "execution_count": 1,
   "id": "996739cb-f323-4a24-8b14-6d7180038238",
   "metadata": {},
   "outputs": [],
   "source": [
    "d = {\"Apple\":40,\"Ornage\":35,'Grapes':50}"
   ]
  },
  {
   "cell_type": "code",
   "execution_count": 2,
   "id": "0856ae94-c85e-4803-a957-dc5190111ece",
   "metadata": {},
   "outputs": [
    {
     "data": {
      "text/plain": [
       "True"
      ]
     },
     "execution_count": 2,
     "metadata": {},
     "output_type": "execute_result"
    }
   ],
   "source": [
    "\"Apple\" in d"
   ]
  },
  {
   "cell_type": "code",
   "execution_count": 3,
   "id": "f0664bf8-4e69-41a0-b16b-74ff050e8ff4",
   "metadata": {},
   "outputs": [
    {
     "data": {
      "text/plain": [
       "False"
      ]
     },
     "execution_count": 3,
     "metadata": {},
     "output_type": "execute_result"
    }
   ],
   "source": [
    "40 in d"
   ]
  },
  {
   "cell_type": "code",
   "execution_count": null,
   "id": "32f1ef21-2e47-456f-bf3b-9d23128d8763",
   "metadata": {},
   "outputs": [],
   "source": []
  },
  {
   "cell_type": "code",
   "execution_count": null,
   "id": "455989cf-5fb0-43ad-bb8f-6b12e8bf4203",
   "metadata": {},
   "outputs": [],
   "source": []
  },
  {
   "cell_type": "code",
   "execution_count": null,
   "id": "2844fa84-e85f-4b90-85e7-69ddcd70f21c",
   "metadata": {},
   "outputs": [],
   "source": []
  },
  {
   "cell_type": "markdown",
   "id": "6508a59a-3c42-4453-90fd-7c96962014e1",
   "metadata": {},
   "source": [
    "# If statement "
   ]
  },
  {
   "cell_type": "code",
   "execution_count": 14,
   "id": "84a79318-7069-4525-af83-c8913e1a18fe",
   "metadata": {},
   "outputs": [
    {
     "name": "stdout",
     "output_type": "stream",
     "text": [
      "Mai if k andar nhi hu\n"
     ]
    }
   ],
   "source": [
    "a = 10\n",
    "b = 20\n",
    "if a>b:\n",
    "    print(\"Mai if k andar hu\")\n",
    "\n",
    "print(\"Mai if k andar nhi hu\")"
   ]
  },
  {
   "cell_type": "markdown",
   "id": "607d9dc5-d38f-4fb7-8833-c7283a149823",
   "metadata": {},
   "source": [
    "# if-else Statements"
   ]
  },
  {
   "cell_type": "code",
   "execution_count": 16,
   "id": "3af321f6-cb1d-4a4b-a291-5cd2220e767f",
   "metadata": {},
   "outputs": [
    {
     "name": "stdout",
     "output_type": "stream",
     "text": [
      "Mai else k andar hu\n",
      "END\n"
     ]
    }
   ],
   "source": [
    "a = 10\n",
    "b = 20\n",
    "\n",
    "if a>b:\n",
    "    print(\"Mai if k andar hu\")\n",
    "else:\n",
    "    print(\"Mai else k andar hu\")\n",
    "\n",
    "print(\"END\")"
   ]
  },
  {
   "cell_type": "markdown",
   "id": "a15d667a-63ec-4986-944d-63c4d07ee57f",
   "metadata": {},
   "source": [
    "# if-elif-else statements"
   ]
  },
  {
   "cell_type": "code",
   "execution_count": 17,
   "id": "8c258ee4-c91f-49c8-a7ab-9a84059b0442",
   "metadata": {},
   "outputs": [
    {
     "data": {
      "text/plain": [
       "(str, int)"
      ]
     },
     "execution_count": 17,
     "metadata": {},
     "output_type": "execute_result"
    }
   ],
   "source": [
    "num = \"100\"\n",
    "n = int(num)\n",
    "\n",
    "type(num),type(n)"
   ]
  },
  {
   "cell_type": "code",
   "execution_count": 35,
   "id": "91867b16-0d96-478d-8dc7-10cb81b3c2fa",
   "metadata": {},
   "outputs": [
    {
     "name": "stdin",
     "output_type": "stream",
     "text": [
      "Enter the students marks:  40\n"
     ]
    },
    {
     "name": "stdout",
     "output_type": "stream",
     "text": [
      "D\n"
     ]
    }
   ],
   "source": [
    "score = int(input(\"Enter the students marks: \"))\n",
    "\n",
    "if score>=90:\n",
    "    print(\"A\")\n",
    "elif score >= 70 and score < 90:\n",
    "    print(\"B\")\n",
    "elif score >= 60 and score < 70:\n",
    "    print(\"C\")\n",
    "else:\n",
    "    print(\"D\")"
   ]
  },
  {
   "cell_type": "code",
   "execution_count": 41,
   "id": "a8335cc9-a909-419f-8ff5-2943de31c1c4",
   "metadata": {},
   "outputs": [
    {
     "data": {
      "text/plain": [
       "False"
      ]
     },
     "execution_count": 41,
     "metadata": {},
     "output_type": "execute_result"
    }
   ],
   "source": [
    "\"five\".isdigit()"
   ]
  },
  {
   "cell_type": "code",
   "execution_count": 43,
   "id": "5921ae8b-ab8f-49ed-89ea-d00d99e8aedd",
   "metadata": {},
   "outputs": [
    {
     "name": "stdin",
     "output_type": "stream",
     "text": [
      "Enter the rating(1-5) :  five\n"
     ]
    },
    {
     "name": "stdout",
     "output_type": "stream",
     "text": [
      "Very Good\n"
     ]
    }
   ],
   "source": [
    "review = input(\"Enter the rating(1-5) : \")\n",
    "\n",
    "if review.isdigit():\n",
    "    review = int(review)\n",
    "\n",
    "if review == 'one' or review == 1:\n",
    "    print(\"Very Bad\")\n",
    "elif review == \"two\" or review == 2:\n",
    "    print(\"bad\")\n",
    "elif review == \"three\" or review == 3:\n",
    "    print(\"Average\")\n",
    "elif review == 'four' or review == 4:\n",
    "    print(\"Good\")\n",
    "elif review == 'five' or review == 5:\n",
    "    print(\"Very Good\")"
   ]
  },
  {
   "cell_type": "code",
   "execution_count": null,
   "id": "4a0ad84f-fcf1-4846-b7df-fb406704d8f6",
   "metadata": {},
   "outputs": [],
   "source": []
  }
 ],
 "metadata": {
  "kernelspec": {
   "display_name": "Python 3 (ipykernel)",
   "language": "python",
   "name": "python3"
  },
  "language_info": {
   "codemirror_mode": {
    "name": "ipython",
    "version": 3
   },
   "file_extension": ".py",
   "mimetype": "text/x-python",
   "name": "python",
   "nbconvert_exporter": "python",
   "pygments_lexer": "ipython3",
   "version": "3.11.7"
  }
 },
 "nbformat": 4,
 "nbformat_minor": 5
}
