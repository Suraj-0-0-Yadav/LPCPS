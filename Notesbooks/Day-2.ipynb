{
 "cells": [
  {
   "cell_type": "code",
   "execution_count": 12,
   "id": "a393f96c-3457-4154-9f4c-be43a1509a02",
   "metadata": {},
   "outputs": [],
   "source": [
    "a = 10"
   ]
  },
  {
   "cell_type": "code",
   "execution_count": null,
   "id": "e50d0c15-f40b-436d-8cc6-ca9db5cff1b8",
   "metadata": {},
   "outputs": [],
   "source": []
  },
  {
   "cell_type": "code",
   "execution_count": 11,
   "id": "f7a65013-e13d-4fe9-a6cf-734fe0736c7a",
   "metadata": {},
   "outputs": [],
   "source": [
    "class LPCPS:\n",
    "    def info(self):\n",
    "        print(\"Hello\")"
   ]
  },
  {
   "cell_type": "code",
   "execution_count": 13,
   "id": "0e8825eb-0bdd-4929-9b8f-68ed7d7f7d87",
   "metadata": {},
   "outputs": [],
   "source": [
    "b = LPCPS()"
   ]
  },
  {
   "cell_type": "code",
   "execution_count": 14,
   "id": "88ff0beb-8bb8-46fe-a047-76c350a67082",
   "metadata": {},
   "outputs": [
    {
     "data": {
      "text/plain": [
       "int"
      ]
     },
     "execution_count": 14,
     "metadata": {},
     "output_type": "execute_result"
    }
   ],
   "source": [
    "type(a)"
   ]
  },
  {
   "cell_type": "code",
   "execution_count": 16,
   "id": "9aa64013-3a32-46c2-966a-0934a6f7591f",
   "metadata": {},
   "outputs": [
    {
     "data": {
      "text/plain": [
       "__main__.LPCPS"
      ]
     },
     "execution_count": 16,
     "metadata": {},
     "output_type": "execute_result"
    }
   ],
   "source": [
    "type(b)"
   ]
  },
  {
   "cell_type": "markdown",
   "id": "fa8609d0-d9d6-4b67-a25c-ea061571624c",
   "metadata": {},
   "source": [
    "***"
   ]
  },
  {
   "cell_type": "code",
   "execution_count": 17,
   "id": "ca8ae4b8-eb51-4207-a8d2-19ef7d0f6d62",
   "metadata": {},
   "outputs": [],
   "source": [
    "x = \"python Prpogramming\""
   ]
  },
  {
   "cell_type": "code",
   "execution_count": 27,
   "id": "e3e9b22c-3eb1-4458-9fec-3cb815eac7f2",
   "metadata": {},
   "outputs": [
    {
     "data": {
      "text/plain": [
       "'gram'"
      ]
     },
     "execution_count": 27,
     "metadata": {},
     "output_type": "execute_result"
    }
   ],
   "source": [
    "x[11:-4]"
   ]
  },
  {
   "cell_type": "code",
   "execution_count": 26,
   "id": "8b721cde-1fa2-42b3-b319-e8d362679ec9",
   "metadata": {},
   "outputs": [
    {
     "data": {
      "text/plain": [
       "'pogr'"
      ]
     },
     "execution_count": 26,
     "metadata": {},
     "output_type": "execute_result"
    }
   ],
   "source": [
    "x[-10:-6]"
   ]
  },
  {
   "cell_type": "code",
   "execution_count": 21,
   "id": "4f3d7710-fcaa-4b67-b664-ad9bf1c3e04c",
   "metadata": {},
   "outputs": [
    {
     "data": {
      "text/plain": [
       "11"
      ]
     },
     "execution_count": 21,
     "metadata": {},
     "output_type": "execute_result"
    }
   ],
   "source": [
    "x.find('g')"
   ]
  },
  {
   "cell_type": "markdown",
   "id": "6c29b09d-da8b-4815-90f2-1502ee5aa076",
   "metadata": {},
   "source": [
    "***"
   ]
  },
  {
   "cell_type": "code",
   "execution_count": 28,
   "id": "c1dc0d95-3a55-4c2b-8243-6d714bae5479",
   "metadata": {},
   "outputs": [],
   "source": [
    "d = \"Computer Programming\""
   ]
  },
  {
   "cell_type": "code",
   "execution_count": 36,
   "id": "4efa8ac5-ca02-4707-a556-728569d9d3e5",
   "metadata": {},
   "outputs": [
    {
     "data": {
      "text/plain": [
       "'Cmue rgamn'"
      ]
     },
     "execution_count": 36,
     "metadata": {},
     "output_type": "execute_result"
    }
   ],
   "source": [
    "d[::2]"
   ]
  },
  {
   "cell_type": "code",
   "execution_count": null,
   "id": "a35ffc99-a8e4-49fd-9c2c-b90a1122ab83",
   "metadata": {},
   "outputs": [],
   "source": []
  },
  {
   "cell_type": "code",
   "execution_count": null,
   "id": "f4757fa4-55b8-4a2f-bd6b-d3fb433da540",
   "metadata": {},
   "outputs": [],
   "source": []
  },
  {
   "cell_type": "code",
   "execution_count": null,
   "id": "3535fabf-e3dd-4a54-8cee-240661ff8d6d",
   "metadata": {},
   "outputs": [],
   "source": []
  },
  {
   "cell_type": "code",
   "execution_count": null,
   "id": "67bd199c-30bf-4db0-9a6e-d592b4956b18",
   "metadata": {},
   "outputs": [],
   "source": []
  },
  {
   "cell_type": "code",
   "execution_count": null,
   "id": "96f27579-47f1-444e-ac40-1413a689d8b6",
   "metadata": {},
   "outputs": [],
   "source": []
  },
  {
   "cell_type": "code",
   "execution_count": null,
   "id": "2077577c-617a-42cf-ab7b-3f26e91079d1",
   "metadata": {},
   "outputs": [],
   "source": []
  },
  {
   "cell_type": "code",
   "execution_count": null,
   "id": "286f609d-77b2-4d3c-b3dd-4809a08917e4",
   "metadata": {},
   "outputs": [],
   "source": []
  },
  {
   "cell_type": "code",
   "execution_count": null,
   "id": "d658a7fc-108d-44f7-9a91-ac2261c03f29",
   "metadata": {},
   "outputs": [],
   "source": []
  }
 ],
 "metadata": {
  "kernelspec": {
   "display_name": "Python 3 (ipykernel)",
   "language": "python",
   "name": "python3"
  },
  "language_info": {
   "codemirror_mode": {
    "name": "ipython",
    "version": 3
   },
   "file_extension": ".py",
   "mimetype": "text/x-python",
   "name": "python",
   "nbconvert_exporter": "python",
   "pygments_lexer": "ipython3",
   "version": "3.11.7"
  }
 },
 "nbformat": 4,
 "nbformat_minor": 5
}
