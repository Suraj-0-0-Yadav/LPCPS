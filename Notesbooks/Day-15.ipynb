{
 "cells": [
  {
   "cell_type": "markdown",
   "id": "6a11a760-0b2b-4801-bd4d-53436952a028",
   "metadata": {},
   "source": [
    "# 1. Calculate the Area of a Rectangle:"
   ]
  },
  {
   "cell_type": "code",
   "execution_count": 4,
   "id": "d22c160d-99ab-44d9-9cad-f687492374e9",
   "metadata": {},
   "outputs": [
    {
     "name": "stdin",
     "output_type": "stream",
     "text": [
      "Enter the lenght of rectangle :  12.5\n",
      "Enter the bredth of rectangle :  10.9\n"
     ]
    },
    {
     "name": "stdout",
     "output_type": "stream",
     "text": [
      "Area of rectangle is 136.25\n"
     ]
    }
   ],
   "source": [
    "l = float(input(\"Enter the lenght of rectangle : \"))\n",
    "b = float(input(\"Enter the bredth of rectangle : \"))\n",
    "\n",
    "A = l*b\n",
    "\n",
    "print(f\"Area of rectangle is {A}\")"
   ]
  },
  {
   "cell_type": "markdown",
   "id": "3b611674-4fb7-4dcb-a564-30ab245e5140",
   "metadata": {},
   "source": [
    "# 2. Calculate the Perimeter of a Rectangle:"
   ]
  },
  {
   "cell_type": "code",
   "execution_count": 5,
   "id": "7250e795-aa6c-4f39-84e9-82b596ffdf33",
   "metadata": {},
   "outputs": [
    {
     "name": "stdout",
     "output_type": "stream",
     "text": [
      "The perometer of rectangle is 46.8\n"
     ]
    }
   ],
   "source": [
    "print(f\"The perometer of rectangle is {2*(l+b)}\")"
   ]
  },
  {
   "cell_type": "markdown",
   "id": "6039ed61-2858-43fa-97eb-16891de91cd2",
   "metadata": {},
   "source": [
    "# 3. Calculate the Area of a Circle:"
   ]
  },
  {
   "cell_type": "code",
   "execution_count": 7,
   "id": "22e28158-87bb-4649-9ea8-793a64005d00",
   "metadata": {},
   "outputs": [],
   "source": [
    "from math import pi"
   ]
  },
  {
   "cell_type": "code",
   "execution_count": 8,
   "id": "a7da7e78-a052-4be6-9e4e-828fb960135f",
   "metadata": {},
   "outputs": [
    {
     "data": {
      "text/plain": [
       "3.141592653589793"
      ]
     },
     "execution_count": 8,
     "metadata": {},
     "output_type": "execute_result"
    }
   ],
   "source": [
    "pi"
   ]
  },
  {
   "cell_type": "code",
   "execution_count": 10,
   "id": "f0e4120d-d0d3-45bd-832c-54c8f7e89bc9",
   "metadata": {},
   "outputs": [
    {
     "name": "stdin",
     "output_type": "stream",
     "text": [
      "Enter the radius of circle :  5.2\n"
     ]
    },
    {
     "name": "stdout",
     "output_type": "stream",
     "text": [
      "Area of circle is 84.949\n"
     ]
    }
   ],
   "source": [
    "r = float(input(\"Enter the radius of circle : \"))\n",
    "\n",
    "A = pi*r**2\n",
    "\n",
    "print(f\"Area of circle is {A:.3f}\")"
   ]
  },
  {
   "cell_type": "markdown",
   "id": "207a4078-b664-4aa8-ba42-e3782cc6c792",
   "metadata": {},
   "source": [
    "# 4. Calculate the Circumference of a Circle:"
   ]
  },
  {
   "cell_type": "code",
   "execution_count": 12,
   "id": "16b0f89a-1be8-4cb6-bf51-fffaea2f2f3d",
   "metadata": {},
   "outputs": [
    {
     "name": "stdout",
     "output_type": "stream",
     "text": [
      "Circumference of circle is 32.67\n"
     ]
    }
   ],
   "source": [
    "C = 2*pi*r\n",
    "\n",
    "print(f\"Circumference of circle is {C:.2f}\")"
   ]
  },
  {
   "cell_type": "markdown",
   "id": "39fe5c0a-d499-4ca0-90a5-12251fb157f8",
   "metadata": {},
   "source": [
    "# 5. Calculate the Area of a Triangle:"
   ]
  },
  {
   "cell_type": "code",
   "execution_count": 13,
   "id": "53479b5b-0040-471b-a29c-b4742cc619d9",
   "metadata": {},
   "outputs": [
    {
     "name": "stdin",
     "output_type": "stream",
     "text": [
      "Enter the base of triangle :  10\n",
      "Enter the height of triangle :  6\n"
     ]
    },
    {
     "name": "stdout",
     "output_type": "stream",
     "text": [
      "Area of triangle is 30.0\n"
     ]
    }
   ],
   "source": [
    "b = float(input(\"Enter the base of triangle : \"))\n",
    "h = float(input(\"Enter the height of triangle : \"))\n",
    "\n",
    "A = 0.5*b*h\n",
    "\n",
    "print(f\"Area of triangle is {A}\")"
   ]
  },
  {
   "cell_type": "code",
   "execution_count": null,
   "id": "ab4ae672-9616-47c4-b0ca-30daf3ade7ad",
   "metadata": {},
   "outputs": [],
   "source": []
  },
  {
   "cell_type": "code",
   "execution_count": null,
   "id": "ab76ec58-737a-41c7-827c-edcedd9743a4",
   "metadata": {},
   "outputs": [],
   "source": []
  },
  {
   "cell_type": "code",
   "execution_count": 18,
   "id": "e16020f1-8e0b-410f-8377-cd0b023e3862",
   "metadata": {},
   "outputs": [
    {
     "name": "stdin",
     "output_type": "stream",
     "text": [
      "Enter the value of a :  10\n",
      "Enter the value of b :  23.5\n",
      "Enter the value of c :  19.7\n"
     ]
    },
    {
     "name": "stdout",
     "output_type": "stream",
     "text": [
      "26.6\n",
      "Area of trinagle is : 97.18522727246157\n"
     ]
    }
   ],
   "source": [
    "a = float(input(\"Enter the value of a : \"))\n",
    "b = float(input(\"Enter the value of b : \"))\n",
    "c = float(input(\"Enter the value of c : \"))\n",
    "\n",
    "s = (a+b+c)/2\n",
    "\n",
    "print(s)\n",
    "\n",
    "res = (s*(s-a)*(s-b)*(s-c))\n",
    "if res<0:\n",
    "    res = res*-1\n",
    "\n",
    "A = res**0.5\n",
    "\n",
    "print(f\"Area of trinagle is : {A}\")"
   ]
  },
  {
   "cell_type": "markdown",
   "id": "4deda896-bdf1-4ecc-9956-21cd4a14b50e",
   "metadata": {},
   "source": [
    "# 6. Calculate the Volume of a Cylinder:\n",
    " \n",
    "A = $\\pi * r^2 *h$"
   ]
  },
  {
   "cell_type": "code",
   "execution_count": 19,
   "id": "0778bab4-e692-4164-bd6d-34cae7090104",
   "metadata": {},
   "outputs": [],
   "source": []
  },
  {
   "cell_type": "code",
   "execution_count": 25,
   "id": "54aca64b-a93c-4ddf-8ed7-d53852eb880f",
   "metadata": {},
   "outputs": [
    {
     "name": "stdin",
     "output_type": "stream",
     "text": [
      "Enter the radius of cylinder :  20\n",
      "enter the height of cylinder :  30\n"
     ]
    },
    {
     "name": "stdout",
     "output_type": "stream",
     "text": [
      "The volume of cylinder is 37699.11\n"
     ]
    }
   ],
   "source": [
    "r = float(input(\"Enter the radius of cylinder : \"))\n",
    "h = float(input(\"enter the height of cylinder : \"))\n",
    "\n",
    "from math import pi\n",
    "V = pi * r**2 * h\n",
    "\n",
    "print(F\"The volume of cylinder is {V:.2f}\")"
   ]
  },
  {
   "cell_type": "code",
   "execution_count": null,
   "id": "a3814b77-8c2d-4246-90df-54c34ce63c87",
   "metadata": {},
   "outputs": [],
   "source": []
  },
  {
   "cell_type": "markdown",
   "id": "9466fcc4-d644-4539-be56-4e5865134799",
   "metadata": {},
   "source": [
    "# 7. Calculate the Surface Area of a Cylinder:\n",
    "\n",
    "SA = $2*\\pi*r*(r+h)$"
   ]
  },
  {
   "cell_type": "code",
   "execution_count": 23,
   "id": "506c5d2f-6f02-4bdf-923f-5518ccf05d41",
   "metadata": {},
   "outputs": [],
   "source": [
    "SA = 2 * pi * r * (r+h)"
   ]
  },
  {
   "cell_type": "code",
   "execution_count": 24,
   "id": "ef1a392b-744b-4c5f-887b-f84bc8c4d08d",
   "metadata": {},
   "outputs": [
    {
     "data": {
      "text/plain": [
       "848.2300164692441"
      ]
     },
     "execution_count": 24,
     "metadata": {},
     "output_type": "execute_result"
    }
   ],
   "source": [
    "SA"
   ]
  },
  {
   "cell_type": "code",
   "execution_count": null,
   "id": "d9ee9597-6310-4632-8ae3-4ed2c6e91285",
   "metadata": {},
   "outputs": [],
   "source": []
  },
  {
   "cell_type": "code",
   "execution_count": 26,
   "id": "bb3f0470-29f5-41dc-94cf-b652f732cc3f",
   "metadata": {},
   "outputs": [
    {
     "data": {
      "text/plain": [
       "36.0"
      ]
     },
     "execution_count": 26,
     "metadata": {},
     "output_type": "execute_result"
    }
   ],
   "source": [
    "10+20+30/5"
   ]
  },
  {
   "cell_type": "code",
   "execution_count": 28,
   "id": "af976ad5-0914-4b22-bbfc-5033312a10fb",
   "metadata": {},
   "outputs": [
    {
     "data": {
      "text/plain": [
       "12.0"
      ]
     },
     "execution_count": 28,
     "metadata": {},
     "output_type": "execute_result"
    }
   ],
   "source": [
    "(10+20+30)/5"
   ]
  },
  {
   "cell_type": "code",
   "execution_count": 29,
   "id": "d7d571c8-4091-47a6-99db-944253395242",
   "metadata": {},
   "outputs": [],
   "source": [
    "import numpy as np"
   ]
  },
  {
   "cell_type": "code",
   "execution_count": 32,
   "id": "729f84e7-db26-4607-9701-282622f40c35",
   "metadata": {},
   "outputs": [],
   "source": [
    "A = np.array([[1,2],[3,4]])"
   ]
  },
  {
   "cell_type": "code",
   "execution_count": 33,
   "id": "de625ee0-6cf5-40d0-86d1-b4463bc4fab5",
   "metadata": {},
   "outputs": [
    {
     "data": {
      "text/plain": [
       "array([[1, 2],\n",
       "       [3, 4]])"
      ]
     },
     "execution_count": 33,
     "metadata": {},
     "output_type": "execute_result"
    }
   ],
   "source": [
    "A"
   ]
  },
  {
   "cell_type": "code",
   "execution_count": 35,
   "id": "ba51c263-d28c-45a8-8171-dcf111e42804",
   "metadata": {},
   "outputs": [],
   "source": [
    "B = np.array([[1,2],[4,5]])"
   ]
  },
  {
   "cell_type": "code",
   "execution_count": 36,
   "id": "ae168a08-2f25-40c0-a3b2-e1103d22db20",
   "metadata": {},
   "outputs": [
    {
     "data": {
      "text/plain": [
       "array([[1, 2],\n",
       "       [4, 5]])"
      ]
     },
     "execution_count": 36,
     "metadata": {},
     "output_type": "execute_result"
    }
   ],
   "source": [
    "B"
   ]
  },
  {
   "cell_type": "code",
   "execution_count": 37,
   "id": "dec70d13-2b5a-4187-825e-bbf04cd27aa7",
   "metadata": {},
   "outputs": [
    {
     "data": {
      "text/plain": [
       "array([[ 9, 12],\n",
       "       [19, 26]])"
      ]
     },
     "execution_count": 37,
     "metadata": {},
     "output_type": "execute_result"
    }
   ],
   "source": [
    "A@B"
   ]
  },
  {
   "cell_type": "code",
   "execution_count": null,
   "id": "ee392d5b-0b41-4ba4-8930-8ce7038ff5a2",
   "metadata": {},
   "outputs": [],
   "source": []
  }
 ],
 "metadata": {
  "kernelspec": {
   "display_name": "Python 3 (ipykernel)",
   "language": "python",
   "name": "python3"
  },
  "language_info": {
   "codemirror_mode": {
    "name": "ipython",
    "version": 3
   },
   "file_extension": ".py",
   "mimetype": "text/x-python",
   "name": "python",
   "nbconvert_exporter": "python",
   "pygments_lexer": "ipython3",
   "version": "3.11.7"
  }
 },
 "nbformat": 4,
 "nbformat_minor": 5
}
