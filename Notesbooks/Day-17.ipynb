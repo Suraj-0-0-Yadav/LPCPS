{
 "cells": [
  {
   "cell_type": "markdown",
   "id": "beeb4792-2c1d-4726-afbc-e48c96a21375",
   "metadata": {},
   "source": [
    "# Program to check if a number is prime"
   ]
  },
  {
   "cell_type": "code",
   "execution_count": 2,
   "id": "e9ef529d-9991-4780-bd95-e3a95de36f9a",
   "metadata": {},
   "outputs": [
    {
     "name": "stdin",
     "output_type": "stream",
     "text": [
      "Enter a number :  5\n"
     ]
    },
    {
     "name": "stdout",
     "output_type": "stream",
     "text": [
      "Prime Number\n"
     ]
    }
   ],
   "source": [
    "n = int(input(\"Enter a number : \"))\n",
    "\n",
    "c=0\n",
    "for i in range(1,n+1):\n",
    "    if n%i==0:\n",
    "        c+=1\n",
    "\n",
    "if c==2:\n",
    "    print(\"Prime Number\")\n",
    "else:\n",
    "    print(\"Not Prime Number\")"
   ]
  },
  {
   "cell_type": "code",
   "execution_count": 3,
   "id": "9ab68706-f350-4dc7-bf40-34c4b10d2629",
   "metadata": {},
   "outputs": [
    {
     "name": "stdout",
     "output_type": "stream",
     "text": [
      "2 3 5 7 11 13 17 19 "
     ]
    }
   ],
   "source": [
    "for k in range(1,21):\n",
    "    c=0\n",
    "    for i in range(1,k+1):\n",
    "        if k%i==0:\n",
    "            c = c + 1\n",
    "\n",
    "    if c==2:\n",
    "        print(k, end=\" \")"
   ]
  },
  {
   "cell_type": "markdown",
   "id": "b81703bb-a91b-43bf-9f12-89ef934f9bb4",
   "metadata": {},
   "source": [
    "# Program to check if a number is positive, negative, or zero:"
   ]
  },
  {
   "cell_type": "code",
   "execution_count": 6,
   "id": "bc67b83e-1ec9-4571-9554-24a65646c9ac",
   "metadata": {},
   "outputs": [
    {
     "name": "stdin",
     "output_type": "stream",
     "text": [
      "Enter a number :  -5\n"
     ]
    },
    {
     "name": "stdout",
     "output_type": "stream",
     "text": [
      "Given number is Negative\n"
     ]
    }
   ],
   "source": [
    "n = int(input(\"Enter a number : \"))\n",
    "\n",
    "if n==0:\n",
    "    print(\"Given number is Zero\")\n",
    "elif n<0:\n",
    "    print(\"Given number is Negative\")\n",
    "else:\n",
    "    print(\"GIven number is Positive\")"
   ]
  },
  {
   "cell_type": "markdown",
   "id": "9cc89004-63c7-4b7e-8de4-fb7926d67d2f",
   "metadata": {},
   "source": [
    "# Reverse a string"
   ]
  },
  {
   "cell_type": "code",
   "execution_count": null,
   "id": "d11f56b4-6b78-45e3-813a-597918a7f70d",
   "metadata": {},
   "outputs": [],
   "source": []
  },
  {
   "cell_type": "code",
   "execution_count": null,
   "id": "393fb5c2-5a9a-4dc3-874e-cac7c6d9c2be",
   "metadata": {},
   "outputs": [],
   "source": []
  },
  {
   "cell_type": "code",
   "execution_count": null,
   "id": "5217bd7f-46c7-4020-8c29-1bd3b3b2007c",
   "metadata": {},
   "outputs": [],
   "source": []
  },
  {
   "cell_type": "code",
   "execution_count": null,
   "id": "82cb1637-ad85-4ec0-bf2c-11921dccf256",
   "metadata": {},
   "outputs": [],
   "source": []
  },
  {
   "cell_type": "code",
   "execution_count": null,
   "id": "25f0075c-308a-488e-a88b-7ca73997eb46",
   "metadata": {},
   "outputs": [],
   "source": []
  },
  {
   "cell_type": "code",
   "execution_count": null,
   "id": "b3e479e2-2f45-4c34-b1b6-51d8a9ba98bd",
   "metadata": {},
   "outputs": [],
   "source": []
  },
  {
   "cell_type": "code",
   "execution_count": null,
   "id": "ad2885d5-5dd8-4789-b5e6-ce7170ad107b",
   "metadata": {},
   "outputs": [],
   "source": []
  },
  {
   "cell_type": "code",
   "execution_count": null,
   "id": "b930e615-405c-4a5d-9c41-8e9b7daae34b",
   "metadata": {},
   "outputs": [],
   "source": []
  },
  {
   "cell_type": "code",
   "execution_count": null,
   "id": "edaeca9d-a692-4e93-9e1c-c40e5ebb0a2f",
   "metadata": {},
   "outputs": [],
   "source": []
  },
  {
   "cell_type": "code",
   "execution_count": null,
   "id": "839005df-68eb-44bd-97cd-0529b132e752",
   "metadata": {},
   "outputs": [],
   "source": []
  }
 ],
 "metadata": {
  "kernelspec": {
   "display_name": "Python 3 (ipykernel)",
   "language": "python",
   "name": "python3"
  },
  "language_info": {
   "codemirror_mode": {
    "name": "ipython",
    "version": 3
   },
   "file_extension": ".py",
   "mimetype": "text/x-python",
   "name": "python",
   "nbconvert_exporter": "python",
   "pygments_lexer": "ipython3",
   "version": "3.11.7"
  }
 },
 "nbformat": 4,
 "nbformat_minor": 5
}
