{
 "cells": [
  {
   "cell_type": "markdown",
   "id": "d7df35f0-e98b-4b5c-be8a-ef20e9df0c39",
   "metadata": {},
   "source": [
    "# Loops"
   ]
  },
  {
   "cell_type": "code",
   "execution_count": 1,
   "id": "b3337358-596f-4bee-b988-079d3bcb7940",
   "metadata": {},
   "outputs": [
    {
     "name": "stdout",
     "output_type": "stream",
     "text": [
      "Hello world !!!\n",
      "Hello world !!!\n",
      "Hello world !!!\n",
      "Hello world !!!\n",
      "Hello world !!!\n"
     ]
    }
   ],
   "source": [
    "print(\"Hello world !!!\")\n",
    "print(\"Hello world !!!\")\n",
    "print(\"Hello world !!!\")\n",
    "print(\"Hello world !!!\")\n",
    "print(\"Hello world !!!\")"
   ]
  },
  {
   "cell_type": "markdown",
   "id": "42963eca-cbb8-44d8-bcc1-6aa6519db9d9",
   "metadata": {},
   "source": [
    "***"
   ]
  },
  {
   "cell_type": "code",
   "execution_count": 2,
   "id": "e4dbee9d-84bd-441a-a833-74adf587a7f7",
   "metadata": {},
   "outputs": [],
   "source": [
    "fruits = [\"Apple\",\"Banana\",'Grapes']"
   ]
  },
  {
   "cell_type": "code",
   "execution_count": 3,
   "id": "0f080470-6b70-48cb-93f9-36a9a6ec6d80",
   "metadata": {},
   "outputs": [
    {
     "name": "stdout",
     "output_type": "stream",
     "text": [
      "Apple\n",
      "Banana\n",
      "Grapes\n"
     ]
    }
   ],
   "source": [
    "for i in fruits:\n",
    "    print(i)"
   ]
  },
  {
   "cell_type": "markdown",
   "id": "dc9717e9-011d-42bd-8983-f0d2ebbbe758",
   "metadata": {},
   "source": [
    "***"
   ]
  },
  {
   "cell_type": "code",
   "execution_count": 8,
   "id": "b1d65248-b4bd-4279-859c-1fc23bc717bf",
   "metadata": {},
   "outputs": [],
   "source": [
    "a = [2,3]\n",
    "b = [1,5,8]\n",
    "c = []"
   ]
  },
  {
   "cell_type": "code",
   "execution_count": 9,
   "id": "68e50c1f-a57c-4a8d-8673-9c5ff3126cdc",
   "metadata": {},
   "outputs": [],
   "source": [
    "for lpcps in a:\n",
    "    for college in b:\n",
    "        c.append(lpcps*college)"
   ]
  },
  {
   "cell_type": "code",
   "execution_count": 10,
   "id": "39120163-7447-47cf-bf63-fe3c5ebe6523",
   "metadata": {},
   "outputs": [
    {
     "data": {
      "text/plain": [
       "[2, 10, 16, 3, 15, 24]"
      ]
     },
     "execution_count": 10,
     "metadata": {},
     "output_type": "execute_result"
    }
   ],
   "source": [
    "c"
   ]
  },
  {
   "cell_type": "code",
   "execution_count": 12,
   "id": "ca20f4f5-43b0-4a93-90dd-56c4bf96291e",
   "metadata": {},
   "outputs": [
    {
     "name": "stdout",
     "output_type": "stream",
     "text": [
      "5\n",
      "6\n",
      "7\n",
      "8\n",
      "9\n",
      "10\n"
     ]
    }
   ],
   "source": [
    "for i in range(5,11):\n",
    "    print(i)"
   ]
  },
  {
   "cell_type": "code",
   "execution_count": 15,
   "id": "a9c00b2d-e739-4ba0-b687-3d376c850059",
   "metadata": {},
   "outputs": [
    {
     "name": "stdout",
     "output_type": "stream",
     "text": [
      "5\n",
      "8\n"
     ]
    }
   ],
   "source": [
    "for i in range(1,len(b)):\n",
    "    print(b[i])"
   ]
  },
  {
   "cell_type": "markdown",
   "id": "15801011-fbb0-4132-a7bd-1350a2ca2751",
   "metadata": {},
   "source": [
    "***"
   ]
  },
  {
   "cell_type": "code",
   "execution_count": 29,
   "id": "838f6215-d875-439b-8446-8c47a807c22c",
   "metadata": {},
   "outputs": [],
   "source": [
    "students = [(\"Jhon\",30),(\"Allie\",40),(\"Monty\",50),(\"Jasper\",27)]"
   ]
  },
  {
   "cell_type": "code",
   "execution_count": 30,
   "id": "7d4d57c1-0991-42da-99cf-f6d7f52cb362",
   "metadata": {},
   "outputs": [],
   "source": [
    "age = []\n",
    "\n",
    "for i in students:\n",
    "    age.append(i[1])"
   ]
  },
  {
   "cell_type": "code",
   "execution_count": 31,
   "id": "2baa2170-d9f4-43f1-a677-6ffc8646d32b",
   "metadata": {},
   "outputs": [
    {
     "data": {
      "text/plain": [
       "[30, 40, 50, 27]"
      ]
     },
     "execution_count": 31,
     "metadata": {},
     "output_type": "execute_result"
    }
   ],
   "source": [
    "age"
   ]
  },
  {
   "cell_type": "code",
   "execution_count": 32,
   "id": "67bf957b-3d63-4fbe-89e3-314afadfa52d",
   "metadata": {},
   "outputs": [
    {
     "data": {
      "text/plain": [
       "147"
      ]
     },
     "execution_count": 32,
     "metadata": {},
     "output_type": "execute_result"
    }
   ],
   "source": [
    "sum(age)"
   ]
  },
  {
   "cell_type": "code",
   "execution_count": 33,
   "id": "c1c434c7-93e6-4a35-b3dc-ca9d7af091a3",
   "metadata": {},
   "outputs": [
    {
     "data": {
      "text/plain": [
       "4"
      ]
     },
     "execution_count": 33,
     "metadata": {},
     "output_type": "execute_result"
    }
   ],
   "source": [
    "len(age)"
   ]
  },
  {
   "cell_type": "code",
   "execution_count": 38,
   "id": "d4ea634e-23a2-413f-b1f4-9a864cd81822",
   "metadata": {},
   "outputs": [],
   "source": [
    "avg = sum(age)/len(age)"
   ]
  },
  {
   "cell_type": "code",
   "execution_count": 39,
   "id": "d01f6a69-5ac6-4926-90a0-a585025ac0dd",
   "metadata": {},
   "outputs": [
    {
     "data": {
      "text/plain": [
       "36.75"
      ]
     },
     "execution_count": 39,
     "metadata": {},
     "output_type": "execute_result"
    }
   ],
   "source": [
    "avg"
   ]
  },
  {
   "cell_type": "code",
   "execution_count": 26,
   "id": "91356704-c9f7-4972-9c78-7a24efc19c86",
   "metadata": {},
   "outputs": [
    {
     "data": {
      "text/plain": [
       "4"
      ]
     },
     "execution_count": 26,
     "metadata": {},
     "output_type": "execute_result"
    }
   ],
   "source": [
    "9//2"
   ]
  },
  {
   "cell_type": "markdown",
   "id": "c0e9266e-d521-4825-9247-d41e008b091b",
   "metadata": {},
   "source": [
    "***"
   ]
  },
  {
   "cell_type": "code",
   "execution_count": 40,
   "id": "fa0e5281-5e9d-4d91-9e21-c2e01a2932ee",
   "metadata": {},
   "outputs": [],
   "source": [
    "fruit_price = {\"Apple\":100,\"Banana\":40,\"Grapes\":80}"
   ]
  },
  {
   "cell_type": "code",
   "execution_count": 45,
   "id": "47b0db12-bebc-4ccc-b46d-b9a70fbaaabc",
   "metadata": {},
   "outputs": [
    {
     "data": {
      "text/plain": [
       "40"
      ]
     },
     "execution_count": 45,
     "metadata": {},
     "output_type": "execute_result"
    }
   ],
   "source": [
    "fruit_price['Banana']"
   ]
  },
  {
   "cell_type": "code",
   "execution_count": 41,
   "id": "b495b773-14bf-4bd0-a09e-bcc1d89f1d9d",
   "metadata": {},
   "outputs": [],
   "source": [
    "fruits = [\"Apple\",\"Banana\",'Grapes']"
   ]
  },
  {
   "cell_type": "code",
   "execution_count": 42,
   "id": "c1475819-8bad-4e60-9312-fa33fa18f48b",
   "metadata": {},
   "outputs": [
    {
     "name": "stdout",
     "output_type": "stream",
     "text": [
      "Apple\n",
      "Banana\n",
      "Grapes\n"
     ]
    }
   ],
   "source": [
    "for i in fruits:\n",
    "    print(i)"
   ]
  },
  {
   "cell_type": "code",
   "execution_count": 43,
   "id": "6fed77b0-e335-4cd0-89a7-835b3586c958",
   "metadata": {},
   "outputs": [
    {
     "name": "stdout",
     "output_type": "stream",
     "text": [
      "Apple\n",
      "Banana\n",
      "Grapes\n"
     ]
    }
   ],
   "source": [
    "for i in fruit_price:\n",
    "    print(i)"
   ]
  },
  {
   "cell_type": "code",
   "execution_count": 46,
   "id": "43129b98-95c0-49f9-be8a-977421a1e8f1",
   "metadata": {},
   "outputs": [
    {
     "name": "stdout",
     "output_type": "stream",
     "text": [
      "100 40 80 "
     ]
    }
   ],
   "source": [
    "for i in fruit_price:\n",
    "    print(fruit_price[i],end=\" \")"
   ]
  },
  {
   "cell_type": "markdown",
   "id": "82351a4c-e5b5-460c-ad32-58f1804d567e",
   "metadata": {},
   "source": [
    "***"
   ]
  },
  {
   "cell_type": "code",
   "execution_count": 47,
   "id": "1e86ef35-faa6-4ad7-8cd1-f9f71d47cab9",
   "metadata": {},
   "outputs": [
    {
     "data": {
      "text/plain": [
       "{'Apple': 100, 'Banana': 40, 'Grapes': 80}"
      ]
     },
     "execution_count": 47,
     "metadata": {},
     "output_type": "execute_result"
    }
   ],
   "source": [
    "fruit_price"
   ]
  },
  {
   "cell_type": "code",
   "execution_count": 48,
   "id": "6a51a08a-414a-4df5-a384-c9cdd797b78d",
   "metadata": {},
   "outputs": [
    {
     "name": "stdout",
     "output_type": "stream",
     "text": [
      "Apple\n",
      "Banana\n",
      "Grapes\n"
     ]
    }
   ],
   "source": [
    "for i in fruit_price.keys():\n",
    "    print(i)"
   ]
  },
  {
   "cell_type": "code",
   "execution_count": 50,
   "id": "a2371c66-3a6c-4259-b586-ed9686eed151",
   "metadata": {},
   "outputs": [
    {
     "name": "stdout",
     "output_type": "stream",
     "text": [
      "100 40 80 "
     ]
    }
   ],
   "source": [
    "for i in fruit_price.values():\n",
    "    print(i,end=\" \")"
   ]
  },
  {
   "cell_type": "code",
   "execution_count": 58,
   "id": "0190e87b-d766-429b-889f-9c2f728f4237",
   "metadata": {},
   "outputs": [
    {
     "name": "stdout",
     "output_type": "stream",
     "text": [
      "('Apple', 100)\n",
      "('Banana', 40)\n",
      "('Grapes', 80)\n"
     ]
    }
   ],
   "source": [
    "for i in fruit_price.items():\n",
    "    print(i)"
   ]
  },
  {
   "cell_type": "code",
   "execution_count": null,
   "id": "a34ae587-77c0-45ed-99ee-4b26fb4dc2b5",
   "metadata": {},
   "outputs": [],
   "source": []
  },
  {
   "cell_type": "markdown",
   "id": "7cf1e37d-64b5-4aa1-8d37-370c2b17d704",
   "metadata": {},
   "source": [
    "***"
   ]
  },
  {
   "cell_type": "code",
   "execution_count": 59,
   "id": "20f1a7de-7eb2-440e-b672-6968bdb92456",
   "metadata": {},
   "outputs": [],
   "source": [
    "t = (1,2,3)"
   ]
  },
  {
   "cell_type": "code",
   "execution_count": 60,
   "id": "5e560ea3-2efd-4e41-829e-c425581b4593",
   "metadata": {},
   "outputs": [],
   "source": [
    "a,b,c = t"
   ]
  },
  {
   "cell_type": "code",
   "execution_count": 61,
   "id": "c6ffefb7-9437-40f7-bb40-806ee2d228c3",
   "metadata": {},
   "outputs": [
    {
     "data": {
      "text/plain": [
       "1"
      ]
     },
     "execution_count": 61,
     "metadata": {},
     "output_type": "execute_result"
    }
   ],
   "source": [
    "a"
   ]
  },
  {
   "cell_type": "code",
   "execution_count": 62,
   "id": "1d5de1ef-e6d6-406b-b4e0-1b44bf92c3b4",
   "metadata": {},
   "outputs": [
    {
     "data": {
      "text/plain": [
       "2"
      ]
     },
     "execution_count": 62,
     "metadata": {},
     "output_type": "execute_result"
    }
   ],
   "source": [
    "b"
   ]
  },
  {
   "cell_type": "code",
   "execution_count": 63,
   "id": "03bd5f25-4fec-480d-a5c1-83dfd7c319e3",
   "metadata": {},
   "outputs": [
    {
     "data": {
      "text/plain": [
       "3"
      ]
     },
     "execution_count": 63,
     "metadata": {},
     "output_type": "execute_result"
    }
   ],
   "source": [
    "c"
   ]
  },
  {
   "cell_type": "code",
   "execution_count": null,
   "id": "9e9ceb93-40c0-44fe-af84-d1d4efdc6384",
   "metadata": {},
   "outputs": [],
   "source": []
  },
  {
   "cell_type": "code",
   "execution_count": 66,
   "id": "ce3b1d5b-b74d-4c34-9484-a14834a903f0",
   "metadata": {},
   "outputs": [],
   "source": [
    "t = (1,2,3,4)"
   ]
  },
  {
   "cell_type": "code",
   "execution_count": 68,
   "id": "83fcb4b8-8a64-40ee-a11a-71446919514c",
   "metadata": {},
   "outputs": [],
   "source": [
    "a,b,c ,d = t"
   ]
  },
  {
   "cell_type": "code",
   "execution_count": null,
   "id": "574f523c-a6a9-46c6-a8d6-667c5a2660d3",
   "metadata": {},
   "outputs": [],
   "source": []
  },
  {
   "cell_type": "code",
   "execution_count": null,
   "id": "099ac6fb-8c3d-4f7f-ab67-a67cbea2a74d",
   "metadata": {},
   "outputs": [],
   "source": []
  }
 ],
 "metadata": {
  "kernelspec": {
   "display_name": "Python 3 (ipykernel)",
   "language": "python",
   "name": "python3"
  },
  "language_info": {
   "codemirror_mode": {
    "name": "ipython",
    "version": 3
   },
   "file_extension": ".py",
   "mimetype": "text/x-python",
   "name": "python",
   "nbconvert_exporter": "python",
   "pygments_lexer": "ipython3",
   "version": "3.11.7"
  }
 },
 "nbformat": 4,
 "nbformat_minor": 5
}
