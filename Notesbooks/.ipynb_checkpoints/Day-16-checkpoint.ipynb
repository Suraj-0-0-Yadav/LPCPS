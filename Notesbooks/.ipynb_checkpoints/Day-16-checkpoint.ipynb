{
 "cells": [
  {
   "cell_type": "markdown",
   "id": "6a9e8c86-b477-4ecb-aa7d-53a2afabc76f",
   "metadata": {},
   "source": [
    "# 1. Program to find the maximum number in a list:"
   ]
  },
  {
   "cell_type": "code",
   "execution_count": 4,
   "id": "0595f488-7e90-421b-a8ab-dea900744205",
   "metadata": {},
   "outputs": [
    {
     "name": "stdout",
     "output_type": "stream",
     "text": [
      "67\n"
     ]
    }
   ],
   "source": [
    "a = [12,45,0,67,35,17]\n",
    "max_no = a[0]\n",
    "\n",
    "for i in range(1,len(a)):\n",
    "    if max_no < a[i]:\n",
    "        max_no = a[i]\n",
    "\n",
    "print(max_no)"
   ]
  },
  {
   "cell_type": "code",
   "execution_count": 2,
   "id": "df08d0fa-5064-4c5f-9550-8f12ed219269",
   "metadata": {},
   "outputs": [
    {
     "data": {
      "text/plain": [
       "67"
      ]
     },
     "execution_count": 2,
     "metadata": {},
     "output_type": "execute_result"
    }
   ],
   "source": [
    "max(a)"
   ]
  },
  {
   "cell_type": "markdown",
   "id": "a8b3bf10-641a-409f-8278-bd5daf5b6e3d",
   "metadata": {},
   "source": [
    "# 2. Program to check if a number is even or odd:"
   ]
  },
  {
   "cell_type": "code",
   "execution_count": 5,
   "id": "4921219d-af3a-4104-8473-420651a36497",
   "metadata": {},
   "outputs": [
    {
     "name": "stdout",
     "output_type": "stream",
     "text": [
      "2 4 6 8 10 "
     ]
    }
   ],
   "source": [
    "for i in range(1,11):\n",
    "    if i%2 == 0:\n",
    "        print(i, end=' ')"
   ]
  },
  {
   "cell_type": "markdown",
   "id": "42fd9e8e-aed8-46ea-86f9-326240947649",
   "metadata": {},
   "source": [
    "# 3. Program to find the factorial of a number:"
   ]
  },
  {
   "cell_type": "code",
   "execution_count": null,
   "id": "24188c7d-d80c-470e-b2bb-04bab3deeef9",
   "metadata": {},
   "outputs": [],
   "source": [
    "# Code"
   ]
  },
  {
   "cell_type": "markdown",
   "id": "3373d93b-8b0f-45cf-9dfa-bd648b9c9ad7",
   "metadata": {},
   "source": [
    "# 4. Program to check if a number is prime:"
   ]
  },
  {
   "cell_type": "code",
   "execution_count": 12,
   "id": "a14d4ee8-3fbd-4954-adc5-730c18641725",
   "metadata": {},
   "outputs": [
    {
     "name": "stdin",
     "output_type": "stream",
     "text": [
      "Enter the value of n :  5\n"
     ]
    },
    {
     "name": "stdout",
     "output_type": "stream",
     "text": [
      "5 is Prime Number\n"
     ]
    }
   ],
   "source": [
    "n = int(input(\"Enter the value of n : \"))\n",
    "\n",
    "c=0\n",
    "for i in range(1,n+1):\n",
    "    if n%i == 0:\n",
    "        c = c+1\n",
    "\n",
    "if c==2:\n",
    "    print(f\"{n} is Prime Number\")\n",
    "else:\n",
    "    print(f\"{n} is not Prime Number\")"
   ]
  },
  {
   "cell_type": "code",
   "execution_count": 13,
   "id": "57f1b173-c765-4616-877c-817bb05c162f",
   "metadata": {},
   "outputs": [
    {
     "name": "stdout",
     "output_type": "stream",
     "text": [
      "2 3 5 7 11 13 17 19 "
     ]
    }
   ],
   "source": [
    "for i in range(1,21):\n",
    "    c=0\n",
    "    for j in range(1,i+1):\n",
    "        if i%j==0:\n",
    "            c+=1\n",
    "\n",
    "    if c==2:\n",
    "        print(i,end=\" \")"
   ]
  },
  {
   "cell_type": "markdown",
   "id": "a8c02f74-81cb-4c8e-8a30-80baf1592f46",
   "metadata": {},
   "source": [
    "# 5. Program to count the number of vowels in a string:"
   ]
  },
  {
   "cell_type": "code",
   "execution_count": 16,
   "id": "15d2af11-1986-4e6a-bbc8-98b560074595",
   "metadata": {},
   "outputs": [
    {
     "name": "stdin",
     "output_type": "stream",
     "text": [
      "Enter a word :  programming\n"
     ]
    },
    {
     "name": "stdout",
     "output_type": "stream",
     "text": [
      "Number of vowels in programming is 3 and vowels are oai\n"
     ]
    }
   ],
   "source": [
    "st = input(\"Enter a word : \")\n",
    "\n",
    "v_counter=0\n",
    "v = \"\"\n",
    "for ch in st:\n",
    "    if ch in \"aeiouAEIOU\":\n",
    "        v_counter+=1\n",
    "        v+=ch\n",
    "\n",
    "print(f\"Number of vowels in {st} is {v_counter} and vowels are {v}\")"
   ]
  },
  {
   "cell_type": "code",
   "execution_count": null,
   "id": "4c80c1ec-c7f5-4f7d-bb63-0cf1261d8b5f",
   "metadata": {},
   "outputs": [],
   "source": []
  },
  {
   "cell_type": "markdown",
   "id": "b4fc6436-b75a-4668-8550-fcb1ba8f327e",
   "metadata": {},
   "source": [
    "# 6. Program to find the largest among three numbers:"
   ]
  },
  {
   "cell_type": "code",
   "execution_count": 20,
   "id": "24226544-98c3-4a09-9aa9-a89e37fd9085",
   "metadata": {},
   "outputs": [
    {
     "name": "stdin",
     "output_type": "stream",
     "text": [
      "Enter the value of a : 45\n",
      "Enter the value of b : 26\n",
      "Enter the value of c : 100\n"
     ]
    },
    {
     "name": "stdout",
     "output_type": "stream",
     "text": [
      "100 is greater\n"
     ]
    }
   ],
   "source": [
    "a = int(input(\"Enter the value of a :\"))\n",
    "b = int(input(\"Enter the value of b :\"))\n",
    "c = int(input(\"Enter the value of c :\"))\n",
    "\n",
    "if a>b and a>c:\n",
    "    print(f\"{a} is greater\")\n",
    "elif b>a and b>c:\n",
    "    print(f\"{b} is greater\")\n",
    "else:\n",
    "    print(f\"{c} is greater\")"
   ]
  },
  {
   "cell_type": "code",
   "execution_count": null,
   "id": "2c2156b4-f7f9-4da5-8a65-6cbca72f955c",
   "metadata": {},
   "outputs": [],
   "source": []
  },
  {
   "cell_type": "code",
   "execution_count": null,
   "id": "0428f8a1-9e58-4dfa-8d51-cb7cdc27f315",
   "metadata": {},
   "outputs": [],
   "source": []
  },
  {
   "cell_type": "code",
   "execution_count": null,
   "id": "1e7901a3-b31d-465d-9610-f5db5861c712",
   "metadata": {},
   "outputs": [],
   "source": []
  },
  {
   "cell_type": "code",
   "execution_count": null,
   "id": "b2913ef4-a738-45ef-8b04-84fc362a0f77",
   "metadata": {},
   "outputs": [],
   "source": []
  },
  {
   "cell_type": "code",
   "execution_count": null,
   "id": "787ad6cb-d853-4d09-a40c-e22621182edc",
   "metadata": {},
   "outputs": [],
   "source": []
  },
  {
   "cell_type": "markdown",
   "id": "7bac6b78-5829-4cfe-9ae1-b2e1385fe827",
   "metadata": {},
   "source": [
    "# 7. Program to check if a number is positive, negative, or zero:"
   ]
  },
  {
   "cell_type": "code",
   "execution_count": null,
   "id": "f3366f9e-fe9e-4d43-a28f-a0b188baa773",
   "metadata": {},
   "outputs": [],
   "source": []
  },
  {
   "cell_type": "code",
   "execution_count": null,
   "id": "0659636a-755d-4d69-a471-b7cc9adb7de6",
   "metadata": {},
   "outputs": [],
   "source": []
  },
  {
   "cell_type": "code",
   "execution_count": null,
   "id": "a6c69866-e396-4a10-bd28-7435dc7e6d65",
   "metadata": {},
   "outputs": [],
   "source": []
  },
  {
   "cell_type": "code",
   "execution_count": null,
   "id": "f8fad280-2a0b-4d79-9181-2ed7379de775",
   "metadata": {},
   "outputs": [],
   "source": []
  }
 ],
 "metadata": {
  "kernelspec": {
   "display_name": "Python 3 (ipykernel)",
   "language": "python",
   "name": "python3"
  },
  "language_info": {
   "codemirror_mode": {
    "name": "ipython",
    "version": 3
   },
   "file_extension": ".py",
   "mimetype": "text/x-python",
   "name": "python",
   "nbconvert_exporter": "python",
   "pygments_lexer": "ipython3",
   "version": "3.11.7"
  }
 },
 "nbformat": 4,
 "nbformat_minor": 5
}
