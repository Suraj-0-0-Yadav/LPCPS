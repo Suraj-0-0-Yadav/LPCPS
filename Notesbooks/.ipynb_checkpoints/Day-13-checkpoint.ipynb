{
 "cells": [
  {
   "cell_type": "markdown",
   "id": "04fea36c-ae4f-45cf-907f-ecbab7ff2307",
   "metadata": {},
   "source": [
    "## Adding Two Numbers"
   ]
  },
  {
   "cell_type": "code",
   "execution_count": 2,
   "id": "0bd7dba0-4158-4aa0-8278-f0e13d4c1fb4",
   "metadata": {},
   "outputs": [
    {
     "name": "stdin",
     "output_type": "stream",
     "text": [
      "Enter the value of a : 2\n",
      "Enter the value of b: 6\n"
     ]
    },
    {
     "name": "stdout",
     "output_type": "stream",
     "text": [
      "8\n"
     ]
    }
   ],
   "source": [
    "a=(int(input('Enter the value of a :')))\n",
    "b=(int(input(\"Enter the value of b:\")))\n",
    "s=a+b\n",
    "print(s)"
   ]
  },
  {
   "cell_type": "code",
   "execution_count": 3,
   "id": "8b83f874-7f37-4449-b644-9c75d14e4550",
   "metadata": {},
   "outputs": [
    {
     "name": "stdout",
     "output_type": "stream",
     "text": [
      "20\n"
     ]
    }
   ],
   "source": [
    "g=0\n",
    "for i in range(a,b+1):\n",
    "    g+=i # g=g+i\n",
    "\n",
    "print(g)"
   ]
  },
  {
   "cell_type": "markdown",
   "id": "0590ea2b-e724-4c92-866f-c015a3781e83",
   "metadata": {},
   "source": [
    "***"
   ]
  },
  {
   "cell_type": "markdown",
   "id": "4aec69f2-8eef-4e66-9cb7-853f9ef378c0",
   "metadata": {},
   "source": [
    "## Checking Even or Odd"
   ]
  },
  {
   "cell_type": "code",
   "execution_count": 7,
   "id": "f0885eb8-eb22-49ff-b83b-8731f9f325ca",
   "metadata": {},
   "outputs": [
    {
     "name": "stdin",
     "output_type": "stream",
     "text": [
      "enter a value of n: 10\n"
     ]
    },
    {
     "name": "stdout",
     "output_type": "stream",
     "text": [
      "it is an even num \n"
     ]
    }
   ],
   "source": [
    "n=(int(input(\"enter a value of n:\")))\n",
    "if n%2==0:\n",
    "    print(\"it is an even num \")\n",
    "else:\n",
    "    print(\"it is an odd num \")"
   ]
  },
  {
   "cell_type": "markdown",
   "id": "d2e33b3c-8f38-4579-bfe8-739f04556bc5",
   "metadata": {},
   "source": [
    "## Finding the Area of a Triangle"
   ]
  },
  {
   "cell_type": "markdown",
   "id": "91fed328-2ba2-476a-910b-a6f4dda6c438",
   "metadata": {},
   "source": [
    "$A = \\frac{1}{2}*B*H$"
   ]
  },
  {
   "cell_type": "code",
   "execution_count": 10,
   "id": "e8d07e49-3e34-45ec-bf8b-9ddba502610c",
   "metadata": {},
   "outputs": [
    {
     "name": "stdin",
     "output_type": "stream",
     "text": [
      "Enter the value of base :  12.5\n",
      "enter the vlaue of height :  6\n"
     ]
    },
    {
     "name": "stdout",
     "output_type": "stream",
     "text": [
      "Area of triangle is 37.5\n"
     ]
    }
   ],
   "source": [
    "B = float(input(\"Enter the value of base : \"))\n",
    "H = float(input(\"enter the vlaue of height : \"))\n",
    "\n",
    "A  = (B*H)/2\n",
    "\n",
    "print(f\"Area of triangle is {A}\")"
   ]
  },
  {
   "cell_type": "markdown",
   "id": "0d256b72-3257-4247-8786-7cec41ac8ed5",
   "metadata": {},
   "source": [
    "***"
   ]
  },
  {
   "cell_type": "markdown",
   "id": "4a23717f-f2b2-4414-9cc9-d7c3c0acfe53",
   "metadata": {},
   "source": [
    "## Swapping Two Numbers"
   ]
  },
  {
   "cell_type": "code",
   "execution_count": 11,
   "id": "6d7d2efb-1548-4d51-9bf9-cbbd81eb9bf8",
   "metadata": {},
   "outputs": [
    {
     "name": "stdout",
     "output_type": "stream",
     "text": [
      "a=10 and b = 20\n",
      "a=20 and b = 10\n"
     ]
    }
   ],
   "source": [
    "a = 10\n",
    "b = 20\n",
    "print(f\"a={a} and b = {b}\")\n",
    "\n",
    "c = a\n",
    "a=b\n",
    "b=c\n",
    "\n",
    "print(f\"a={a} and b = {b}\")"
   ]
  },
  {
   "cell_type": "code",
   "execution_count": 12,
   "id": "df7d3572-163e-4119-b358-3af8f66fde46",
   "metadata": {},
   "outputs": [
    {
     "name": "stdout",
     "output_type": "stream",
     "text": [
      "x=6 and y = 17\n",
      "x=17 and y = 6\n"
     ]
    }
   ],
   "source": [
    "x = 6\n",
    "y = 17\n",
    "print(f\"x={x} and y = {y}\")\n",
    "x,y = y,x\n",
    "print(f\"x={x} and y = {y}\")"
   ]
  },
  {
   "cell_type": "markdown",
   "id": "bdb59760-66a7-43c0-a582-53fd0e448028",
   "metadata": {},
   "source": [
    "***"
   ]
  },
  {
   "cell_type": "markdown",
   "id": "180be178-2d5f-4fcf-b837-678632f3c025",
   "metadata": {},
   "source": [
    "## Checking if a String is a Palindrome"
   ]
  },
  {
   "cell_type": "code",
   "execution_count": 13,
   "id": "a4b1b81b-5f4f-4cea-ad06-e56d92adf3b3",
   "metadata": {},
   "outputs": [],
   "source": [
    "s = \"MADAM\""
   ]
  },
  {
   "cell_type": "code",
   "execution_count": 16,
   "id": "66e18eb4-c42a-4aad-a82c-fbcdda1c0c67",
   "metadata": {},
   "outputs": [
    {
     "data": {
      "text/plain": [
       "'MADAM'"
      ]
     },
     "execution_count": 16,
     "metadata": {},
     "output_type": "execute_result"
    }
   ],
   "source": [
    "s[::-1]"
   ]
  },
  {
   "cell_type": "code",
   "execution_count": 20,
   "id": "97023548-2bbb-4f29-b82d-78c9e21be9fa",
   "metadata": {},
   "outputs": [
    {
     "name": "stdin",
     "output_type": "stream",
     "text": [
      "Enter a word :  nitin\n"
     ]
    },
    {
     "name": "stdout",
     "output_type": "stream",
     "text": [
      "Palindrome\n"
     ]
    }
   ],
   "source": [
    "s = input(\"Enter a word : \")\n",
    "if s == s[::-1]:\n",
    "    print(\"Palindrome\")\n",
    "else:\n",
    "    print(\"Not Palindrome\")"
   ]
  },
  {
   "cell_type": "markdown",
   "id": "8728444b-c09d-447e-8362-4eabdfb863a8",
   "metadata": {},
   "source": [
    "***"
   ]
  },
  {
   "cell_type": "markdown",
   "id": "fa68723c-3f6f-4ee2-8e54-486ea3e5b53b",
   "metadata": {},
   "source": [
    "## Factorial of a Number"
   ]
  },
  {
   "cell_type": "code",
   "execution_count": 23,
   "id": "d0425478-3d0d-4b98-9055-dc3f7ca5388d",
   "metadata": {},
   "outputs": [
    {
     "name": "stdin",
     "output_type": "stream",
     "text": [
      "Enter a number :  5\n"
     ]
    },
    {
     "name": "stdout",
     "output_type": "stream",
     "text": [
      "Factorial of 5 is 120\n"
     ]
    }
   ],
   "source": [
    "n = int(input(\"Enter a number : \"))\n",
    "fact=1\n",
    "for i in range(1,n+1):\n",
    "    fact*=i\n",
    "\n",
    "print(f\"Factorial of {n} is {fact}\")"
   ]
  },
  {
   "cell_type": "code",
   "execution_count": null,
   "id": "ecd60147-b971-4094-b0b6-f99495e33dd4",
   "metadata": {},
   "outputs": [],
   "source": []
  },
  {
   "cell_type": "code",
   "execution_count": null,
   "id": "7af9a5ef-c781-41d7-9df9-866509f5b575",
   "metadata": {},
   "outputs": [],
   "source": []
  }
 ],
 "metadata": {
  "kernelspec": {
   "display_name": "Python 3 (ipykernel)",
   "language": "python",
   "name": "python3"
  },
  "language_info": {
   "codemirror_mode": {
    "name": "ipython",
    "version": 3
   },
   "file_extension": ".py",
   "mimetype": "text/x-python",
   "name": "python",
   "nbconvert_exporter": "python",
   "pygments_lexer": "ipython3",
   "version": "3.11.7"
  }
 },
 "nbformat": 4,
 "nbformat_minor": 5
}
