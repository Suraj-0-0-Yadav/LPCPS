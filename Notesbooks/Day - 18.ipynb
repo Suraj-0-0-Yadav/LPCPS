{
 "cells": [
  {
   "cell_type": "markdown",
   "id": "70e27987-3099-45b7-82e7-afc4d68f2289",
   "metadata": {},
   "source": [
    "# While Loop"
   ]
  },
  {
   "cell_type": "code",
   "execution_count": 1,
   "id": "3f477fed-ad66-416a-95d8-44fcdc94397e",
   "metadata": {},
   "outputs": [
    {
     "name": "stdout",
     "output_type": "stream",
     "text": [
      "0\n",
      "1\n",
      "2\n",
      "3\n",
      "4\n"
     ]
    }
   ],
   "source": [
    "i=0\n",
    "while i<5:\n",
    "    print(i)\n",
    "    i = i+1"
   ]
  },
  {
   "cell_type": "markdown",
   "id": "89aafbd5-9091-4a4d-b590-feb638d44f40",
   "metadata": {},
   "source": [
    "## Factorial of n"
   ]
  },
  {
   "cell_type": "code",
   "execution_count": 6,
   "id": "67475b73-911c-4a64-ab7a-87079190338e",
   "metadata": {},
   "outputs": [
    {
     "name": "stdout",
     "output_type": "stream",
     "text": [
      "120\n"
     ]
    }
   ],
   "source": [
    "n = 5\n",
    "\n",
    "fact = 1\n",
    "\n",
    "while n!=0:\n",
    "    fact = fact * n\n",
    "    n = n-1\n",
    "\n",
    "print(fact)"
   ]
  },
  {
   "cell_type": "code",
   "execution_count": null,
   "id": "80bb25a9-f312-40a5-ba94-edca5632da27",
   "metadata": {},
   "outputs": [],
   "source": []
  },
  {
   "cell_type": "code",
   "execution_count": 7,
   "id": "7e5e79bb-9c90-487a-8926-4322f30bb430",
   "metadata": {},
   "outputs": [],
   "source": [
    "l = [1,2,3,4,5]"
   ]
  },
  {
   "cell_type": "code",
   "execution_count": 8,
   "id": "4e7e3423-09e1-43a9-a67c-d602e72c3f99",
   "metadata": {},
   "outputs": [
    {
     "name": "stdout",
     "output_type": "stream",
     "text": [
      "1\n",
      "2\n",
      "3\n",
      "4\n",
      "5\n"
     ]
    }
   ],
   "source": [
    "for i in l:\n",
    "    print(i)"
   ]
  },
  {
   "cell_type": "code",
   "execution_count": 11,
   "id": "0f5675c6-ffb9-4f41-ab54-14f091c643df",
   "metadata": {},
   "outputs": [],
   "source": [
    "l = [15,23,30,44,59]"
   ]
  },
  {
   "cell_type": "code",
   "execution_count": 16,
   "id": "07c83b54-2b11-4223-9671-c522f1fbb8c9",
   "metadata": {},
   "outputs": [
    {
     "name": "stdout",
     "output_type": "stream",
     "text": [
      "15\n",
      "23\n",
      "30\n",
      "44\n",
      "59\n",
      "While loop end !!!\n"
     ]
    }
   ],
   "source": [
    "i=0\n",
    "while i < len(l):\n",
    "    print(l[i])\n",
    "    i = i+1\n",
    "\n",
    "else:\n",
    "    print(\"While loop end !!!\")"
   ]
  },
  {
   "cell_type": "code",
   "execution_count": null,
   "id": "494fa389-0f67-4859-83c5-c410cdfd677e",
   "metadata": {},
   "outputs": [],
   "source": []
  },
  {
   "cell_type": "markdown",
   "id": "ab2d0d0d-f0e6-4e6d-8ea3-1f8d0355fa81",
   "metadata": {},
   "source": [
    "## Iteration"
   ]
  },
  {
   "cell_type": "code",
   "execution_count": 17,
   "id": "a4268746-eb04-438e-b0b8-f8d81f282236",
   "metadata": {},
   "outputs": [],
   "source": [
    "a = [1,2,3,4,5]"
   ]
  },
  {
   "cell_type": "code",
   "execution_count": 19,
   "id": "b425908a-62fb-4d93-88e4-464860d70844",
   "metadata": {},
   "outputs": [
    {
     "name": "stdout",
     "output_type": "stream",
     "text": [
      "1\n",
      "2\n",
      "3\n",
      "4\n",
      "5\n"
     ]
    }
   ],
   "source": [
    "for n in a:\n",
    "    print(n)"
   ]
  },
  {
   "cell_type": "code",
   "execution_count": 21,
   "id": "5271a4c7-3556-436e-a58c-504303b4e7c1",
   "metadata": {},
   "outputs": [
    {
     "name": "stdout",
     "output_type": "stream",
     "text": [
      "P\n",
      "y\n",
      "t\n",
      "h\n",
      "o\n",
      "n\n"
     ]
    }
   ],
   "source": [
    "b = \"Python\"\n",
    "for i in b:\n",
    "    print(i)"
   ]
  },
  {
   "cell_type": "code",
   "execution_count": null,
   "id": "53b40a83-d7e1-48c0-ae6e-6484f860dbc4",
   "metadata": {},
   "outputs": [],
   "source": []
  },
  {
   "cell_type": "code",
   "execution_count": 22,
   "id": "c977276d-486b-437c-85d2-1b5842593a6c",
   "metadata": {},
   "outputs": [],
   "source": [
    "c = {'One':1,'Two':2,\"Three\":3}"
   ]
  },
  {
   "cell_type": "code",
   "execution_count": 25,
   "id": "e6b53f72-e086-475e-8c4c-432ba4e8c7f9",
   "metadata": {},
   "outputs": [
    {
     "name": "stdout",
     "output_type": "stream",
     "text": [
      "1\n",
      "2\n",
      "3\n"
     ]
    }
   ],
   "source": [
    "for i in c:\n",
    "    print(c[i])"
   ]
  },
  {
   "cell_type": "code",
   "execution_count": null,
   "id": "87b3727b-b310-4df5-b9f9-c366fb080245",
   "metadata": {},
   "outputs": [],
   "source": []
  },
  {
   "cell_type": "markdown",
   "id": "38e262f6-e481-4de2-b62d-c0173dc75c8e",
   "metadata": {},
   "source": [
    "# Break and Continue"
   ]
  },
  {
   "cell_type": "code",
   "execution_count": 1,
   "id": "b0b23e54-bc46-4e13-9ee8-05921cf463c3",
   "metadata": {},
   "outputs": [],
   "source": [
    "fruits = ['apple','orange','banana','cherry','grapes']"
   ]
  },
  {
   "cell_type": "code",
   "execution_count": 2,
   "id": "05d7e9d7-8a98-4977-b308-b85f930fb880",
   "metadata": {},
   "outputs": [
    {
     "name": "stdout",
     "output_type": "stream",
     "text": [
      "apple\n",
      "orange\n"
     ]
    }
   ],
   "source": [
    "for i in fruits:\n",
    "    if i == 'banana':\n",
    "        break\n",
    "    print(i)\n",
    "\n"
   ]
  },
  {
   "cell_type": "code",
   "execution_count": 3,
   "id": "ec00f73c-42ca-4236-9cbe-b0c403c72f38",
   "metadata": {},
   "outputs": [
    {
     "name": "stdout",
     "output_type": "stream",
     "text": [
      "apple\n",
      "orange\n",
      "banana\n"
     ]
    }
   ],
   "source": [
    "i=0\n",
    "while i < len(fruits):\n",
    "    if i == 3:\n",
    "        break\n",
    "    print(fruits[i])\n",
    "    i=i+1"
   ]
  },
  {
   "cell_type": "code",
   "execution_count": null,
   "id": "efb7f64d-85b1-49a5-820c-777677e2ae4e",
   "metadata": {},
   "outputs": [],
   "source": []
  },
  {
   "cell_type": "code",
   "execution_count": 11,
   "id": "445c01a8-40dc-4fd2-b796-9423d9d76358",
   "metadata": {},
   "outputs": [
    {
     "name": "stdin",
     "output_type": "stream",
     "text": [
      "Enter the name(Write quit for stop) :  a\n"
     ]
    },
    {
     "name": "stdout",
     "output_type": "stream",
     "text": [
      "a\n"
     ]
    },
    {
     "name": "stdin",
     "output_type": "stream",
     "text": [
      "Enter the name(Write quit for stop) :  s\n"
     ]
    },
    {
     "name": "stdout",
     "output_type": "stream",
     "text": [
      "s\n"
     ]
    },
    {
     "name": "stdin",
     "output_type": "stream",
     "text": [
      "Enter the name(Write quit for stop) :  d\n"
     ]
    },
    {
     "name": "stdout",
     "output_type": "stream",
     "text": [
      "d\n"
     ]
    },
    {
     "name": "stdin",
     "output_type": "stream",
     "text": [
      "Enter the name(Write quit for stop) :  f\n"
     ]
    },
    {
     "name": "stdout",
     "output_type": "stream",
     "text": [
      "f\n"
     ]
    },
    {
     "name": "stdin",
     "output_type": "stream",
     "text": [
      "Enter the name(Write quit for stop) :  g\n"
     ]
    },
    {
     "name": "stdout",
     "output_type": "stream",
     "text": [
      "g\n"
     ]
    },
    {
     "name": "stdin",
     "output_type": "stream",
     "text": [
      "Enter the name(Write quit for stop) :  h\n"
     ]
    },
    {
     "name": "stdout",
     "output_type": "stream",
     "text": [
      "h\n"
     ]
    },
    {
     "name": "stdin",
     "output_type": "stream",
     "text": [
      "Enter the name(Write quit for stop) :  j\n"
     ]
    },
    {
     "name": "stdout",
     "output_type": "stream",
     "text": [
      "j\n"
     ]
    },
    {
     "name": "stdin",
     "output_type": "stream",
     "text": [
      "Enter the name(Write quit for stop) :  k\n"
     ]
    },
    {
     "name": "stdout",
     "output_type": "stream",
     "text": [
      "k\n"
     ]
    },
    {
     "name": "stdin",
     "output_type": "stream",
     "text": [
      "Enter the name(Write quit for stop) :  l\n"
     ]
    },
    {
     "name": "stdout",
     "output_type": "stream",
     "text": [
      "l\n"
     ]
    },
    {
     "name": "stdin",
     "output_type": "stream",
     "text": [
      "Enter the name(Write quit for stop) :  quit\n"
     ]
    }
   ],
   "source": [
    "names = []\n",
    "while True:\n",
    "    name = input(\"Enter the name(Write quit for stop) : \")\n",
    "    if name=='quit':\n",
    "        break\n",
    "    print(name)\n",
    "    names.append(name)"
   ]
  },
  {
   "cell_type": "code",
   "execution_count": 12,
   "id": "b56b9d62-1715-45cf-a7e7-7401222fc65f",
   "metadata": {},
   "outputs": [
    {
     "data": {
      "text/plain": [
       "['a', 's', 'd', 'f', 'g', 'h', 'j', 'k', 'l']"
      ]
     },
     "execution_count": 12,
     "metadata": {},
     "output_type": "execute_result"
    }
   ],
   "source": [
    "names"
   ]
  },
  {
   "cell_type": "code",
   "execution_count": null,
   "id": "c9f52af1-af28-47a1-8e48-3aebf85d5d81",
   "metadata": {},
   "outputs": [],
   "source": []
  },
  {
   "cell_type": "code",
   "execution_count": null,
   "id": "b649e695-3665-4ef8-9269-f5478c038169",
   "metadata": {},
   "outputs": [],
   "source": []
  },
  {
   "cell_type": "code",
   "execution_count": null,
   "id": "4828811c-bb1a-4b24-b620-f1b2e155cc56",
   "metadata": {},
   "outputs": [],
   "source": []
  },
  {
   "cell_type": "code",
   "execution_count": null,
   "id": "a82f708b-e527-44ca-8667-a22fbfc87f28",
   "metadata": {},
   "outputs": [],
   "source": []
  },
  {
   "cell_type": "code",
   "execution_count": null,
   "id": "48320967-4116-48d0-b03e-bf423b63aae5",
   "metadata": {},
   "outputs": [],
   "source": []
  },
  {
   "cell_type": "code",
   "execution_count": null,
   "id": "86204e7f-aa75-48a7-8a03-39f2a500c153",
   "metadata": {},
   "outputs": [],
   "source": []
  },
  {
   "cell_type": "code",
   "execution_count": null,
   "id": "8a5af138-4d58-4d48-bff3-4b13a87e7cfb",
   "metadata": {},
   "outputs": [],
   "source": []
  },
  {
   "cell_type": "code",
   "execution_count": null,
   "id": "bc5f4c2c-b3f5-4ed1-8294-81338bd2bc48",
   "metadata": {},
   "outputs": [],
   "source": []
  }
 ],
 "metadata": {
  "kernelspec": {
   "display_name": "Python 3 (ipykernel)",
   "language": "python",
   "name": "python3"
  },
  "language_info": {
   "codemirror_mode": {
    "name": "ipython",
    "version": 3
   },
   "file_extension": ".py",
   "mimetype": "text/x-python",
   "name": "python",
   "nbconvert_exporter": "python",
   "pygments_lexer": "ipython3",
   "version": "3.11.7"
  }
 },
 "nbformat": 4,
 "nbformat_minor": 5
}
