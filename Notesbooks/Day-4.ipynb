{
 "cells": [
  {
   "cell_type": "code",
   "execution_count": 1,
   "id": "5293289f-3b7e-42c1-9d26-e74087c47137",
   "metadata": {},
   "outputs": [],
   "source": [
    "name = \"Jhon\"\n",
    "age = 50"
   ]
  },
  {
   "cell_type": "code",
   "execution_count": 15,
   "id": "5f9ff95a-6aa0-40bc-9193-b70f70cd4ad8",
   "metadata": {},
   "outputs": [
    {
     "name": "stdout",
     "output_type": "stream",
     "text": [
      "My name is ,,,Jhon,,, and my age is ....50....\n"
     ]
    }
   ],
   "source": [
    "print(\"My name is {n:,^10} and my age is {a:.^10}\".format(a=age,n=name))"
   ]
  },
  {
   "cell_type": "markdown",
   "id": "7eaf945f-1f04-4433-870a-e48d35ef23e1",
   "metadata": {},
   "source": [
    "***"
   ]
  },
  {
   "cell_type": "code",
   "execution_count": 18,
   "id": "6ef9d2be-fcd9-44ab-bdd5-f830a90629a8",
   "metadata": {},
   "outputs": [],
   "source": [
    "from math import pi"
   ]
  },
  {
   "cell_type": "code",
   "execution_count": 19,
   "id": "b81776ef-5643-446a-9cfc-002df7cebb86",
   "metadata": {},
   "outputs": [
    {
     "data": {
      "text/plain": [
       "3.141592653589793"
      ]
     },
     "execution_count": 19,
     "metadata": {},
     "output_type": "execute_result"
    }
   ],
   "source": [
    "pi"
   ]
  },
  {
   "cell_type": "code",
   "execution_count": 22,
   "id": "294bd9a7-2211-4322-a78f-a71368631793",
   "metadata": {},
   "outputs": [
    {
     "name": "stdout",
     "output_type": "stream",
     "text": [
      "The value of PI is 3.14\n"
     ]
    }
   ],
   "source": [
    "print(\"The value of PI is {0:.2f}\".format(pi))"
   ]
  },
  {
   "cell_type": "code",
   "execution_count": 23,
   "id": "3d966f5c-f05f-4f81-801d-37fcfb6d5d41",
   "metadata": {},
   "outputs": [
    {
     "name": "stdout",
     "output_type": "stream",
     "text": [
      "The value of PI is 3.142\n"
     ]
    }
   ],
   "source": [
    "print(\"The value of PI is {0:.3f}\".format(pi))"
   ]
  },
  {
   "cell_type": "code",
   "execution_count": 24,
   "id": "d878abb6-38c7-425d-8fe9-21e8247944da",
   "metadata": {},
   "outputs": [
    {
     "name": "stdout",
     "output_type": "stream",
     "text": [
      "The value of PI is 3.1416\n"
     ]
    }
   ],
   "source": [
    "print(\"The value of PI is {0:.4f}\".format(pi))"
   ]
  },
  {
   "cell_type": "markdown",
   "id": "cecb9d10-05d6-4824-af06-a89159eea708",
   "metadata": {},
   "source": [
    "***"
   ]
  },
  {
   "cell_type": "markdown",
   "id": "bffe95c5-f868-468c-8dfb-9d69c4f7bf37",
   "metadata": {},
   "source": [
    "# F-String"
   ]
  },
  {
   "cell_type": "code",
   "execution_count": 25,
   "id": "b3d7cc8d-dbf3-4a68-99f0-4ce18180be84",
   "metadata": {},
   "outputs": [],
   "source": [
    "name = \"Jhon\"\n",
    "age = 50"
   ]
  },
  {
   "cell_type": "code",
   "execution_count": 28,
   "id": "c02569f9-0302-4c08-ac31-a6403f2f1d42",
   "metadata": {},
   "outputs": [
    {
     "name": "stdout",
     "output_type": "stream",
     "text": [
      "My name is Jhon and my age is 50\n"
     ]
    }
   ],
   "source": [
    "print(f\"My name is {name} and my age is {age}\")"
   ]
  },
  {
   "cell_type": "code",
   "execution_count": 29,
   "id": "1a57bad9-52f6-4591-9d23-b7f64a631283",
   "metadata": {},
   "outputs": [],
   "source": [
    "x = 12**12"
   ]
  },
  {
   "cell_type": "code",
   "execution_count": 30,
   "id": "33cc243d-fa15-4bd5-b666-ab7ae81ceb63",
   "metadata": {},
   "outputs": [
    {
     "data": {
      "text/plain": [
       "8916100448256"
      ]
     },
     "execution_count": 30,
     "metadata": {},
     "output_type": "execute_result"
    }
   ],
   "source": [
    "x"
   ]
  },
  {
   "cell_type": "code",
   "execution_count": 32,
   "id": "75f42926-2753-4557-849a-01ca1622a46e",
   "metadata": {},
   "outputs": [
    {
     "name": "stdout",
     "output_type": "stream",
     "text": [
      "The value of x is 8,916,100,448,256\n"
     ]
    }
   ],
   "source": [
    "print(f\"The value of x is {x:,}\")"
   ]
  },
  {
   "cell_type": "code",
   "execution_count": 33,
   "id": "3a309b5d-ec47-485c-a91b-bc09c08c7405",
   "metadata": {},
   "outputs": [
    {
     "data": {
      "text/plain": [
       "3.141592653589793"
      ]
     },
     "execution_count": 33,
     "metadata": {},
     "output_type": "execute_result"
    }
   ],
   "source": [
    "pi"
   ]
  },
  {
   "cell_type": "code",
   "execution_count": 35,
   "id": "6f22ab79-6a45-41db-9646-99272c22ecc4",
   "metadata": {},
   "outputs": [
    {
     "name": "stdout",
     "output_type": "stream",
     "text": [
      "The value of PI is 3.14\n"
     ]
    }
   ],
   "source": [
    "print(f\"The value of PI is {pi:.2f}\")"
   ]
  },
  {
   "cell_type": "code",
   "execution_count": 36,
   "id": "812d4b3d-76b8-456e-acb2-a9c5a0aaf1d3",
   "metadata": {},
   "outputs": [
    {
     "name": "stdout",
     "output_type": "stream",
     "text": [
      "The value of PI is 3.142\n"
     ]
    }
   ],
   "source": [
    "print(f\"The value of PI is {pi:.3f}\")"
   ]
  },
  {
   "cell_type": "code",
   "execution_count": null,
   "id": "44624ca6-199b-469a-98ba-2ab0119dc1d4",
   "metadata": {},
   "outputs": [],
   "source": []
  },
  {
   "cell_type": "code",
   "execution_count": 42,
   "id": "9dda49a7-65b4-43d3-a76a-2357907bc3cc",
   "metadata": {},
   "outputs": [
    {
     "name": "stdout",
     "output_type": "stream",
     "text": [
      "name='Jhon' age=50\n"
     ]
    }
   ],
   "source": [
    "print(f\"{name=} {age=}\")"
   ]
  },
  {
   "cell_type": "code",
   "execution_count": null,
   "id": "d5ec66c0-dea5-4033-a660-a5546b8eaa43",
   "metadata": {},
   "outputs": [],
   "source": []
  },
  {
   "cell_type": "code",
   "execution_count": 46,
   "id": "bef32252-1744-4799-b982-3ff34e7bfe63",
   "metadata": {},
   "outputs": [
    {
     "name": "stdout",
     "output_type": "stream",
     "text": [
      "The value of x is x=8,916,100,448,256\n"
     ]
    }
   ],
   "source": [
    "print(f\"The value of x is {x=:,}\")"
   ]
  },
  {
   "cell_type": "code",
   "execution_count": null,
   "id": "3c676410-0261-4305-8675-705bb680d529",
   "metadata": {},
   "outputs": [],
   "source": []
  },
  {
   "cell_type": "code",
   "execution_count": 47,
   "id": "3798e338-39e0-4816-91b2-34fa4153d707",
   "metadata": {},
   "outputs": [],
   "source": [
    "stu1 = {\"Name\":\"Jhon\",\"Age\":50,\"Height\":120}"
   ]
  },
  {
   "cell_type": "code",
   "execution_count": 48,
   "id": "eeace1d7-10fa-49e2-a2d3-3c5a14d387ea",
   "metadata": {},
   "outputs": [
    {
     "data": {
      "text/plain": [
       "50"
      ]
     },
     "execution_count": 48,
     "metadata": {},
     "output_type": "execute_result"
    }
   ],
   "source": [
    "stu1['Age']"
   ]
  },
  {
   "cell_type": "code",
   "execution_count": 49,
   "id": "61c98333-2b9a-4dba-95ef-b2009bfda904",
   "metadata": {},
   "outputs": [
    {
     "data": {
      "text/plain": [
       "120"
      ]
     },
     "execution_count": 49,
     "metadata": {},
     "output_type": "execute_result"
    }
   ],
   "source": [
    "stu1['Height']"
   ]
  },
  {
   "cell_type": "code",
   "execution_count": 54,
   "id": "9b555a7f-00ab-4622-ad1a-ad2689d79a26",
   "metadata": {},
   "outputs": [
    {
     "name": "stdout",
     "output_type": "stream",
     "text": [
      "My name is Jhon and age is 50 and my height is 120 \n"
     ]
    }
   ],
   "source": [
    "print(f'My name is {stu1[\"Name\"]} and age is {stu1[\"Age\"]} and my height is {stu1[\"Height\"]} ')"
   ]
  },
  {
   "cell_type": "code",
   "execution_count": 55,
   "id": "06d8e010-ee58-49df-8b0f-7076d7af6a59",
   "metadata": {},
   "outputs": [
    {
     "name": "stdout",
     "output_type": "stream",
     "text": [
      "My name is Jhon\n",
      "I love Python Programming\n",
      "My age is 50\n"
     ]
    }
   ],
   "source": [
    "print(f\"My name is {stu1['Name']}\")\n",
    "print(f\"I love Python Programming\")\n",
    "print(f\"My age is {stu1['Age']}\")"
   ]
  },
  {
   "cell_type": "code",
   "execution_count": 57,
   "id": "0e3aa369-ce78-4232-b2b6-6e7843389cc3",
   "metadata": {},
   "outputs": [
    {
     "name": "stdout",
     "output_type": "stream",
     "text": [
      "My name is Jhon\n",
      "I love Python Programming\n",
      "My age is 50\n"
     ]
    }
   ],
   "source": [
    "print(\n",
    "    f\"My name is {stu1['Name']}\\n\"\n",
    "    f\"I love Python Programming\\n\"\n",
    "    f\"My age is {stu1['Age']}\"\n",
    ")"
   ]
  },
  {
   "cell_type": "code",
   "execution_count": null,
   "id": "9cee7912-0e5e-4b95-a421-07c9e21c6c7b",
   "metadata": {},
   "outputs": [],
   "source": []
  },
  {
   "cell_type": "code",
   "execution_count": 58,
   "id": "8e5d497b-0590-48b0-ad26-5718db478f94",
   "metadata": {},
   "outputs": [],
   "source": [
    "a = 1\n",
    "b = 67\n",
    "c = 489"
   ]
  },
  {
   "cell_type": "code",
   "execution_count": 59,
   "id": "8380ad00-a8b5-4b01-b9a5-d26c1fdb91c2",
   "metadata": {},
   "outputs": [
    {
     "name": "stdout",
     "output_type": "stream",
     "text": [
      "1\n",
      "67\n",
      "489\n"
     ]
    }
   ],
   "source": [
    "print(\n",
    "    f\"{a}\\n\"\n",
    "    f\"{b}\\n\"\n",
    "    f\"{c}\"\n",
    ")"
   ]
  },
  {
   "cell_type": "code",
   "execution_count": 62,
   "id": "9c41b356-821d-41f3-a817-55ce0c951b7a",
   "metadata": {},
   "outputs": [
    {
     "name": "stdout",
     "output_type": "stream",
     "text": [
      "001\n",
      "067\n",
      "489\n"
     ]
    }
   ],
   "source": [
    "print(\n",
    "    f\"{a:03}\\n\"\n",
    "    f\"{b:03}\\n\"\n",
    "    f\"{c:03}\"\n",
    ")"
   ]
  },
  {
   "cell_type": "code",
   "execution_count": null,
   "id": "a47533d1-ff05-41b9-b7ff-ef0a89b7d1f7",
   "metadata": {},
   "outputs": [],
   "source": []
  },
  {
   "cell_type": "code",
   "execution_count": null,
   "id": "35755fe4-bc11-40ba-b4ca-c646ee74c0a6",
   "metadata": {},
   "outputs": [],
   "source": []
  },
  {
   "cell_type": "code",
   "execution_count": null,
   "id": "3edc3d96-23b9-4c76-a0d7-fe22065931e0",
   "metadata": {},
   "outputs": [],
   "source": []
  },
  {
   "cell_type": "code",
   "execution_count": null,
   "id": "d0ad0cfd-b2d1-4db3-a153-4c8379c32fe8",
   "metadata": {},
   "outputs": [],
   "source": []
  }
 ],
 "metadata": {
  "kernelspec": {
   "display_name": "Python 3 (ipykernel)",
   "language": "python",
   "name": "python3"
  },
  "language_info": {
   "codemirror_mode": {
    "name": "ipython",
    "version": 3
   },
   "file_extension": ".py",
   "mimetype": "text/x-python",
   "name": "python",
   "nbconvert_exporter": "python",
   "pygments_lexer": "ipython3",
   "version": "3.11.7"
  }
 },
 "nbformat": 4,
 "nbformat_minor": 5
}
