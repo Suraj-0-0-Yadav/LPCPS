{
 "cells": [
  {
   "cell_type": "code",
   "execution_count": 1,
   "id": "5293289f-3b7e-42c1-9d26-e74087c47137",
   "metadata": {},
   "outputs": [],
   "source": [
    "name = \"Jhon\"\n",
    "age = 50"
   ]
  },
  {
   "cell_type": "code",
   "execution_count": 15,
   "id": "5f9ff95a-6aa0-40bc-9193-b70f70cd4ad8",
   "metadata": {},
   "outputs": [
    {
     "name": "stdout",
     "output_type": "stream",
     "text": [
      "My name is ,,,Jhon,,, and my age is ....50....\n"
     ]
    }
   ],
   "source": [
    "print(\"My name is {n:,^10} and my age is {a:.^10}\".format(a=age,n=name))"
   ]
  },
  {
   "cell_type": "markdown",
   "id": "7eaf945f-1f04-4433-870a-e48d35ef23e1",
   "metadata": {},
   "source": [
    "***"
   ]
  },
  {
   "cell_type": "code",
   "execution_count": 18,
   "id": "6ef9d2be-fcd9-44ab-bdd5-f830a90629a8",
   "metadata": {},
   "outputs": [],
   "source": [
    "from math import pi"
   ]
  },
  {
   "cell_type": "code",
   "execution_count": 19,
   "id": "b81776ef-5643-446a-9cfc-002df7cebb86",
   "metadata": {},
   "outputs": [
    {
     "data": {
      "text/plain": [
       "3.141592653589793"
      ]
     },
     "execution_count": 19,
     "metadata": {},
     "output_type": "execute_result"
    }
   ],
   "source": [
    "pi"
   ]
  },
  {
   "cell_type": "code",
   "execution_count": 22,
   "id": "294bd9a7-2211-4322-a78f-a71368631793",
   "metadata": {},
   "outputs": [
    {
     "name": "stdout",
     "output_type": "stream",
     "text": [
      "The value of PI is 3.14\n"
     ]
    }
   ],
   "source": [
    "print(\"The value of PI is {0:.2f}\".format(pi))"
   ]
  },
  {
   "cell_type": "code",
   "execution_count": 23,
   "id": "3d966f5c-f05f-4f81-801d-37fcfb6d5d41",
   "metadata": {},
   "outputs": [
    {
     "name": "stdout",
     "output_type": "stream",
     "text": [
      "The value of PI is 3.142\n"
     ]
    }
   ],
   "source": [
    "print(\"The value of PI is {0:.3f}\".format(pi))"
   ]
  },
  {
   "cell_type": "code",
   "execution_count": 24,
   "id": "d878abb6-38c7-425d-8fe9-21e8247944da",
   "metadata": {},
   "outputs": [
    {
     "name": "stdout",
     "output_type": "stream",
     "text": [
      "The value of PI is 3.1416\n"
     ]
    }
   ],
   "source": [
    "print(\"The value of PI is {0:.4f}\".format(pi))"
   ]
  },
  {
   "cell_type": "markdown",
   "id": "cecb9d10-05d6-4824-af06-a89159eea708",
   "metadata": {},
   "source": [
    "***"
   ]
  },
  {
   "cell_type": "markdown",
   "id": "bffe95c5-f868-468c-8dfb-9d69c4f7bf37",
   "metadata": {},
   "source": [
    "# F-String"
   ]
  },
  {
   "cell_type": "code",
   "execution_count": 25,
   "id": "b3d7cc8d-dbf3-4a68-99f0-4ce18180be84",
   "metadata": {},
   "outputs": [],
   "source": [
    "name = \"Jhon\"\n",
    "age = 50"
   ]
  },
  {
   "cell_type": "code",
   "execution_count": 28,
   "id": "c02569f9-0302-4c08-ac31-a6403f2f1d42",
   "metadata": {},
   "outputs": [
    {
     "name": "stdout",
     "output_type": "stream",
     "text": [
      "My name is Jhon and my age is 50\n"
     ]
    }
   ],
   "source": [
    "print(f\"My name is {name} and my age is {age}\")"
   ]
  },
  {
   "cell_type": "code",
   "execution_count": 29,
   "id": "1a57bad9-52f6-4591-9d23-b7f64a631283",
   "metadata": {},
   "outputs": [],
   "source": [
    "x = 12**12"
   ]
  },
  {
   "cell_type": "code",
   "execution_count": 30,
   "id": "33cc243d-fa15-4bd5-b666-ab7ae81ceb63",
   "metadata": {},
   "outputs": [
    {
     "data": {
      "text/plain": [
       "8916100448256"
      ]
     },
     "execution_count": 30,
     "metadata": {},
     "output_type": "execute_result"
    }
   ],
   "source": [
    "x"
   ]
  },
  {
   "cell_type": "code",
   "execution_count": 32,
   "id": "75f42926-2753-4557-849a-01ca1622a46e",
   "metadata": {},
   "outputs": [
    {
     "name": "stdout",
     "output_type": "stream",
     "text": [
      "The value of x is 8,916,100,448,256\n"
     ]
    }
   ],
   "source": [
    "print(f\"The value of x is {x:,}\")"
   ]
  },
  {
   "cell_type": "code",
   "execution_count": 33,
   "id": "3a309b5d-ec47-485c-a91b-bc09c08c7405",
   "metadata": {},
   "outputs": [
    {
     "data": {
      "text/plain": [
       "3.141592653589793"
      ]
     },
     "execution_count": 33,
     "metadata": {},
     "output_type": "execute_result"
    }
   ],
   "source": [
    "pi"
   ]
  },
  {
   "cell_type": "code",
   "execution_count": 35,
   "id": "6f22ab79-6a45-41db-9646-99272c22ecc4",
   "metadata": {},
   "outputs": [
    {
     "name": "stdout",
     "output_type": "stream",
     "text": [
      "The value of PI is 3.14\n"
     ]
    }
   ],
   "source": [
    "print(f\"The value of PI is {pi:.2f}\")"
   ]
  },
  {
   "cell_type": "code",
   "execution_count": 36,
   "id": "812d4b3d-76b8-456e-acb2-a9c5a0aaf1d3",
   "metadata": {},
   "outputs": [
    {
     "name": "stdout",
     "output_type": "stream",
     "text": [
      "The value of PI is 3.142\n"
     ]
    }
   ],
   "source": [
    "print(f\"The value of PI is {pi:.3f}\")"
   ]
  },
  {
   "cell_type": "code",
   "execution_count": null,
   "id": "44624ca6-199b-469a-98ba-2ab0119dc1d4",
   "metadata": {},
   "outputs": [],
   "source": []
  },
  {
   "cell_type": "code",
   "execution_count": 42,
   "id": "9dda49a7-65b4-43d3-a76a-2357907bc3cc",
   "metadata": {},
   "outputs": [
    {
     "name": "stdout",
     "output_type": "stream",
     "text": [
      "name='Jhon' age=50\n"
     ]
    }
   ],
   "source": [
    "print(f\"{name=} {age=}\")"
   ]
  },
  {
   "cell_type": "code",
   "execution_count": null,
   "id": "d5ec66c0-dea5-4033-a660-a5546b8eaa43",
   "metadata": {},
   "outputs": [],
   "source": []
  },
  {
   "cell_type": "code",
   "execution_count": 46,
   "id": "bef32252-1744-4799-b982-3ff34e7bfe63",
   "metadata": {},
   "outputs": [
    {
     "name": "stdout",
     "output_type": "stream",
     "text": [
      "The value of x is x=8,916,100,448,256\n"
     ]
    }
   ],
   "source": [
    "print(f\"The value of x is {x=:,}\")"
   ]
  },
  {
   "cell_type": "code",
   "execution_count": null,
   "id": "3c676410-0261-4305-8675-705bb680d529",
   "metadata": {},
   "outputs": [],
   "source": []
  },
  {
   "cell_type": "code",
   "execution_count": 47,
   "id": "3798e338-39e0-4816-91b2-34fa4153d707",
   "metadata": {},
   "outputs": [],
   "source": [
    "stu1 = {\"Name\":\"Jhon\",\"Age\":50,\"Height\":120}"
   ]
  },
  {
   "cell_type": "code",
   "execution_count": 48,
   "id": "eeace1d7-10fa-49e2-a2d3-3c5a14d387ea",
   "metadata": {},
   "outputs": [
    {
     "data": {
      "text/plain": [
       "50"
      ]
     },
     "execution_count": 48,
     "metadata": {},
     "output_type": "execute_result"
    }
   ],
   "source": [
    "stu1['Age']"
   ]
  },
  {
   "cell_type": "code",
   "execution_count": 49,
   "id": "61c98333-2b9a-4dba-95ef-b2009bfda904",
   "metadata": {},
   "outputs": [
    {
     "data": {
      "text/plain": [
       "120"
      ]
     },
     "execution_count": 49,
     "metadata": {},
     "output_type": "execute_result"
    }
   ],
   "source": [
    "stu1['Height']"
   ]
  },
  {
   "cell_type": "code",
   "execution_count": 54,
   "id": "9b555a7f-00ab-4622-ad1a-ad2689d79a26",
   "metadata": {},
   "outputs": [
    {
     "name": "stdout",
     "output_type": "stream",
     "text": [
      "My name is Jhon and age is 50 and my height is 120 \n"
     ]
    }
   ],
   "source": [
    "print(f'My name is {stu1[\"Name\"]} and age is {stu1[\"Age\"]} and my height is {stu1[\"Height\"]} ')"
   ]
  },
  {
   "cell_type": "code",
   "execution_count": 55,
   "id": "06d8e010-ee58-49df-8b0f-7076d7af6a59",
   "metadata": {},
   "outputs": [
    {
     "name": "stdout",
     "output_type": "stream",
     "text": [
      "My name is Jhon\n",
      "I love Python Programming\n",
      "My age is 50\n"
     ]
    }
   ],
   "source": [
    "print(f\"My name is {stu1['Name']}\")\n",
    "print(f\"I love Python Programming\")\n",
    "print(f\"My age is {stu1['Age']}\")"
   ]
  },
  {
   "cell_type": "code",
   "execution_count": 57,
   "id": "0e3aa369-ce78-4232-b2b6-6e7843389cc3",
   "metadata": {},
   "outputs": [
    {
     "name": "stdout",
     "output_type": "stream",
     "text": [
      "My name is Jhon\n",
      "I love Python Programming\n",
      "My age is 50\n"
     ]
    }
   ],
   "source": [
    "print(\n",
    "    f\"My name is {stu1['Name']}\\n\"\n",
    "    f\"I love Python Programming\\n\"\n",
    "    f\"My age is {stu1['Age']}\"\n",
    ")"
   ]
  },
  {
   "cell_type": "code",
   "execution_count": null,
   "id": "9cee7912-0e5e-4b95-a421-07c9e21c6c7b",
   "metadata": {},
   "outputs": [],
   "source": []
  },
  {
   "cell_type": "code",
   "execution_count": 58,
   "id": "8e5d497b-0590-48b0-ad26-5718db478f94",
   "metadata": {},
   "outputs": [],
   "source": [
    "a = 1\n",
    "b = 67\n",
    "c = 489"
   ]
  },
  {
   "cell_type": "code",
   "execution_count": 59,
   "id": "8380ad00-a8b5-4b01-b9a5-d26c1fdb91c2",
   "metadata": {},
   "outputs": [
    {
     "name": "stdout",
     "output_type": "stream",
     "text": [
      "1\n",
      "67\n",
      "489\n"
     ]
    }
   ],
   "source": [
    "print(\n",
    "    f\"{a}\\n\"\n",
    "    f\"{b}\\n\"\n",
    "    f\"{c}\"\n",
    ")"
   ]
  },
  {
   "cell_type": "code",
   "execution_count": 62,
   "id": "9c41b356-821d-41f3-a817-55ce0c951b7a",
   "metadata": {},
   "outputs": [
    {
     "name": "stdout",
     "output_type": "stream",
     "text": [
      "001\n",
      "067\n",
      "489\n"
     ]
    }
   ],
   "source": [
    "print(\n",
    "    f\"{a:03}\\n\"\n",
    "    f\"{b:03}\\n\"\n",
    "    f\"{c:03}\"\n",
    ")"
   ]
  },
  {
   "cell_type": "code",
   "execution_count": 63,
   "id": "a47533d1-ff05-41b9-b7ff-ef0a89b7d1f7",
   "metadata": {},
   "outputs": [],
   "source": [
    "a = 10\n",
    "b = 20"
   ]
  },
  {
   "cell_type": "code",
   "execution_count": 64,
   "id": "35755fe4-bc11-40ba-b4ca-c646ee74c0a6",
   "metadata": {},
   "outputs": [],
   "source": [
    "s = a+b"
   ]
  },
  {
   "cell_type": "code",
   "execution_count": 65,
   "id": "3edc3d96-23b9-4c76-a0d7-fe22065931e0",
   "metadata": {},
   "outputs": [
    {
     "name": "stdout",
     "output_type": "stream",
     "text": [
      "489\n"
     ]
    }
   ],
   "source": [
    "print(c)"
   ]
  },
  {
   "cell_type": "markdown",
   "id": "7c8b99ef-7c5e-49fb-9314-e0edb12050d0",
   "metadata": {},
   "source": [
    "## Arithmetic operaters"
   ]
  },
  {
   "cell_type": "code",
   "execution_count": 66,
   "id": "d0ad0cfd-b2d1-4db3-a153-4c8379c32fe8",
   "metadata": {},
   "outputs": [],
   "source": [
    "c = 50"
   ]
  },
  {
   "cell_type": "code",
   "execution_count": 67,
   "id": "eb6fc52f-e450-469e-a11b-a07087142fc2",
   "metadata": {},
   "outputs": [],
   "source": [
    "x = a/c"
   ]
  },
  {
   "cell_type": "code",
   "execution_count": 68,
   "id": "6e78c512-eec6-4170-9aa2-e8b7860a072b",
   "metadata": {},
   "outputs": [
    {
     "name": "stdout",
     "output_type": "stream",
     "text": [
      "0.2\n"
     ]
    }
   ],
   "source": [
    "print(x)"
   ]
  },
  {
   "cell_type": "code",
   "execution_count": 69,
   "id": "cc230505-92a3-42a2-b66b-ead0be1baa82",
   "metadata": {},
   "outputs": [],
   "source": [
    "y = a//c"
   ]
  },
  {
   "cell_type": "code",
   "execution_count": 70,
   "id": "e525961c-05f5-461c-9ce4-cebc7f697739",
   "metadata": {},
   "outputs": [
    {
     "name": "stdout",
     "output_type": "stream",
     "text": [
      "0\n"
     ]
    }
   ],
   "source": [
    "print(y)"
   ]
  },
  {
   "cell_type": "code",
   "execution_count": 71,
   "id": "971a816e-2459-4e43-af23-0e439101a903",
   "metadata": {},
   "outputs": [
    {
     "data": {
      "text/plain": [
       "2.5"
      ]
     },
     "execution_count": 71,
     "metadata": {},
     "output_type": "execute_result"
    }
   ],
   "source": [
    "5/2"
   ]
  },
  {
   "cell_type": "code",
   "execution_count": 72,
   "id": "bf4bce14-8e6c-4dcc-a29d-c2d0ca3ba16b",
   "metadata": {},
   "outputs": [
    {
     "data": {
      "text/plain": [
       "2"
      ]
     },
     "execution_count": 72,
     "metadata": {},
     "output_type": "execute_result"
    }
   ],
   "source": [
    "5//2"
   ]
  },
  {
   "cell_type": "code",
   "execution_count": 73,
   "id": "2d99eece-8edf-474f-86c0-1cae07d82761",
   "metadata": {},
   "outputs": [
    {
     "data": {
      "text/plain": [
       "32"
      ]
     },
     "execution_count": 73,
     "metadata": {},
     "output_type": "execute_result"
    }
   ],
   "source": [
    "2**5"
   ]
  },
  {
   "cell_type": "code",
   "execution_count": 74,
   "id": "15cc3dc9-699c-4f24-aa11-d70403928f5a",
   "metadata": {},
   "outputs": [
    {
     "data": {
      "text/plain": [
       "27"
      ]
     },
     "execution_count": 74,
     "metadata": {},
     "output_type": "execute_result"
    }
   ],
   "source": [
    "3**3"
   ]
  },
  {
   "cell_type": "code",
   "execution_count": 75,
   "id": "ab714781-b70e-4a68-80a4-3dee53cc5a0c",
   "metadata": {},
   "outputs": [
    {
     "data": {
      "text/plain": [
       "1"
      ]
     },
     "execution_count": 75,
     "metadata": {},
     "output_type": "execute_result"
    }
   ],
   "source": [
    "5%2"
   ]
  },
  {
   "cell_type": "code",
   "execution_count": 76,
   "id": "526e4018-a872-4d39-b7d4-d29bb78b5560",
   "metadata": {},
   "outputs": [
    {
     "data": {
      "text/plain": [
       "2"
      ]
     },
     "execution_count": 76,
     "metadata": {},
     "output_type": "execute_result"
    }
   ],
   "source": [
    "12%5"
   ]
  },
  {
   "cell_type": "code",
   "execution_count": 77,
   "id": "2f3c4f23-8de1-4dce-b56d-0a27a3a46db2",
   "metadata": {},
   "outputs": [
    {
     "data": {
      "text/plain": [
       "2.4"
      ]
     },
     "execution_count": 77,
     "metadata": {},
     "output_type": "execute_result"
    }
   ],
   "source": [
    "12/5"
   ]
  },
  {
   "cell_type": "code",
   "execution_count": 78,
   "id": "3a30b750-2feb-41ed-8660-a79a69dd58e3",
   "metadata": {},
   "outputs": [
    {
     "data": {
      "text/plain": [
       "2"
      ]
     },
     "execution_count": 78,
     "metadata": {},
     "output_type": "execute_result"
    }
   ],
   "source": [
    "12//5"
   ]
  },
  {
   "cell_type": "code",
   "execution_count": null,
   "id": "0c3e9969-3255-4b04-95e2-e4d23ed5cb2f",
   "metadata": {},
   "outputs": [],
   "source": []
  },
  {
   "cell_type": "markdown",
   "id": "ae4a7980-abc0-4796-b708-44e8c109a989",
   "metadata": {},
   "source": [
    "#### Comparison operator"
   ]
  },
  {
   "cell_type": "code",
   "execution_count": 86,
   "id": "e26016e8-8236-4985-90bd-3f0130e7e6af",
   "metadata": {},
   "outputs": [],
   "source": [
    "a = 50\n",
    "b = 40\n",
    "c = -12\n",
    "d = -12"
   ]
  },
  {
   "cell_type": "code",
   "execution_count": 81,
   "id": "69c5a47a-4845-4a89-a053-bd4b0f640c37",
   "metadata": {},
   "outputs": [
    {
     "name": "stdout",
     "output_type": "stream",
     "text": [
      "True\n"
     ]
    }
   ],
   "source": [
    "result = a>b\n",
    "print(result)"
   ]
  },
  {
   "cell_type": "code",
   "execution_count": 82,
   "id": "54611642-4eef-4f33-b866-bce4e2dbfd2d",
   "metadata": {},
   "outputs": [
    {
     "name": "stdout",
     "output_type": "stream",
     "text": [
      "False\n"
     ]
    }
   ],
   "source": [
    "result = a<b\n",
    "print(result)"
   ]
  },
  {
   "cell_type": "code",
   "execution_count": 83,
   "id": "cd8fe5e4-af05-488d-9e55-0a93f43ff6b2",
   "metadata": {},
   "outputs": [
    {
     "data": {
      "text/plain": [
       "False"
      ]
     },
     "execution_count": 83,
     "metadata": {},
     "output_type": "execute_result"
    }
   ],
   "source": [
    "a==b"
   ]
  },
  {
   "cell_type": "code",
   "execution_count": 84,
   "id": "6f988f99-f2d8-4bb1-b38d-b8b2ddc60620",
   "metadata": {},
   "outputs": [
    {
     "data": {
      "text/plain": [
       "True"
      ]
     },
     "execution_count": 84,
     "metadata": {},
     "output_type": "execute_result"
    }
   ],
   "source": [
    "a!=b"
   ]
  },
  {
   "cell_type": "code",
   "execution_count": 85,
   "id": "ad2689ef-d337-4ccf-b846-89f335d2e960",
   "metadata": {},
   "outputs": [
    {
     "data": {
      "text/plain": [
       "True"
      ]
     },
     "execution_count": 85,
     "metadata": {},
     "output_type": "execute_result"
    }
   ],
   "source": [
    "a>=c"
   ]
  },
  {
   "cell_type": "code",
   "execution_count": 87,
   "id": "137db0a9-e803-4a5f-b9e1-8ee62f87991d",
   "metadata": {},
   "outputs": [
    {
     "data": {
      "text/plain": [
       "True"
      ]
     },
     "execution_count": 87,
     "metadata": {},
     "output_type": "execute_result"
    }
   ],
   "source": [
    "c<=b"
   ]
  },
  {
   "cell_type": "code",
   "execution_count": null,
   "id": "cca058e9-fe7a-4c38-951a-8cf9a0c9d75d",
   "metadata": {},
   "outputs": [],
   "source": []
  }
 ],
 "metadata": {
  "kernelspec": {
   "display_name": "Python 3 (ipykernel)",
   "language": "python",
   "name": "python3"
  },
  "language_info": {
   "codemirror_mode": {
    "name": "ipython",
    "version": 3
   },
   "file_extension": ".py",
   "mimetype": "text/x-python",
   "name": "python",
   "nbconvert_exporter": "python",
   "pygments_lexer": "ipython3",
   "version": "3.11.7"
  }
 },
 "nbformat": 4,
 "nbformat_minor": 5
}
