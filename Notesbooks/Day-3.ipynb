{
 "cells": [
  {
   "cell_type": "code",
   "execution_count": 6,
   "id": "a7e8f87e-de4a-4b20-aea6-5c505501f0df",
   "metadata": {},
   "outputs": [],
   "source": [
    "a = [1,2,3,50,5,\"Python\",{10,20,30,\"Jhon\",10,20,30},\"programming\"]"
   ]
  },
  {
   "cell_type": "code",
   "execution_count": 7,
   "id": "4495bd42-944e-4970-9909-0cc4529f413e",
   "metadata": {},
   "outputs": [
    {
     "name": "stdout",
     "output_type": "stream",
     "text": [
      "[1, 2, 3, 50, 5, 'Python', {'Jhon', 10, 20, 30}, 'programming']\n"
     ]
    }
   ],
   "source": [
    "print(a)"
   ]
  },
  {
   "cell_type": "code",
   "execution_count": 8,
   "id": "46cb408c-92c8-44e6-bf3b-523b21344b4b",
   "metadata": {},
   "outputs": [],
   "source": [
    "info = [[\"Jhon\",40,100],[\"Aman\",30,120],[\"Jasper\",20,80]]"
   ]
  },
  {
   "cell_type": "code",
   "execution_count": 9,
   "id": "dd23dd2f-1a76-4717-a3ce-f024f8e057cc",
   "metadata": {},
   "outputs": [
    {
     "data": {
      "text/plain": [
       "[['Jhon', 40, 100], ['Aman', 30, 120], ['Jasper', 20, 80]]"
      ]
     },
     "execution_count": 9,
     "metadata": {},
     "output_type": "execute_result"
    }
   ],
   "source": [
    "info"
   ]
  },
  {
   "cell_type": "code",
   "execution_count": 10,
   "id": "8127302a-08d4-49d6-8721-03aa19920c26",
   "metadata": {},
   "outputs": [],
   "source": [
    "s1 = {1,2,3,4,5,2,1,1,1,1,1,2,2,2,2,3,3,3,3}"
   ]
  },
  {
   "cell_type": "code",
   "execution_count": 11,
   "id": "ba4bbd58-4053-43b8-9478-12027e3bdd46",
   "metadata": {},
   "outputs": [
    {
     "name": "stdout",
     "output_type": "stream",
     "text": [
      "{1, 2, 3, 4, 5}\n"
     ]
    }
   ],
   "source": [
    "print(s1)"
   ]
  },
  {
   "cell_type": "code",
   "execution_count": 12,
   "id": "c55b0857-b77f-498b-ab24-f03c1bb5d477",
   "metadata": {},
   "outputs": [],
   "source": [
    "s2 = {5,2.4,6,0,5.5555,\"A\"}"
   ]
  },
  {
   "cell_type": "code",
   "execution_count": 13,
   "id": "5b20a0a1-8512-4cd3-b9c8-84f3c86de381",
   "metadata": {},
   "outputs": [
    {
     "name": "stdout",
     "output_type": "stream",
     "text": [
      "{0, 2.4, 5, 6, 5.5555, 'A'}\n"
     ]
    }
   ],
   "source": [
    "print(s2)"
   ]
  },
  {
   "cell_type": "code",
   "execution_count": 14,
   "id": "7be36db2-3f2f-4023-a750-f3fcc0a00cb9",
   "metadata": {},
   "outputs": [],
   "source": [
    "d1 = {}"
   ]
  },
  {
   "cell_type": "code",
   "execution_count": 16,
   "id": "702f89ff-62dc-4342-93e7-2c8774991829",
   "metadata": {},
   "outputs": [
    {
     "name": "stdout",
     "output_type": "stream",
     "text": [
      "<class 'dict'>\n"
     ]
    }
   ],
   "source": [
    "print(type(d1))"
   ]
  },
  {
   "cell_type": "code",
   "execution_count": 17,
   "id": "f32028a0-d5c2-4941-831a-b5cbb7d170f1",
   "metadata": {},
   "outputs": [],
   "source": [
    "s3 = set()"
   ]
  },
  {
   "cell_type": "code",
   "execution_count": 18,
   "id": "5c06eec7-24db-462a-8cca-65d3d7baab4b",
   "metadata": {},
   "outputs": [
    {
     "name": "stdout",
     "output_type": "stream",
     "text": [
      "<class 'set'>\n"
     ]
    }
   ],
   "source": [
    "print(type(s3))"
   ]
  },
  {
   "cell_type": "code",
   "execution_count": 19,
   "id": "e7790421-2580-4930-96cd-88d629c81b53",
   "metadata": {},
   "outputs": [],
   "source": [
    "d2 = {\"Name\":\"Jhon\",\"Age\":50,'Height':120}"
   ]
  },
  {
   "cell_type": "code",
   "execution_count": 21,
   "id": "e6c4dbac-d77e-477d-a50a-e7911ae4d32d",
   "metadata": {},
   "outputs": [
    {
     "name": "stdout",
     "output_type": "stream",
     "text": [
      "{'Name': 'Jhon', 'Age': 50, 'Height': 120}\n"
     ]
    }
   ],
   "source": [
    "print(d2)"
   ]
  },
  {
   "cell_type": "markdown",
   "id": "fb960f7e-1c5e-4eac-92f9-a9561c4ce512",
   "metadata": {},
   "source": [
    "***"
   ]
  },
  {
   "cell_type": "code",
   "execution_count": 22,
   "id": "6c611a32-2c73-41d2-9584-50c147326d72",
   "metadata": {},
   "outputs": [],
   "source": [
    "a = 25"
   ]
  },
  {
   "cell_type": "code",
   "execution_count": 26,
   "id": "ed259941-9b0d-48bd-b1f6-c4e0adb3b527",
   "metadata": {},
   "outputs": [
    {
     "data": {
      "text/plain": [
       "25"
      ]
     },
     "execution_count": 26,
     "metadata": {},
     "output_type": "execute_result"
    }
   ],
   "source": [
    "a"
   ]
  },
  {
   "cell_type": "code",
   "execution_count": 23,
   "id": "c4e07383-7575-4a2a-9b0b-55928dbae3df",
   "metadata": {},
   "outputs": [
    {
     "data": {
      "text/plain": [
       "int"
      ]
     },
     "execution_count": 23,
     "metadata": {},
     "output_type": "execute_result"
    }
   ],
   "source": [
    "type(a)"
   ]
  },
  {
   "cell_type": "code",
   "execution_count": 24,
   "id": "2574687c-8599-4290-8c4d-8d02ec91ea17",
   "metadata": {},
   "outputs": [],
   "source": [
    "b = str(a)"
   ]
  },
  {
   "cell_type": "code",
   "execution_count": 25,
   "id": "e19ce1f5-9a32-4136-908e-0e44bf642009",
   "metadata": {},
   "outputs": [
    {
     "data": {
      "text/plain": [
       "str"
      ]
     },
     "execution_count": 25,
     "metadata": {},
     "output_type": "execute_result"
    }
   ],
   "source": [
    "type(b)"
   ]
  },
  {
   "cell_type": "code",
   "execution_count": 27,
   "id": "c06cbcf4-b1fd-4693-8432-8f3a26b35745",
   "metadata": {},
   "outputs": [
    {
     "data": {
      "text/plain": [
       "'25'"
      ]
     },
     "execution_count": 27,
     "metadata": {},
     "output_type": "execute_result"
    }
   ],
   "source": [
    "b"
   ]
  },
  {
   "cell_type": "code",
   "execution_count": 28,
   "id": "1c22a70f-79da-41d0-992a-713b63980db8",
   "metadata": {},
   "outputs": [],
   "source": [
    "c = \"500\""
   ]
  },
  {
   "cell_type": "code",
   "execution_count": 29,
   "id": "7d6733e6-e24b-4f3b-b52f-6d526461b29d",
   "metadata": {},
   "outputs": [],
   "source": [
    "d = int(c)"
   ]
  },
  {
   "cell_type": "code",
   "execution_count": 30,
   "id": "e5b5df8b-89dc-4d23-830d-88fd2568c415",
   "metadata": {},
   "outputs": [
    {
     "data": {
      "text/plain": [
       "(str, int)"
      ]
     },
     "execution_count": 30,
     "metadata": {},
     "output_type": "execute_result"
    }
   ],
   "source": [
    "type(c),type(d)"
   ]
  },
  {
   "cell_type": "code",
   "execution_count": 31,
   "id": "4136e2d5-fa09-4d30-9fab-86ffa853e03e",
   "metadata": {},
   "outputs": [],
   "source": [
    "x = \"600p\""
   ]
  },
  {
   "cell_type": "code",
   "execution_count": 32,
   "id": "26177e4a-3607-4462-87c4-afed7dca0533",
   "metadata": {},
   "outputs": [
    {
     "ename": "ValueError",
     "evalue": "invalid literal for int() with base 10: '600p'",
     "output_type": "error",
     "traceback": [
      "\u001b[1;31m---------------------------------------------------------------------------\u001b[0m",
      "\u001b[1;31mValueError\u001b[0m                                Traceback (most recent call last)",
      "Cell \u001b[1;32mIn[32], line 1\u001b[0m\n\u001b[1;32m----> 1\u001b[0m y \u001b[38;5;241m=\u001b[39m \u001b[38;5;28mint\u001b[39m(x)\n",
      "\u001b[1;31mValueError\u001b[0m: invalid literal for int() with base 10: '600p'"
     ]
    }
   ],
   "source": [
    "y = int(x)"
   ]
  },
  {
   "cell_type": "code",
   "execution_count": 33,
   "id": "69887085-377a-4f86-84c6-f297fd1d92d5",
   "metadata": {},
   "outputs": [],
   "source": [
    "p = 100.56"
   ]
  },
  {
   "cell_type": "code",
   "execution_count": 34,
   "id": "db17ce5a-f977-4c77-990b-f7444e236c61",
   "metadata": {},
   "outputs": [],
   "source": [
    "q = int(p)"
   ]
  },
  {
   "cell_type": "code",
   "execution_count": 35,
   "id": "fbb86184-c601-415f-8faf-a92d3713f377",
   "metadata": {},
   "outputs": [
    {
     "data": {
      "text/plain": [
       "100.56"
      ]
     },
     "execution_count": 35,
     "metadata": {},
     "output_type": "execute_result"
    }
   ],
   "source": [
    "p"
   ]
  },
  {
   "cell_type": "code",
   "execution_count": 36,
   "id": "377e0722-9ddc-4c9d-93f8-9aca18e7746e",
   "metadata": {},
   "outputs": [
    {
     "data": {
      "text/plain": [
       "100"
      ]
     },
     "execution_count": 36,
     "metadata": {},
     "output_type": "execute_result"
    }
   ],
   "source": [
    "q"
   ]
  },
  {
   "cell_type": "code",
   "execution_count": 37,
   "id": "be1a806f-a51c-4339-9618-14253af55acf",
   "metadata": {},
   "outputs": [],
   "source": [
    "g = 400"
   ]
  },
  {
   "cell_type": "code",
   "execution_count": 38,
   "id": "3f201215-7874-4cfe-91f0-cce3d160fb30",
   "metadata": {},
   "outputs": [],
   "source": [
    "h = float(g)"
   ]
  },
  {
   "cell_type": "code",
   "execution_count": 39,
   "id": "31346439-b9c5-437d-9c04-67883541c8d8",
   "metadata": {},
   "outputs": [
    {
     "data": {
      "text/plain": [
       "400.0"
      ]
     },
     "execution_count": 39,
     "metadata": {},
     "output_type": "execute_result"
    }
   ],
   "source": [
    "h"
   ]
  },
  {
   "cell_type": "code",
   "execution_count": 46,
   "id": "778a4d2e-088d-47cd-8051-32c2c1c85aa0",
   "metadata": {},
   "outputs": [],
   "source": [
    "l = [1,2,3,4,5,1,2,3,4,5,6]"
   ]
  },
  {
   "cell_type": "code",
   "execution_count": 47,
   "id": "db27fbe2-13e2-42e0-952e-222d2a298cae",
   "metadata": {},
   "outputs": [],
   "source": [
    "t = tuple(l)"
   ]
  },
  {
   "cell_type": "code",
   "execution_count": 48,
   "id": "a90bc5c6-6985-4682-9c48-12615765f7d4",
   "metadata": {},
   "outputs": [
    {
     "data": {
      "text/plain": [
       "(1, 2, 3, 4, 5, 1, 2, 3, 4, 5, 6)"
      ]
     },
     "execution_count": 48,
     "metadata": {},
     "output_type": "execute_result"
    }
   ],
   "source": [
    "t"
   ]
  },
  {
   "cell_type": "code",
   "execution_count": 49,
   "id": "c509c5e8-4676-484a-b3b0-57f40c82fc10",
   "metadata": {},
   "outputs": [
    {
     "data": {
      "text/plain": [
       "(list, tuple)"
      ]
     },
     "execution_count": 49,
     "metadata": {},
     "output_type": "execute_result"
    }
   ],
   "source": [
    "type(l),type(t)"
   ]
  },
  {
   "cell_type": "code",
   "execution_count": 50,
   "id": "6e1a6111-bc2c-4329-a787-1ff01325dd62",
   "metadata": {},
   "outputs": [],
   "source": [
    "s = set(l)"
   ]
  },
  {
   "cell_type": "code",
   "execution_count": 51,
   "id": "9ed10eab-dd83-448c-bcbf-a6dab971115c",
   "metadata": {},
   "outputs": [
    {
     "data": {
      "text/plain": [
       "{1, 2, 3, 4, 5, 6}"
      ]
     },
     "execution_count": 51,
     "metadata": {},
     "output_type": "execute_result"
    }
   ],
   "source": [
    "s"
   ]
  },
  {
   "cell_type": "code",
   "execution_count": 52,
   "id": "4778b2eb-8932-492e-9653-dd27c1edfe02",
   "metadata": {},
   "outputs": [
    {
     "data": {
      "text/plain": [
       "[1, 2, 3, 4, 5, 1, 2, 3, 4, 5, 6]"
      ]
     },
     "execution_count": 52,
     "metadata": {},
     "output_type": "execute_result"
    }
   ],
   "source": [
    "l"
   ]
  },
  {
   "cell_type": "code",
   "execution_count": 53,
   "id": "287af180-ea7e-4547-a8eb-7d3a18d81b93",
   "metadata": {},
   "outputs": [
    {
     "ename": "TypeError",
     "evalue": "cannot convert dictionary update sequence element #0 to a sequence",
     "output_type": "error",
     "traceback": [
      "\u001b[1;31m---------------------------------------------------------------------------\u001b[0m",
      "\u001b[1;31mTypeError\u001b[0m                                 Traceback (most recent call last)",
      "Cell \u001b[1;32mIn[53], line 1\u001b[0m\n\u001b[1;32m----> 1\u001b[0m d \u001b[38;5;241m=\u001b[39m \u001b[38;5;28mdict\u001b[39m(l)\n",
      "\u001b[1;31mTypeError\u001b[0m: cannot convert dictionary update sequence element #0 to a sequence"
     ]
    }
   ],
   "source": [
    "d = dict(l)"
   ]
  },
  {
   "cell_type": "markdown",
   "id": "a1f2111a-2708-458a-a685-18593af5ade3",
   "metadata": {},
   "source": [
    "***"
   ]
  },
  {
   "cell_type": "markdown",
   "id": "3a53a286-0bf0-4b74-a99e-b76bcfa125f1",
   "metadata": {},
   "source": [
    "### Input amd Output"
   ]
  },
  {
   "cell_type": "code",
   "execution_count": 54,
   "id": "25fbf5a0-9336-4a23-bb0a-733822f6a27f",
   "metadata": {},
   "outputs": [
    {
     "name": "stdin",
     "output_type": "stream",
     "text": [
      "Enter your age 60\n"
     ]
    }
   ],
   "source": [
    "age = input(\"Enter your age\")"
   ]
  },
  {
   "cell_type": "code",
   "execution_count": 55,
   "id": "2fa8b76d-125c-45b0-bd69-e0c8f4f3a5ba",
   "metadata": {},
   "outputs": [
    {
     "data": {
      "text/plain": [
       "'60'"
      ]
     },
     "execution_count": 55,
     "metadata": {},
     "output_type": "execute_result"
    }
   ],
   "source": [
    "age"
   ]
  },
  {
   "cell_type": "code",
   "execution_count": 56,
   "id": "376617f4-d2cb-4845-a2a2-a7e40d267435",
   "metadata": {},
   "outputs": [
    {
     "data": {
      "text/plain": [
       "str"
      ]
     },
     "execution_count": 56,
     "metadata": {},
     "output_type": "execute_result"
    }
   ],
   "source": [
    "type(age)"
   ]
  },
  {
   "cell_type": "code",
   "execution_count": 57,
   "id": "d35f9495-8859-4aa6-a6c7-2f0db7d1d306",
   "metadata": {},
   "outputs": [],
   "source": [
    "age = int(age)"
   ]
  },
  {
   "cell_type": "code",
   "execution_count": 58,
   "id": "94f368fc-d265-4e2f-82bf-a4d0f19f8a5d",
   "metadata": {},
   "outputs": [
    {
     "data": {
      "text/plain": [
       "int"
      ]
     },
     "execution_count": 58,
     "metadata": {},
     "output_type": "execute_result"
    }
   ],
   "source": [
    "type(age)"
   ]
  },
  {
   "cell_type": "code",
   "execution_count": 59,
   "id": "3979d5ce-ae5a-4033-8f33-db22ff49ef52",
   "metadata": {},
   "outputs": [],
   "source": [
    "name = \"Jhon\"\n",
    "age = 50"
   ]
  },
  {
   "cell_type": "code",
   "execution_count": 60,
   "id": "0346cb1a-533c-4948-8412-ae7b3d281332",
   "metadata": {},
   "outputs": [
    {
     "name": "stdout",
     "output_type": "stream",
     "text": [
      "Jhon 50\n"
     ]
    }
   ],
   "source": [
    "print(name,age)"
   ]
  },
  {
   "cell_type": "code",
   "execution_count": 63,
   "id": "31c83894-b40a-4ba3-a209-b7f965fb2bf1",
   "metadata": {},
   "outputs": [
    {
     "name": "stdout",
     "output_type": "stream",
     "text": [
      "Jhon\n",
      "\n",
      "50\n"
     ]
    }
   ],
   "source": [
    "print(name)\n",
    "print()\n",
    "print(age)"
   ]
  },
  {
   "cell_type": "code",
   "execution_count": 66,
   "id": "22899f29-23cd-41df-a8e9-7af763e9a922",
   "metadata": {},
   "outputs": [
    {
     "name": "stdout",
     "output_type": "stream",
     "text": [
      "Jhon,50\n"
     ]
    }
   ],
   "source": [
    "print(name,age,sep=\",\")"
   ]
  },
  {
   "cell_type": "code",
   "execution_count": 67,
   "id": "9042f7f5-6fcb-4730-a94a-5f9fdc0a0349",
   "metadata": {},
   "outputs": [
    {
     "name": "stdout",
     "output_type": "stream",
     "text": [
      "Jhon@50\n"
     ]
    }
   ],
   "source": [
    "print(name,age,sep=\"@\")"
   ]
  },
  {
   "cell_type": "code",
   "execution_count": 69,
   "id": "85f9595f-d24d-4363-849e-c724a589f09e",
   "metadata": {},
   "outputs": [
    {
     "name": "stdout",
     "output_type": "stream",
     "text": [
      "Jhon Python\n",
      "50\n"
     ]
    }
   ],
   "source": [
    "print(name,end=\" \")\n",
    "print(\"Python\")\n",
    "print(age)"
   ]
  },
  {
   "cell_type": "code",
   "execution_count": 78,
   "id": "238e1b0d-5ce0-441b-881d-2d52dcfdac34",
   "metadata": {},
   "outputs": [],
   "source": [
    "first_name = \"Aman\"\n",
    "last_name = \"Shrivastava\""
   ]
  },
  {
   "cell_type": "code",
   "execution_count": 79,
   "id": "74a02fcc-69cd-481a-a178-02a7e84b131c",
   "metadata": {},
   "outputs": [],
   "source": [
    "name = first_name+\" \"+last_name"
   ]
  },
  {
   "cell_type": "code",
   "execution_count": 80,
   "id": "dc6d3145-e270-4ef2-8a30-8a5130b3b8f1",
   "metadata": {},
   "outputs": [
    {
     "name": "stdout",
     "output_type": "stream",
     "text": [
      "Aman Shrivastava\n"
     ]
    }
   ],
   "source": [
    "print(name)"
   ]
  },
  {
   "cell_type": "code",
   "execution_count": 81,
   "id": "1a4d3485-df0d-4470-a968-5e0ddad72222",
   "metadata": {},
   "outputs": [
    {
     "name": "stdout",
     "output_type": "stream",
     "text": [
      "Aman Shrivastava\n"
     ]
    }
   ],
   "source": [
    "print(first_name,last_name)"
   ]
  },
  {
   "cell_type": "code",
   "execution_count": 82,
   "id": "93d4dca0-1e41-4cac-9621-5796f6833d0d",
   "metadata": {},
   "outputs": [],
   "source": [
    "age = 40"
   ]
  },
  {
   "cell_type": "code",
   "execution_count": 83,
   "id": "3da1f184-b179-4970-832e-3fe6edc3132c",
   "metadata": {},
   "outputs": [
    {
     "name": "stdout",
     "output_type": "stream",
     "text": [
      "My name is  Aman Shrivastava and my age is  40\n"
     ]
    }
   ],
   "source": [
    "print(\"My name is \",first_name,last_name,\"and my age is \",age)"
   ]
  },
  {
   "cell_type": "code",
   "execution_count": 85,
   "id": "f426c723-c92e-425a-aa13-a44c259206d8",
   "metadata": {},
   "outputs": [
    {
     "name": "stdout",
     "output_type": "stream",
     "text": [
      "My name is Aman Shrivastava and my age is 40\n"
     ]
    }
   ],
   "source": [
    "print(\"My name is \"+first_name+\" \"+last_name+\" and my age is \"+str(age))"
   ]
  },
  {
   "cell_type": "code",
   "execution_count": 87,
   "id": "a7cfe6e3-f0f9-4fc5-a393-f62ec9eafc4a",
   "metadata": {},
   "outputs": [
    {
     "data": {
      "text/plain": [
       "'Python500'"
      ]
     },
     "execution_count": 87,
     "metadata": {},
     "output_type": "execute_result"
    }
   ],
   "source": [
    "\"Python\"+str(500)"
   ]
  },
  {
   "cell_type": "code",
   "execution_count": 88,
   "id": "86f6116d-3ea9-4f97-9329-a611b67e4aec",
   "metadata": {},
   "outputs": [],
   "source": [
    "a,b,c = 10,20,40"
   ]
  },
  {
   "cell_type": "code",
   "execution_count": 90,
   "id": "edf5a2ab-1ce3-4c23-b007-ec5840cd621c",
   "metadata": {},
   "outputs": [
    {
     "name": "stdout",
     "output_type": "stream",
     "text": [
      "10,20,40\n"
     ]
    }
   ],
   "source": [
    "print(a,b,c,sep=',')"
   ]
  },
  {
   "cell_type": "code",
   "execution_count": 91,
   "id": "8b8135a6-7bc7-44d6-831f-97907aac2bce",
   "metadata": {},
   "outputs": [
    {
     "name": "stdin",
     "output_type": "stream",
     "text": [
      "Enter your name Jhon\n"
     ]
    },
    {
     "name": "stdout",
     "output_type": "stream",
     "text": [
      "Jhon\n"
     ]
    }
   ],
   "source": [
    "print(input(\"Enter your name\"))"
   ]
  },
  {
   "cell_type": "code",
   "execution_count": 92,
   "id": "17e99e34-e477-4df1-a695-f9859c6bff99",
   "metadata": {},
   "outputs": [],
   "source": [
    "a = '500'"
   ]
  },
  {
   "cell_type": "code",
   "execution_count": 94,
   "id": "95369667-804a-4f8a-bc81-a53c1d04295f",
   "metadata": {},
   "outputs": [
    {
     "name": "stdout",
     "output_type": "stream",
     "text": [
      "500\n"
     ]
    }
   ],
   "source": [
    "print(a)"
   ]
  },
  {
   "cell_type": "code",
   "execution_count": 95,
   "id": "6d9ab896-834e-402b-8fdc-6f5c56dc9507",
   "metadata": {},
   "outputs": [
    {
     "data": {
      "text/plain": [
       "500"
      ]
     },
     "execution_count": 95,
     "metadata": {},
     "output_type": "execute_result"
    }
   ],
   "source": [
    "int(a)"
   ]
  },
  {
   "cell_type": "code",
   "execution_count": 96,
   "id": "3b131ae5-4643-4189-aaa7-ce606d9892da",
   "metadata": {},
   "outputs": [
    {
     "data": {
      "text/plain": [
       "500.0"
      ]
     },
     "execution_count": 96,
     "metadata": {},
     "output_type": "execute_result"
    }
   ],
   "source": [
    "float(a)"
   ]
  },
  {
   "cell_type": "markdown",
   "id": "67fd02f3-9990-4ff7-93e1-5efa3549b11e",
   "metadata": {},
   "source": [
    "***"
   ]
  },
  {
   "cell_type": "markdown",
   "id": "c5838e4d-9219-4732-92bb-a94925c86a4f",
   "metadata": {},
   "source": [
    "## String Formating"
   ]
  },
  {
   "cell_type": "code",
   "execution_count": 97,
   "id": "113de2eb-ff2d-4f55-bd3a-350fb19667ec",
   "metadata": {},
   "outputs": [],
   "source": [
    "name = \"Jhon\"\n",
    "age = 50"
   ]
  },
  {
   "cell_type": "code",
   "execution_count": 100,
   "id": "8e5db11d-e18f-42fe-b97f-1f55eb7f96b0",
   "metadata": {},
   "outputs": [
    {
     "name": "stdout",
     "output_type": "stream",
     "text": [
      "My name is Jhon and my age is 50\n"
     ]
    }
   ],
   "source": [
    "print(\"My name is \"+name+\" and my age is \"+str(age))"
   ]
  },
  {
   "cell_type": "code",
   "execution_count": 107,
   "id": "b85ae8f9-e3fe-4a48-a882-5b0752d09083",
   "metadata": {},
   "outputs": [
    {
     "name": "stdout",
     "output_type": "stream",
     "text": [
      "My name is Jhon and my age is 50\n"
     ]
    }
   ],
   "source": [
    "print(\"My name is {1} and my age is {0}\".format(age,name))"
   ]
  },
  {
   "cell_type": "code",
   "execution_count": 114,
   "id": "a203a982-44b9-4a5c-87e5-bc3055d6e36d",
   "metadata": {},
   "outputs": [
    {
     "name": "stdout",
     "output_type": "stream",
     "text": [
      "My name is    Jhon    and my age is     50    \n"
     ]
    }
   ],
   "source": [
    "print('My name is {n:^10} and my age is {a:^10}'.format(a=age,n=name))"
   ]
  },
  {
   "cell_type": "code",
   "execution_count": null,
   "id": "91563b34-83d3-4609-b603-030adf42f4ea",
   "metadata": {},
   "outputs": [],
   "source": []
  },
  {
   "cell_type": "code",
   "execution_count": null,
   "id": "e0e6b5a8-a5f4-476d-8be9-25c886e79622",
   "metadata": {},
   "outputs": [],
   "source": []
  },
  {
   "cell_type": "code",
   "execution_count": null,
   "id": "ea07addf-7045-448e-aac0-edca78b13ef7",
   "metadata": {},
   "outputs": [],
   "source": []
  },
  {
   "cell_type": "code",
   "execution_count": null,
   "id": "25a05450-5e17-444b-bd71-2bd702139442",
   "metadata": {},
   "outputs": [],
   "source": []
  },
  {
   "cell_type": "code",
   "execution_count": null,
   "id": "9b22fe0f-303b-4c2d-9d34-570e6f45f3db",
   "metadata": {},
   "outputs": [],
   "source": []
  },
  {
   "cell_type": "code",
   "execution_count": null,
   "id": "b123f3d0-9531-49e7-a71e-8fa27eeb3232",
   "metadata": {},
   "outputs": [],
   "source": []
  },
  {
   "cell_type": "code",
   "execution_count": null,
   "id": "fe0594d3-79a3-4ce1-80e3-b407f211dde4",
   "metadata": {},
   "outputs": [],
   "source": []
  },
  {
   "cell_type": "code",
   "execution_count": null,
   "id": "13a600da-bb34-4159-90f2-f99580d21911",
   "metadata": {},
   "outputs": [],
   "source": []
  },
  {
   "cell_type": "code",
   "execution_count": null,
   "id": "6a309bde-1b3b-4e7a-a279-0a66724daf87",
   "metadata": {},
   "outputs": [],
   "source": []
  }
 ],
 "metadata": {
  "kernelspec": {
   "display_name": "Python 3 (ipykernel)",
   "language": "python",
   "name": "python3"
  },
  "language_info": {
   "codemirror_mode": {
    "name": "ipython",
    "version": 3
   },
   "file_extension": ".py",
   "mimetype": "text/x-python",
   "name": "python",
   "nbconvert_exporter": "python",
   "pygments_lexer": "ipython3",
   "version": "3.11.7"
  }
 },
 "nbformat": 4,
 "nbformat_minor": 5
}
