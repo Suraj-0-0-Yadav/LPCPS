{
 "cells": [
  {
   "cell_type": "markdown",
   "id": "26319ffb-290b-4177-8d7d-d575e588611a",
   "metadata": {},
   "source": [
    "Visit day 7 notebook:\n",
    " - With Tuple Section"
   ]
  },
  {
   "cell_type": "code",
   "execution_count": null,
   "id": "9599791b-3226-47c5-836a-532037c9cc3e",
   "metadata": {},
   "outputs": [],
   "source": []
  }
 ],
 "metadata": {
  "kernelspec": {
   "display_name": "Python 3 (ipykernel)",
   "language": "python",
   "name": "python3"
  },
  "language_info": {
   "codemirror_mode": {
    "name": "ipython",
    "version": 3
   },
   "file_extension": ".py",
   "mimetype": "text/x-python",
   "name": "python",
   "nbconvert_exporter": "python",
   "pygments_lexer": "ipython3",
   "version": "3.11.7"
  }
 },
 "nbformat": 4,
 "nbformat_minor": 5
}
